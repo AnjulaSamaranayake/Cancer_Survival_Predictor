{
 "cells": [
  {
   "cell_type": "code",
   "execution_count": 1,
   "id": "60b086643cf3aa56",
   "metadata": {
    "ExecuteTime": {
     "end_time": "2025-08-12T15:33:39.259714Z",
     "start_time": "2025-08-12T15:33:35.948728Z"
    }
   },
   "outputs": [
    {
     "name": "stdout",
     "output_type": "stream",
     "text": [
      "Requirement already satisfied: pandas in c:\\users\\anjula\\appdata\\local\\programs\\python\\python311\\lib\\site-packages (2.2.3)\n",
      "Requirement already satisfied: numpy>=1.23.2 in c:\\users\\anjula\\appdata\\local\\programs\\python\\python311\\lib\\site-packages (from pandas) (2.2.2)\n",
      "Requirement already satisfied: python-dateutil>=2.8.2 in c:\\users\\anjula\\appdata\\local\\programs\\python\\python311\\lib\\site-packages (from pandas) (2.9.0.post0)\n",
      "Requirement already satisfied: pytz>=2020.1 in c:\\users\\anjula\\appdata\\local\\programs\\python\\python311\\lib\\site-packages (from pandas) (2025.1)\n",
      "Requirement already satisfied: tzdata>=2022.7 in c:\\users\\anjula\\appdata\\local\\programs\\python\\python311\\lib\\site-packages (from pandas) (2025.1)\n",
      "Requirement already satisfied: six>=1.5 in c:\\users\\anjula\\appdata\\local\\programs\\python\\python311\\lib\\site-packages (from python-dateutil>=2.8.2->pandas) (1.17.0)\n"
     ]
    },
    {
     "name": "stderr",
     "output_type": "stream",
     "text": [
      "\n",
      "[notice] A new release of pip available: 22.3.1 -> 25.2\n",
      "[notice] To update, run: python.exe -m pip install --upgrade pip\n"
     ]
    }
   ],
   "source": [
    "!pip install pandas"
   ]
  },
  {
   "cell_type": "code",
   "execution_count": 2,
   "id": "44ac6fd46771e426",
   "metadata": {
    "ExecuteTime": {
     "end_time": "2025-08-12T15:33:39.739344Z",
     "start_time": "2025-08-12T15:33:39.307511Z"
    }
   },
   "outputs": [],
   "source": [
    "import pandas as pd\n",
    "data = pd.read_csv('.\\datasets\\Cancer.csv')"
   ]
  },
  {
   "cell_type": "code",
   "execution_count": 3,
   "id": "33076f5f0e9555bc",
   "metadata": {
    "ExecuteTime": {
     "end_time": "2025-08-12T15:33:39.787295Z",
     "start_time": "2025-08-12T15:33:39.757195Z"
    }
   },
   "outputs": [
    {
     "data": {
      "text/html": [
       "<div>\n",
       "<style scoped>\n",
       "    .dataframe tbody tr th:only-of-type {\n",
       "        vertical-align: middle;\n",
       "    }\n",
       "\n",
       "    .dataframe tbody tr th {\n",
       "        vertical-align: top;\n",
       "    }\n",
       "\n",
       "    .dataframe thead th {\n",
       "        text-align: right;\n",
       "    }\n",
       "</style>\n",
       "<table border=\"1\" class=\"dataframe\">\n",
       "  <thead>\n",
       "    <tr style=\"text-align: right;\">\n",
       "      <th></th>\n",
       "      <th>Patient_ID</th>\n",
       "      <th>Month_of_Birth</th>\n",
       "      <th>Age</th>\n",
       "      <th>Sex</th>\n",
       "      <th>Occupation</th>\n",
       "      <th>T_Stage</th>\n",
       "      <th>N_Stage</th>\n",
       "      <th>6th_Stage</th>\n",
       "      <th>Differentiated</th>\n",
       "      <th>Grade</th>\n",
       "      <th>A_Stage</th>\n",
       "      <th>Tumor_Size</th>\n",
       "      <th>Estrogen_Status</th>\n",
       "      <th>Progesterone_Status</th>\n",
       "      <th>Regional_Node_Examined</th>\n",
       "      <th>Reginol_Node_Positive</th>\n",
       "      <th>Survival_Months</th>\n",
       "      <th>Mortality_Status</th>\n",
       "    </tr>\n",
       "  </thead>\n",
       "  <tbody>\n",
       "    <tr>\n",
       "      <th>0</th>\n",
       "      <td>A0012</td>\n",
       "      <td>12</td>\n",
       "      <td>68.0</td>\n",
       "      <td>Female</td>\n",
       "      <td>Teaching</td>\n",
       "      <td>T1</td>\n",
       "      <td>N1</td>\n",
       "      <td>IIA</td>\n",
       "      <td>Poorly differentiated</td>\n",
       "      <td>3</td>\n",
       "      <td>Regional</td>\n",
       "      <td>4.0</td>\n",
       "      <td>Positive</td>\n",
       "      <td>Positive</td>\n",
       "      <td>24.0</td>\n",
       "      <td>1</td>\n",
       "      <td>60</td>\n",
       "      <td>Alive</td>\n",
       "    </tr>\n",
       "    <tr>\n",
       "      <th>1</th>\n",
       "      <td>A0013</td>\n",
       "      <td>12</td>\n",
       "      <td>50.0</td>\n",
       "      <td>Female</td>\n",
       "      <td>Medical</td>\n",
       "      <td>T2</td>\n",
       "      <td>N2</td>\n",
       "      <td>IIIA</td>\n",
       "      <td>Moderately differentiated</td>\n",
       "      <td>2</td>\n",
       "      <td>Regional</td>\n",
       "      <td>35.0</td>\n",
       "      <td>Positive</td>\n",
       "      <td>Positive</td>\n",
       "      <td>14.0</td>\n",
       "      <td>5</td>\n",
       "      <td>62</td>\n",
       "      <td>Alive</td>\n",
       "    </tr>\n",
       "    <tr>\n",
       "      <th>2</th>\n",
       "      <td>A0014</td>\n",
       "      <td>11</td>\n",
       "      <td>58.0</td>\n",
       "      <td>Female</td>\n",
       "      <td>Engineering</td>\n",
       "      <td>T3</td>\n",
       "      <td>N3</td>\n",
       "      <td>IIIC</td>\n",
       "      <td>Moderately differentiated</td>\n",
       "      <td>2</td>\n",
       "      <td>Regional</td>\n",
       "      <td>63.0</td>\n",
       "      <td>Positive</td>\n",
       "      <td>Positive</td>\n",
       "      <td>14.0</td>\n",
       "      <td>7</td>\n",
       "      <td>75</td>\n",
       "      <td>Alive</td>\n",
       "    </tr>\n",
       "    <tr>\n",
       "      <th>3</th>\n",
       "      <td>A0015</td>\n",
       "      <td>3</td>\n",
       "      <td>58.0</td>\n",
       "      <td>Female</td>\n",
       "      <td>Technology</td>\n",
       "      <td>T1</td>\n",
       "      <td>N1</td>\n",
       "      <td>IIA</td>\n",
       "      <td>Poorly differentiated</td>\n",
       "      <td>3</td>\n",
       "      <td>Regional</td>\n",
       "      <td>18.0</td>\n",
       "      <td>Positive</td>\n",
       "      <td>Positive</td>\n",
       "      <td>2.0</td>\n",
       "      <td>1</td>\n",
       "      <td>84</td>\n",
       "      <td>Alive</td>\n",
       "    </tr>\n",
       "    <tr>\n",
       "      <th>4</th>\n",
       "      <td>A0016</td>\n",
       "      <td>1</td>\n",
       "      <td>47.0</td>\n",
       "      <td>Female</td>\n",
       "      <td>Multimedia</td>\n",
       "      <td>T2</td>\n",
       "      <td>N1</td>\n",
       "      <td>IIB</td>\n",
       "      <td>Poorly differentiated</td>\n",
       "      <td>3</td>\n",
       "      <td>Regional</td>\n",
       "      <td>41.0</td>\n",
       "      <td>Positive</td>\n",
       "      <td>Positive</td>\n",
       "      <td>3.0</td>\n",
       "      <td>1</td>\n",
       "      <td>50</td>\n",
       "      <td>Alive</td>\n",
       "    </tr>\n",
       "    <tr>\n",
       "      <th>5</th>\n",
       "      <td>A0017</td>\n",
       "      <td>2</td>\n",
       "      <td>51.0</td>\n",
       "      <td>Female</td>\n",
       "      <td>Research</td>\n",
       "      <td>T1</td>\n",
       "      <td>N1</td>\n",
       "      <td>IIA</td>\n",
       "      <td>Moderately differentiated</td>\n",
       "      <td>2</td>\n",
       "      <td>Regional</td>\n",
       "      <td>20.0</td>\n",
       "      <td>Positive</td>\n",
       "      <td>Positive</td>\n",
       "      <td>18.0</td>\n",
       "      <td>2</td>\n",
       "      <td>89</td>\n",
       "      <td>Alive</td>\n",
       "    </tr>\n",
       "    <tr>\n",
       "      <th>6</th>\n",
       "      <td>A0018</td>\n",
       "      <td>5</td>\n",
       "      <td>51.0</td>\n",
       "      <td>Female</td>\n",
       "      <td>House Person</td>\n",
       "      <td>T1</td>\n",
       "      <td>N1</td>\n",
       "      <td>IIA</td>\n",
       "      <td>Well differentiated</td>\n",
       "      <td>1</td>\n",
       "      <td>Regional</td>\n",
       "      <td>8.0</td>\n",
       "      <td>Positive</td>\n",
       "      <td>Positive</td>\n",
       "      <td>11.0</td>\n",
       "      <td>1</td>\n",
       "      <td>54</td>\n",
       "      <td>Alive</td>\n",
       "    </tr>\n",
       "    <tr>\n",
       "      <th>7</th>\n",
       "      <td>A0019</td>\n",
       "      <td>4</td>\n",
       "      <td>40.0</td>\n",
       "      <td>Female</td>\n",
       "      <td>Reporting</td>\n",
       "      <td>T2</td>\n",
       "      <td>N1</td>\n",
       "      <td>IIB</td>\n",
       "      <td>Moderately differentiated</td>\n",
       "      <td>2</td>\n",
       "      <td>Regional</td>\n",
       "      <td>30.0</td>\n",
       "      <td>Positive</td>\n",
       "      <td>Positive</td>\n",
       "      <td>9.0</td>\n",
       "      <td>1</td>\n",
       "      <td>14</td>\n",
       "      <td>Dead</td>\n",
       "    </tr>\n",
       "    <tr>\n",
       "      <th>8</th>\n",
       "      <td>A0020</td>\n",
       "      <td>6</td>\n",
       "      <td>40.0</td>\n",
       "      <td>Female</td>\n",
       "      <td>Development</td>\n",
       "      <td>T4</td>\n",
       "      <td>N3</td>\n",
       "      <td>IIIC</td>\n",
       "      <td>Poorly differentiated</td>\n",
       "      <td>3</td>\n",
       "      <td>Regional</td>\n",
       "      <td>103.0</td>\n",
       "      <td>Positive</td>\n",
       "      <td>Positive</td>\n",
       "      <td>20.0</td>\n",
       "      <td>18</td>\n",
       "      <td>70</td>\n",
       "      <td>Alive</td>\n",
       "    </tr>\n",
       "    <tr>\n",
       "      <th>9</th>\n",
       "      <td>A0021</td>\n",
       "      <td>4</td>\n",
       "      <td>69.0</td>\n",
       "      <td>Female</td>\n",
       "      <td>Construction</td>\n",
       "      <td>T4</td>\n",
       "      <td>N3</td>\n",
       "      <td>IIIC</td>\n",
       "      <td>Well differentiated</td>\n",
       "      <td>1</td>\n",
       "      <td>Distant</td>\n",
       "      <td>32.0</td>\n",
       "      <td>Positive</td>\n",
       "      <td>Positive</td>\n",
       "      <td>21.0</td>\n",
       "      <td>12</td>\n",
       "      <td>92</td>\n",
       "      <td>Alive</td>\n",
       "    </tr>\n",
       "  </tbody>\n",
       "</table>\n",
       "</div>"
      ],
      "text/plain": [
       "  Patient_ID  Month_of_Birth   Age     Sex    Occupation T_Stage N_Stage  \\\n",
       "0      A0012              12  68.0  Female      Teaching      T1      N1   \n",
       "1      A0013              12  50.0  Female       Medical      T2      N2   \n",
       "2      A0014              11  58.0  Female   Engineering      T3      N3   \n",
       "3      A0015               3  58.0  Female    Technology      T1      N1   \n",
       "4      A0016               1  47.0  Female    Multimedia      T2      N1   \n",
       "5      A0017               2  51.0  Female      Research      T1      N1   \n",
       "6      A0018               5  51.0  Female  House Person      T1      N1   \n",
       "7      A0019               4  40.0  Female     Reporting      T2      N1   \n",
       "8      A0020               6  40.0  Female   Development      T4      N3   \n",
       "9      A0021               4  69.0  Female  Construction      T4      N3   \n",
       "\n",
       "  6th_Stage             Differentiated  Grade   A_Stage  Tumor_Size  \\\n",
       "0       IIA      Poorly differentiated      3  Regional         4.0   \n",
       "1      IIIA  Moderately differentiated      2  Regional        35.0   \n",
       "2      IIIC  Moderately differentiated      2  Regional        63.0   \n",
       "3       IIA      Poorly differentiated      3  Regional        18.0   \n",
       "4       IIB      Poorly differentiated      3  Regional        41.0   \n",
       "5       IIA  Moderately differentiated      2  Regional        20.0   \n",
       "6       IIA        Well differentiated      1  Regional         8.0   \n",
       "7       IIB  Moderately differentiated      2  Regional        30.0   \n",
       "8      IIIC      Poorly differentiated      3  Regional       103.0   \n",
       "9      IIIC        Well differentiated      1   Distant        32.0   \n",
       "\n",
       "  Estrogen_Status Progesterone_Status  Regional_Node_Examined  \\\n",
       "0        Positive            Positive                    24.0   \n",
       "1        Positive            Positive                    14.0   \n",
       "2        Positive            Positive                    14.0   \n",
       "3        Positive            Positive                     2.0   \n",
       "4        Positive            Positive                     3.0   \n",
       "5        Positive            Positive                    18.0   \n",
       "6        Positive            Positive                    11.0   \n",
       "7        Positive            Positive                     9.0   \n",
       "8        Positive            Positive                    20.0   \n",
       "9        Positive            Positive                    21.0   \n",
       "\n",
       "   Reginol_Node_Positive  Survival_Months Mortality_Status  \n",
       "0                      1               60            Alive  \n",
       "1                      5               62            Alive  \n",
       "2                      7               75            Alive  \n",
       "3                      1               84            Alive  \n",
       "4                      1               50            Alive  \n",
       "5                      2               89            Alive  \n",
       "6                      1               54            Alive  \n",
       "7                      1               14             Dead  \n",
       "8                     18               70            Alive  \n",
       "9                     12               92            Alive  "
      ]
     },
     "execution_count": 3,
     "metadata": {},
     "output_type": "execute_result"
    }
   ],
   "source": [
    "data.head(10)"
   ]
  },
  {
   "cell_type": "code",
   "execution_count": 4,
   "id": "fc247dd2da625fdd",
   "metadata": {
    "ExecuteTime": {
     "end_time": "2025-08-12T15:33:39.906672Z",
     "start_time": "2025-08-12T15:33:39.891533Z"
    }
   },
   "outputs": [
    {
     "data": {
      "text/plain": [
       "['Patient_ID',\n",
       " 'Month_of_Birth',\n",
       " 'Age',\n",
       " 'Sex',\n",
       " 'Occupation',\n",
       " 'T_Stage',\n",
       " 'N_Stage',\n",
       " '6th_Stage',\n",
       " 'Differentiated',\n",
       " 'Grade',\n",
       " 'A_Stage',\n",
       " 'Tumor_Size',\n",
       " 'Estrogen_Status',\n",
       " 'Progesterone_Status',\n",
       " 'Regional_Node_Examined',\n",
       " 'Reginol_Node_Positive',\n",
       " 'Survival_Months',\n",
       " 'Mortality_Status']"
      ]
     },
     "execution_count": 4,
     "metadata": {},
     "output_type": "execute_result"
    }
   ],
   "source": [
    "list(data.columns)"
   ]
  },
  {
   "cell_type": "code",
   "execution_count": 5,
   "id": "a81eac15e87cbdd7",
   "metadata": {
    "ExecuteTime": {
     "end_time": "2025-08-12T15:33:39.985437Z",
     "start_time": "2025-08-12T15:33:39.969490Z"
    }
   },
   "outputs": [
    {
     "data": {
      "text/plain": [
       "(4024, 18)"
      ]
     },
     "execution_count": 5,
     "metadata": {},
     "output_type": "execute_result"
    }
   ],
   "source": [
    "data.shape"
   ]
  },
  {
   "cell_type": "code",
   "execution_count": 6,
   "id": "a3ab0b13c41030ff",
   "metadata": {
    "ExecuteTime": {
     "end_time": "2025-08-12T15:33:40.143676Z",
     "start_time": "2025-08-12T15:33:40.112190Z"
    }
   },
   "outputs": [
    {
     "name": "stdout",
     "output_type": "stream",
     "text": [
      "<class 'pandas.core.frame.DataFrame'>\n",
      "RangeIndex: 4024 entries, 0 to 4023\n",
      "Data columns (total 18 columns):\n",
      " #   Column                  Non-Null Count  Dtype  \n",
      "---  ------                  --------------  -----  \n",
      " 0   Patient_ID              4024 non-null   object \n",
      " 1   Month_of_Birth          4024 non-null   int64  \n",
      " 2   Age                     4015 non-null   float64\n",
      " 3   Sex                     4020 non-null   object \n",
      " 4   Occupation              43 non-null     object \n",
      " 5   T_Stage                 4024 non-null   object \n",
      " 6   N_Stage                 4024 non-null   object \n",
      " 7   6th_Stage               4024 non-null   object \n",
      " 8   Differentiated          4024 non-null   object \n",
      " 9   Grade                   4024 non-null   int64  \n",
      " 10  A_Stage                 4024 non-null   object \n",
      " 11  Tumor_Size              4021 non-null   float64\n",
      " 12  Estrogen_Status         4024 non-null   object \n",
      " 13  Progesterone_Status     4024 non-null   object \n",
      " 14  Regional_Node_Examined  4023 non-null   float64\n",
      " 15  Reginol_Node_Positive   4024 non-null   int64  \n",
      " 16  Survival_Months         4024 non-null   int64  \n",
      " 17  Mortality_Status        4024 non-null   object \n",
      "dtypes: float64(3), int64(4), object(11)\n",
      "memory usage: 566.0+ KB\n"
     ]
    }
   ],
   "source": [
    "data.info()"
   ]
  },
  {
   "cell_type": "code",
   "execution_count": 7,
   "id": "da3e437668f815f1",
   "metadata": {
    "ExecuteTime": {
     "end_time": "2025-08-12T15:33:40.239278Z",
     "start_time": "2025-08-12T15:33:40.207426Z"
    }
   },
   "outputs": [
    {
     "data": {
      "text/html": [
       "<div>\n",
       "<style scoped>\n",
       "    .dataframe tbody tr th:only-of-type {\n",
       "        vertical-align: middle;\n",
       "    }\n",
       "\n",
       "    .dataframe tbody tr th {\n",
       "        vertical-align: top;\n",
       "    }\n",
       "\n",
       "    .dataframe thead th {\n",
       "        text-align: right;\n",
       "    }\n",
       "</style>\n",
       "<table border=\"1\" class=\"dataframe\">\n",
       "  <thead>\n",
       "    <tr style=\"text-align: right;\">\n",
       "      <th></th>\n",
       "      <th>Month_of_Birth</th>\n",
       "      <th>Age</th>\n",
       "      <th>Grade</th>\n",
       "      <th>Tumor_Size</th>\n",
       "      <th>Regional_Node_Examined</th>\n",
       "      <th>Reginol_Node_Positive</th>\n",
       "      <th>Survival_Months</th>\n",
       "    </tr>\n",
       "  </thead>\n",
       "  <tbody>\n",
       "    <tr>\n",
       "      <th>count</th>\n",
       "      <td>4024.000000</td>\n",
       "      <td>4015.000000</td>\n",
       "      <td>4024.000000</td>\n",
       "      <td>4021.000000</td>\n",
       "      <td>4023.000000</td>\n",
       "      <td>4024.000000</td>\n",
       "      <td>4024.000000</td>\n",
       "    </tr>\n",
       "    <tr>\n",
       "      <th>mean</th>\n",
       "      <td>6.481362</td>\n",
       "      <td>54.107098</td>\n",
       "      <td>2.150596</td>\n",
       "      <td>30.419299</td>\n",
       "      <td>14.373602</td>\n",
       "      <td>4.158052</td>\n",
       "      <td>71.472167</td>\n",
       "    </tr>\n",
       "    <tr>\n",
       "      <th>std</th>\n",
       "      <td>3.475442</td>\n",
       "      <td>11.715528</td>\n",
       "      <td>0.638234</td>\n",
       "      <td>21.161080</td>\n",
       "      <td>8.129293</td>\n",
       "      <td>5.109331</td>\n",
       "      <td>25.361855</td>\n",
       "    </tr>\n",
       "    <tr>\n",
       "      <th>min</th>\n",
       "      <td>1.000000</td>\n",
       "      <td>-50.000000</td>\n",
       "      <td>1.000000</td>\n",
       "      <td>-75.000000</td>\n",
       "      <td>1.000000</td>\n",
       "      <td>1.000000</td>\n",
       "      <td>1.000000</td>\n",
       "    </tr>\n",
       "    <tr>\n",
       "      <th>25%</th>\n",
       "      <td>3.000000</td>\n",
       "      <td>47.000000</td>\n",
       "      <td>2.000000</td>\n",
       "      <td>16.000000</td>\n",
       "      <td>9.000000</td>\n",
       "      <td>1.000000</td>\n",
       "      <td>56.000000</td>\n",
       "    </tr>\n",
       "    <tr>\n",
       "      <th>50%</th>\n",
       "      <td>6.000000</td>\n",
       "      <td>54.000000</td>\n",
       "      <td>2.000000</td>\n",
       "      <td>25.000000</td>\n",
       "      <td>14.000000</td>\n",
       "      <td>2.000000</td>\n",
       "      <td>73.000000</td>\n",
       "    </tr>\n",
       "    <tr>\n",
       "      <th>75%</th>\n",
       "      <td>10.000000</td>\n",
       "      <td>61.000000</td>\n",
       "      <td>3.000000</td>\n",
       "      <td>38.000000</td>\n",
       "      <td>19.000000</td>\n",
       "      <td>5.000000</td>\n",
       "      <td>90.000000</td>\n",
       "    </tr>\n",
       "    <tr>\n",
       "      <th>max</th>\n",
       "      <td>12.000000</td>\n",
       "      <td>502.000000</td>\n",
       "      <td>4.000000</td>\n",
       "      <td>140.000000</td>\n",
       "      <td>61.000000</td>\n",
       "      <td>46.000000</td>\n",
       "      <td>760.000000</td>\n",
       "    </tr>\n",
       "  </tbody>\n",
       "</table>\n",
       "</div>"
      ],
      "text/plain": [
       "       Month_of_Birth          Age        Grade   Tumor_Size  \\\n",
       "count     4024.000000  4015.000000  4024.000000  4021.000000   \n",
       "mean         6.481362    54.107098     2.150596    30.419299   \n",
       "std          3.475442    11.715528     0.638234    21.161080   \n",
       "min          1.000000   -50.000000     1.000000   -75.000000   \n",
       "25%          3.000000    47.000000     2.000000    16.000000   \n",
       "50%          6.000000    54.000000     2.000000    25.000000   \n",
       "75%         10.000000    61.000000     3.000000    38.000000   \n",
       "max         12.000000   502.000000     4.000000   140.000000   \n",
       "\n",
       "       Regional_Node_Examined  Reginol_Node_Positive  Survival_Months  \n",
       "count             4023.000000            4024.000000      4024.000000  \n",
       "mean                14.373602               4.158052        71.472167  \n",
       "std                  8.129293               5.109331        25.361855  \n",
       "min                  1.000000               1.000000         1.000000  \n",
       "25%                  9.000000               1.000000        56.000000  \n",
       "50%                 14.000000               2.000000        73.000000  \n",
       "75%                 19.000000               5.000000        90.000000  \n",
       "max                 61.000000              46.000000       760.000000  "
      ]
     },
     "execution_count": 7,
     "metadata": {},
     "output_type": "execute_result"
    }
   ],
   "source": [
    "data.describe()"
   ]
  },
  {
   "cell_type": "code",
   "execution_count": 8,
   "id": "3273c05a0c785305",
   "metadata": {
    "ExecuteTime": {
     "end_time": "2025-08-12T15:33:40.338018Z",
     "start_time": "2025-08-12T15:33:40.308363Z"
    }
   },
   "outputs": [
    {
     "data": {
      "text/plain": [
       "Patient_ID                0.000000\n",
       "Month_of_Birth            0.000000\n",
       "Age                       0.002237\n",
       "Sex                       0.000994\n",
       "Occupation                0.989314\n",
       "T_Stage                   0.000000\n",
       "N_Stage                   0.000000\n",
       "6th_Stage                 0.000000\n",
       "Differentiated            0.000000\n",
       "Grade                     0.000000\n",
       "A_Stage                   0.000000\n",
       "Tumor_Size                0.000746\n",
       "Estrogen_Status           0.000000\n",
       "Progesterone_Status       0.000000\n",
       "Regional_Node_Examined    0.000249\n",
       "Reginol_Node_Positive     0.000000\n",
       "Survival_Months           0.000000\n",
       "Mortality_Status          0.000000\n",
       "dtype: float64"
      ]
     },
     "execution_count": 8,
     "metadata": {},
     "output_type": "execute_result"
    }
   ],
   "source": [
    "data.isnull().sum()/len(data)"
   ]
  },
  {
   "cell_type": "code",
   "execution_count": 9,
   "id": "9ecedf464d35437b",
   "metadata": {
    "ExecuteTime": {
     "end_time": "2025-08-12T15:33:40.400870Z",
     "start_time": "2025-08-12T15:33:40.384815Z"
    }
   },
   "outputs": [],
   "source": [
    "data.drop(['Patient_ID', 'Sex', 'Occupation', 'Month_of_Birth'], axis=1, inplace=True)"
   ]
  },
  {
   "cell_type": "code",
   "execution_count": 10,
   "id": "d452386830df9f68",
   "metadata": {
    "ExecuteTime": {
     "end_time": "2025-08-12T15:33:40.575394Z",
     "start_time": "2025-08-12T15:33:40.559244Z"
    }
   },
   "outputs": [
    {
     "data": {
      "text/plain": [
       "Age                       9\n",
       "T_Stage                   0\n",
       "N_Stage                   0\n",
       "6th_Stage                 0\n",
       "Differentiated            0\n",
       "Grade                     0\n",
       "A_Stage                   0\n",
       "Tumor_Size                3\n",
       "Estrogen_Status           0\n",
       "Progesterone_Status       0\n",
       "Regional_Node_Examined    1\n",
       "Reginol_Node_Positive     0\n",
       "Survival_Months           0\n",
       "Mortality_Status          0\n",
       "dtype: int64"
      ]
     },
     "execution_count": 10,
     "metadata": {},
     "output_type": "execute_result"
    }
   ],
   "source": [
    "data.isnull().sum()"
   ]
  },
  {
   "cell_type": "code",
   "execution_count": 11,
   "id": "7f7ee31848c00dec",
   "metadata": {
    "ExecuteTime": {
     "end_time": "2025-08-12T15:33:40.655627Z",
     "start_time": "2025-08-12T15:33:40.639629Z"
    }
   },
   "outputs": [
    {
     "data": {
      "text/plain": [
       "Age                       0.0\n",
       "T_Stage                   0.0\n",
       "N_Stage                   0.0\n",
       "6th_Stage                 0.0\n",
       "Differentiated            0.0\n",
       "Grade                     0.0\n",
       "A_Stage                   0.0\n",
       "Tumor_Size                0.0\n",
       "Estrogen_Status           0.0\n",
       "Progesterone_Status       0.0\n",
       "Regional_Node_Examined    0.0\n",
       "Reginol_Node_Positive     0.0\n",
       "Survival_Months           0.0\n",
       "Mortality_Status          0.0\n",
       "dtype: float64"
      ]
     },
     "execution_count": 11,
     "metadata": {},
     "output_type": "execute_result"
    }
   ],
   "source": [
    "columns_to_fill = ['Age', 'Tumor_Size', 'Regional_Node_Examined']\n",
    "data[columns_to_fill] = data[columns_to_fill].fillna(data[columns_to_fill].mean())\n",
    "data.isna().sum()/len(data)*100"
   ]
  },
  {
   "cell_type": "code",
   "execution_count": 12,
   "id": "b3977072d6fde3c1",
   "metadata": {
    "ExecuteTime": {
     "end_time": "2025-08-12T15:33:40.817375Z",
     "start_time": "2025-08-12T15:33:40.801619Z"
    }
   },
   "outputs": [
    {
     "name": "stdout",
     "output_type": "stream",
     "text": [
      "['T1' 'T2' 'T3' 'T4']\n",
      "['N1' 'N2' 'N3']\n",
      "['IIA' 'IIIA' 'IIIC' 'IIB' 'IIIB']\n",
      "['Poorly differentiated' 'Moderately differentiated' 'Well differentiated'\n",
      " 'Undifferentiated']\n",
      "['Regional' 'Distant']\n",
      "['Positive' 'Negative']\n",
      "['Positive' 'Negative']\n",
      "['Alive' 'Dead' 'ALIVE' 'DEAD' 'ALive' 'alive' 'dead']\n"
     ]
    }
   ],
   "source": [
    "print(data['T_Stage'].unique())\n",
    "print(data['N_Stage'].unique())\n",
    "print(data['6th_Stage'].unique())\n",
    "print(data['Differentiated'].unique())\n",
    "print(data['A_Stage'].unique())\n",
    "print(data['Estrogen_Status'].unique())\n",
    "print(data['Progesterone_Status'].unique())\n",
    "print(data['Mortality_Status'].unique())"
   ]
  },
  {
   "cell_type": "code",
   "execution_count": 13,
   "id": "64aceef160964751",
   "metadata": {
    "ExecuteTime": {
     "end_time": "2025-08-12T15:33:40.942755Z",
     "start_time": "2025-08-12T15:33:40.926887Z"
    }
   },
   "outputs": [],
   "source": [
    "data['Mortality_Status'] = data['Mortality_Status'].str.lower()"
   ]
  },
  {
   "cell_type": "code",
   "execution_count": 14,
   "id": "f901f74c45d4288e",
   "metadata": {
    "ExecuteTime": {
     "end_time": "2025-08-12T15:33:41.082456Z",
     "start_time": "2025-08-12T15:33:41.065236Z"
    }
   },
   "outputs": [],
   "source": [
    "data['Mortality_Status'] = data['Mortality_Status'].map({'dead': 0, 'alive': 1})\n",
    "\n",
    "data['T_Stage'] = data['T_Stage'].map({'T1': 0, 'T2': 1, 'T3': 2, 'T4': 3})\n",
    "\n",
    "data['N_Stage'] = data['N_Stage'].map({'N1': 0, 'N2': 1, 'N3': 2})\n",
    "\n",
    "data['6th_Stage'] = data['6th_Stage'].map({'IIA': 0, 'IIIA': 1,'IIIC':2, 'IIB': 3, 'IIIB': 4})\n",
    "\n",
    "data['Differentiated'] = data['Differentiated'].map({'Poorly differentiated': 0, 'Moderately differentiated': 1, 'Well differentiated': 2, 'Undifferentiated': 3})\n",
    "\n",
    "data['A_Stage'] = data['A_Stage'].map({'Regional': 0, 'Distant': 1})\n",
    "\n",
    "data['Estrogen_Status'] = data['Estrogen_Status'].map({'Negative': 0, 'Positive': 1})\n",
    "\n",
    "data['Progesterone_Status'] = data['Progesterone_Status'].map({'Negative': 0, 'Positive': 1})"
   ]
  },
  {
   "cell_type": "code",
   "execution_count": 15,
   "id": "ec8858798b5054ee",
   "metadata": {
    "ExecuteTime": {
     "end_time": "2025-08-12T15:33:41.141171Z",
     "start_time": "2025-08-12T15:33:41.104131Z"
    }
   },
   "outputs": [
    {
     "data": {
      "text/html": [
       "<div>\n",
       "<style scoped>\n",
       "    .dataframe tbody tr th:only-of-type {\n",
       "        vertical-align: middle;\n",
       "    }\n",
       "\n",
       "    .dataframe tbody tr th {\n",
       "        vertical-align: top;\n",
       "    }\n",
       "\n",
       "    .dataframe thead th {\n",
       "        text-align: right;\n",
       "    }\n",
       "</style>\n",
       "<table border=\"1\" class=\"dataframe\">\n",
       "  <thead>\n",
       "    <tr style=\"text-align: right;\">\n",
       "      <th></th>\n",
       "      <th>count</th>\n",
       "      <th>mean</th>\n",
       "      <th>std</th>\n",
       "      <th>min</th>\n",
       "      <th>25%</th>\n",
       "      <th>50%</th>\n",
       "      <th>75%</th>\n",
       "      <th>max</th>\n",
       "    </tr>\n",
       "  </thead>\n",
       "  <tbody>\n",
       "    <tr>\n",
       "      <th>Age</th>\n",
       "      <td>4024.0</td>\n",
       "      <td>54.107098</td>\n",
       "      <td>11.702416</td>\n",
       "      <td>-50.0</td>\n",
       "      <td>47.0</td>\n",
       "      <td>54.0</td>\n",
       "      <td>61.0</td>\n",
       "      <td>502.0</td>\n",
       "    </tr>\n",
       "    <tr>\n",
       "      <th>T_Stage</th>\n",
       "      <td>4024.0</td>\n",
       "      <td>0.784791</td>\n",
       "      <td>0.765531</td>\n",
       "      <td>0.0</td>\n",
       "      <td>0.0</td>\n",
       "      <td>1.0</td>\n",
       "      <td>1.0</td>\n",
       "      <td>3.0</td>\n",
       "    </tr>\n",
       "    <tr>\n",
       "      <th>N_Stage</th>\n",
       "      <td>4024.0</td>\n",
       "      <td>0.438370</td>\n",
       "      <td>0.693479</td>\n",
       "      <td>0.0</td>\n",
       "      <td>0.0</td>\n",
       "      <td>0.0</td>\n",
       "      <td>1.0</td>\n",
       "      <td>2.0</td>\n",
       "    </tr>\n",
       "    <tr>\n",
       "      <th>6th_Stage</th>\n",
       "      <td>4024.0</td>\n",
       "      <td>1.404573</td>\n",
       "      <td>1.245559</td>\n",
       "      <td>0.0</td>\n",
       "      <td>0.0</td>\n",
       "      <td>1.0</td>\n",
       "      <td>3.0</td>\n",
       "      <td>4.0</td>\n",
       "    </tr>\n",
       "    <tr>\n",
       "      <th>Differentiated</th>\n",
       "      <td>4024.0</td>\n",
       "      <td>0.868290</td>\n",
       "      <td>0.642398</td>\n",
       "      <td>0.0</td>\n",
       "      <td>0.0</td>\n",
       "      <td>1.0</td>\n",
       "      <td>1.0</td>\n",
       "      <td>3.0</td>\n",
       "    </tr>\n",
       "    <tr>\n",
       "      <th>Grade</th>\n",
       "      <td>4024.0</td>\n",
       "      <td>2.150596</td>\n",
       "      <td>0.638234</td>\n",
       "      <td>1.0</td>\n",
       "      <td>2.0</td>\n",
       "      <td>2.0</td>\n",
       "      <td>3.0</td>\n",
       "      <td>4.0</td>\n",
       "    </tr>\n",
       "    <tr>\n",
       "      <th>A_Stage</th>\n",
       "      <td>4024.0</td>\n",
       "      <td>0.022863</td>\n",
       "      <td>0.149485</td>\n",
       "      <td>0.0</td>\n",
       "      <td>0.0</td>\n",
       "      <td>0.0</td>\n",
       "      <td>0.0</td>\n",
       "      <td>1.0</td>\n",
       "    </tr>\n",
       "    <tr>\n",
       "      <th>Tumor_Size</th>\n",
       "      <td>4024.0</td>\n",
       "      <td>30.419299</td>\n",
       "      <td>21.153189</td>\n",
       "      <td>-75.0</td>\n",
       "      <td>16.0</td>\n",
       "      <td>25.0</td>\n",
       "      <td>38.0</td>\n",
       "      <td>140.0</td>\n",
       "    </tr>\n",
       "    <tr>\n",
       "      <th>Estrogen_Status</th>\n",
       "      <td>4024.0</td>\n",
       "      <td>0.933151</td>\n",
       "      <td>0.249791</td>\n",
       "      <td>0.0</td>\n",
       "      <td>1.0</td>\n",
       "      <td>1.0</td>\n",
       "      <td>1.0</td>\n",
       "      <td>1.0</td>\n",
       "    </tr>\n",
       "    <tr>\n",
       "      <th>Progesterone_Status</th>\n",
       "      <td>4024.0</td>\n",
       "      <td>0.826541</td>\n",
       "      <td>0.378691</td>\n",
       "      <td>0.0</td>\n",
       "      <td>1.0</td>\n",
       "      <td>1.0</td>\n",
       "      <td>1.0</td>\n",
       "      <td>1.0</td>\n",
       "    </tr>\n",
       "    <tr>\n",
       "      <th>Regional_Node_Examined</th>\n",
       "      <td>4024.0</td>\n",
       "      <td>14.373602</td>\n",
       "      <td>8.128282</td>\n",
       "      <td>1.0</td>\n",
       "      <td>9.0</td>\n",
       "      <td>14.0</td>\n",
       "      <td>19.0</td>\n",
       "      <td>61.0</td>\n",
       "    </tr>\n",
       "    <tr>\n",
       "      <th>Reginol_Node_Positive</th>\n",
       "      <td>4024.0</td>\n",
       "      <td>4.158052</td>\n",
       "      <td>5.109331</td>\n",
       "      <td>1.0</td>\n",
       "      <td>1.0</td>\n",
       "      <td>2.0</td>\n",
       "      <td>5.0</td>\n",
       "      <td>46.0</td>\n",
       "    </tr>\n",
       "    <tr>\n",
       "      <th>Survival_Months</th>\n",
       "      <td>4024.0</td>\n",
       "      <td>71.472167</td>\n",
       "      <td>25.361855</td>\n",
       "      <td>1.0</td>\n",
       "      <td>56.0</td>\n",
       "      <td>73.0</td>\n",
       "      <td>90.0</td>\n",
       "      <td>760.0</td>\n",
       "    </tr>\n",
       "    <tr>\n",
       "      <th>Mortality_Status</th>\n",
       "      <td>4024.0</td>\n",
       "      <td>0.846918</td>\n",
       "      <td>0.360111</td>\n",
       "      <td>0.0</td>\n",
       "      <td>1.0</td>\n",
       "      <td>1.0</td>\n",
       "      <td>1.0</td>\n",
       "      <td>1.0</td>\n",
       "    </tr>\n",
       "  </tbody>\n",
       "</table>\n",
       "</div>"
      ],
      "text/plain": [
       "                         count       mean        std   min   25%   50%   75%  \\\n",
       "Age                     4024.0  54.107098  11.702416 -50.0  47.0  54.0  61.0   \n",
       "T_Stage                 4024.0   0.784791   0.765531   0.0   0.0   1.0   1.0   \n",
       "N_Stage                 4024.0   0.438370   0.693479   0.0   0.0   0.0   1.0   \n",
       "6th_Stage               4024.0   1.404573   1.245559   0.0   0.0   1.0   3.0   \n",
       "Differentiated          4024.0   0.868290   0.642398   0.0   0.0   1.0   1.0   \n",
       "Grade                   4024.0   2.150596   0.638234   1.0   2.0   2.0   3.0   \n",
       "A_Stage                 4024.0   0.022863   0.149485   0.0   0.0   0.0   0.0   \n",
       "Tumor_Size              4024.0  30.419299  21.153189 -75.0  16.0  25.0  38.0   \n",
       "Estrogen_Status         4024.0   0.933151   0.249791   0.0   1.0   1.0   1.0   \n",
       "Progesterone_Status     4024.0   0.826541   0.378691   0.0   1.0   1.0   1.0   \n",
       "Regional_Node_Examined  4024.0  14.373602   8.128282   1.0   9.0  14.0  19.0   \n",
       "Reginol_Node_Positive   4024.0   4.158052   5.109331   1.0   1.0   2.0   5.0   \n",
       "Survival_Months         4024.0  71.472167  25.361855   1.0  56.0  73.0  90.0   \n",
       "Mortality_Status        4024.0   0.846918   0.360111   0.0   1.0   1.0   1.0   \n",
       "\n",
       "                          max  \n",
       "Age                     502.0  \n",
       "T_Stage                   3.0  \n",
       "N_Stage                   2.0  \n",
       "6th_Stage                 4.0  \n",
       "Differentiated            3.0  \n",
       "Grade                     4.0  \n",
       "A_Stage                   1.0  \n",
       "Tumor_Size              140.0  \n",
       "Estrogen_Status           1.0  \n",
       "Progesterone_Status       1.0  \n",
       "Regional_Node_Examined   61.0  \n",
       "Reginol_Node_Positive    46.0  \n",
       "Survival_Months         760.0  \n",
       "Mortality_Status          1.0  "
      ]
     },
     "execution_count": 15,
     "metadata": {},
     "output_type": "execute_result"
    }
   ],
   "source": [
    "data.describe().transpose()"
   ]
  },
  {
   "cell_type": "code",
   "execution_count": 16,
   "id": "73dfe1c8f8fbcaab",
   "metadata": {
    "ExecuteTime": {
     "end_time": "2025-08-12T15:33:44.462720Z",
     "start_time": "2025-08-12T15:33:41.204582Z"
    }
   },
   "outputs": [
    {
     "name": "stdout",
     "output_type": "stream",
     "text": [
      "Requirement already satisfied: plotly.express in c:\\users\\anjula\\appdata\\local\\programs\\python\\python311\\lib\\site-packages (0.4.1)\n",
      "Requirement already satisfied: pandas>=0.20.0 in c:\\users\\anjula\\appdata\\local\\programs\\python\\python311\\lib\\site-packages (from plotly.express) (2.2.3)\n",
      "Requirement already satisfied: plotly>=4.1.0 in c:\\users\\anjula\\appdata\\local\\programs\\python\\python311\\lib\\site-packages (from plotly.express) (6.3.0)\n",
      "Requirement already satisfied: statsmodels>=0.9.0 in c:\\users\\anjula\\appdata\\local\\programs\\python\\python311\\lib\\site-packages (from plotly.express) (0.14.5)\n",
      "Requirement already satisfied: scipy>=0.18 in c:\\users\\anjula\\appdata\\local\\programs\\python\\python311\\lib\\site-packages (from plotly.express) (1.15.2)\n",
      "Requirement already satisfied: patsy>=0.5 in c:\\users\\anjula\\appdata\\local\\programs\\python\\python311\\lib\\site-packages (from plotly.express) (1.0.1)\n",
      "Requirement already satisfied: numpy>=1.11 in c:\\users\\anjula\\appdata\\local\\programs\\python\\python311\\lib\\site-packages (from plotly.express) (2.2.2)\n",
      "Requirement already satisfied: python-dateutil>=2.8.2 in c:\\users\\anjula\\appdata\\local\\programs\\python\\python311\\lib\\site-packages (from pandas>=0.20.0->plotly.express) (2.9.0.post0)\n",
      "Requirement already satisfied: pytz>=2020.1 in c:\\users\\anjula\\appdata\\local\\programs\\python\\python311\\lib\\site-packages (from pandas>=0.20.0->plotly.express) (2025.1)\n",
      "Requirement already satisfied: tzdata>=2022.7 in c:\\users\\anjula\\appdata\\local\\programs\\python\\python311\\lib\\site-packages (from pandas>=0.20.0->plotly.express) (2025.1)\n",
      "Requirement already satisfied: narwhals>=1.15.1 in c:\\users\\anjula\\appdata\\local\\programs\\python\\python311\\lib\\site-packages (from plotly>=4.1.0->plotly.express) (2.1.1)\n",
      "Requirement already satisfied: packaging in c:\\users\\anjula\\appdata\\roaming\\python\\python311\\site-packages (from plotly>=4.1.0->plotly.express) (25.0)\n",
      "Requirement already satisfied: six>=1.5 in c:\\users\\anjula\\appdata\\local\\programs\\python\\python311\\lib\\site-packages (from python-dateutil>=2.8.2->pandas>=0.20.0->plotly.express) (1.17.0)\n"
     ]
    },
    {
     "name": "stderr",
     "output_type": "stream",
     "text": [
      "\n",
      "[notice] A new release of pip available: 22.3.1 -> 25.2\n",
      "[notice] To update, run: python.exe -m pip install --upgrade pip\n"
     ]
    }
   ],
   "source": [
    "!pip install plotly.express"
   ]
  },
  {
   "cell_type": "code",
   "execution_count": 17,
   "id": "8d520c8a91b73f88",
   "metadata": {
    "ExecuteTime": {
     "end_time": "2025-08-12T15:33:46.547984Z",
     "start_time": "2025-08-12T15:33:44.510121Z"
    }
   },
   "outputs": [
    {
     "data": {
      "application/vnd.plotly.v1+json": {
       "config": {
        "plotlyServerURL": "https://plot.ly"
       },
       "data": [
        {
         "alignmentgroup": "True",
         "hovertemplate": "Age=%{x}<extra></extra>",
         "legendgroup": "",
         "marker": {
          "color": "#636efa"
         },
         "name": "",
         "notched": false,
         "offsetgroup": "",
         "orientation": "h",
         "showlegend": false,
         "type": "box",
         "x": {
          "bdata": "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",
          "dtype": "f8"
         },
         "x0": " ",
         "xaxis": "x",
         "y0": " ",
         "yaxis": "y"
        }
       ],
       "layout": {
        "boxmode": "group",
        "legend": {
         "tracegroupgap": 0
        },
        "template": {
         "data": {
          "bar": [
           {
            "error_x": {
             "color": "#2a3f5f"
            },
            "error_y": {
             "color": "#2a3f5f"
            },
            "marker": {
             "line": {
              "color": "#E5ECF6",
              "width": 0.5
             },
             "pattern": {
              "fillmode": "overlay",
              "size": 10,
              "solidity": 0.2
             }
            },
            "type": "bar"
           }
          ],
          "barpolar": [
           {
            "marker": {
             "line": {
              "color": "#E5ECF6",
              "width": 0.5
             },
             "pattern": {
              "fillmode": "overlay",
              "size": 10,
              "solidity": 0.2
             }
            },
            "type": "barpolar"
           }
          ],
          "carpet": [
           {
            "aaxis": {
             "endlinecolor": "#2a3f5f",
             "gridcolor": "white",
             "linecolor": "white",
             "minorgridcolor": "white",
             "startlinecolor": "#2a3f5f"
            },
            "baxis": {
             "endlinecolor": "#2a3f5f",
             "gridcolor": "white",
             "linecolor": "white",
             "minorgridcolor": "white",
             "startlinecolor": "#2a3f5f"
            },
            "type": "carpet"
           }
          ],
          "choropleth": [
           {
            "colorbar": {
             "outlinewidth": 0,
             "ticks": ""
            },
            "type": "choropleth"
           }
          ],
          "contour": [
           {
            "colorbar": {
             "outlinewidth": 0,
             "ticks": ""
            },
            "colorscale": [
             [
              0,
              "#0d0887"
             ],
             [
              0.1111111111111111,
              "#46039f"
             ],
             [
              0.2222222222222222,
              "#7201a8"
             ],
             [
              0.3333333333333333,
              "#9c179e"
             ],
             [
              0.4444444444444444,
              "#bd3786"
             ],
             [
              0.5555555555555556,
              "#d8576b"
             ],
             [
              0.6666666666666666,
              "#ed7953"
             ],
             [
              0.7777777777777778,
              "#fb9f3a"
             ],
             [
              0.8888888888888888,
              "#fdca26"
             ],
             [
              1,
              "#f0f921"
             ]
            ],
            "type": "contour"
           }
          ],
          "contourcarpet": [
           {
            "colorbar": {
             "outlinewidth": 0,
             "ticks": ""
            },
            "type": "contourcarpet"
           }
          ],
          "heatmap": [
           {
            "colorbar": {
             "outlinewidth": 0,
             "ticks": ""
            },
            "colorscale": [
             [
              0,
              "#0d0887"
             ],
             [
              0.1111111111111111,
              "#46039f"
             ],
             [
              0.2222222222222222,
              "#7201a8"
             ],
             [
              0.3333333333333333,
              "#9c179e"
             ],
             [
              0.4444444444444444,
              "#bd3786"
             ],
             [
              0.5555555555555556,
              "#d8576b"
             ],
             [
              0.6666666666666666,
              "#ed7953"
             ],
             [
              0.7777777777777778,
              "#fb9f3a"
             ],
             [
              0.8888888888888888,
              "#fdca26"
             ],
             [
              1,
              "#f0f921"
             ]
            ],
            "type": "heatmap"
           }
          ],
          "histogram": [
           {
            "marker": {
             "pattern": {
              "fillmode": "overlay",
              "size": 10,
              "solidity": 0.2
             }
            },
            "type": "histogram"
           }
          ],
          "histogram2d": [
           {
            "colorbar": {
             "outlinewidth": 0,
             "ticks": ""
            },
            "colorscale": [
             [
              0,
              "#0d0887"
             ],
             [
              0.1111111111111111,
              "#46039f"
             ],
             [
              0.2222222222222222,
              "#7201a8"
             ],
             [
              0.3333333333333333,
              "#9c179e"
             ],
             [
              0.4444444444444444,
              "#bd3786"
             ],
             [
              0.5555555555555556,
              "#d8576b"
             ],
             [
              0.6666666666666666,
              "#ed7953"
             ],
             [
              0.7777777777777778,
              "#fb9f3a"
             ],
             [
              0.8888888888888888,
              "#fdca26"
             ],
             [
              1,
              "#f0f921"
             ]
            ],
            "type": "histogram2d"
           }
          ],
          "histogram2dcontour": [
           {
            "colorbar": {
             "outlinewidth": 0,
             "ticks": ""
            },
            "colorscale": [
             [
              0,
              "#0d0887"
             ],
             [
              0.1111111111111111,
              "#46039f"
             ],
             [
              0.2222222222222222,
              "#7201a8"
             ],
             [
              0.3333333333333333,
              "#9c179e"
             ],
             [
              0.4444444444444444,
              "#bd3786"
             ],
             [
              0.5555555555555556,
              "#d8576b"
             ],
             [
              0.6666666666666666,
              "#ed7953"
             ],
             [
              0.7777777777777778,
              "#fb9f3a"
             ],
             [
              0.8888888888888888,
              "#fdca26"
             ],
             [
              1,
              "#f0f921"
             ]
            ],
            "type": "histogram2dcontour"
           }
          ],
          "mesh3d": [
           {
            "colorbar": {
             "outlinewidth": 0,
             "ticks": ""
            },
            "type": "mesh3d"
           }
          ],
          "parcoords": [
           {
            "line": {
             "colorbar": {
              "outlinewidth": 0,
              "ticks": ""
             }
            },
            "type": "parcoords"
           }
          ],
          "pie": [
           {
            "automargin": true,
            "type": "pie"
           }
          ],
          "scatter": [
           {
            "fillpattern": {
             "fillmode": "overlay",
             "size": 10,
             "solidity": 0.2
            },
            "type": "scatter"
           }
          ],
          "scatter3d": [
           {
            "line": {
             "colorbar": {
              "outlinewidth": 0,
              "ticks": ""
             }
            },
            "marker": {
             "colorbar": {
              "outlinewidth": 0,
              "ticks": ""
             }
            },
            "type": "scatter3d"
           }
          ],
          "scattercarpet": [
           {
            "marker": {
             "colorbar": {
              "outlinewidth": 0,
              "ticks": ""
             }
            },
            "type": "scattercarpet"
           }
          ],
          "scattergeo": [
           {
            "marker": {
             "colorbar": {
              "outlinewidth": 0,
              "ticks": ""
             }
            },
            "type": "scattergeo"
           }
          ],
          "scattergl": [
           {
            "marker": {
             "colorbar": {
              "outlinewidth": 0,
              "ticks": ""
             }
            },
            "type": "scattergl"
           }
          ],
          "scattermap": [
           {
            "marker": {
             "colorbar": {
              "outlinewidth": 0,
              "ticks": ""
             }
            },
            "type": "scattermap"
           }
          ],
          "scattermapbox": [
           {
            "marker": {
             "colorbar": {
              "outlinewidth": 0,
              "ticks": ""
             }
            },
            "type": "scattermapbox"
           }
          ],
          "scatterpolar": [
           {
            "marker": {
             "colorbar": {
              "outlinewidth": 0,
              "ticks": ""
             }
            },
            "type": "scatterpolar"
           }
          ],
          "scatterpolargl": [
           {
            "marker": {
             "colorbar": {
              "outlinewidth": 0,
              "ticks": ""
             }
            },
            "type": "scatterpolargl"
           }
          ],
          "scatterternary": [
           {
            "marker": {
             "colorbar": {
              "outlinewidth": 0,
              "ticks": ""
             }
            },
            "type": "scatterternary"
           }
          ],
          "surface": [
           {
            "colorbar": {
             "outlinewidth": 0,
             "ticks": ""
            },
            "colorscale": [
             [
              0,
              "#0d0887"
             ],
             [
              0.1111111111111111,
              "#46039f"
             ],
             [
              0.2222222222222222,
              "#7201a8"
             ],
             [
              0.3333333333333333,
              "#9c179e"
             ],
             [
              0.4444444444444444,
              "#bd3786"
             ],
             [
              0.5555555555555556,
              "#d8576b"
             ],
             [
              0.6666666666666666,
              "#ed7953"
             ],
             [
              0.7777777777777778,
              "#fb9f3a"
             ],
             [
              0.8888888888888888,
              "#fdca26"
             ],
             [
              1,
              "#f0f921"
             ]
            ],
            "type": "surface"
           }
          ],
          "table": [
           {
            "cells": {
             "fill": {
              "color": "#EBF0F8"
             },
             "line": {
              "color": "white"
             }
            },
            "header": {
             "fill": {
              "color": "#C8D4E3"
             },
             "line": {
              "color": "white"
             }
            },
            "type": "table"
           }
          ]
         },
         "layout": {
          "annotationdefaults": {
           "arrowcolor": "#2a3f5f",
           "arrowhead": 0,
           "arrowwidth": 1
          },
          "autotypenumbers": "strict",
          "coloraxis": {
           "colorbar": {
            "outlinewidth": 0,
            "ticks": ""
           }
          },
          "colorscale": {
           "diverging": [
            [
             0,
             "#8e0152"
            ],
            [
             0.1,
             "#c51b7d"
            ],
            [
             0.2,
             "#de77ae"
            ],
            [
             0.3,
             "#f1b6da"
            ],
            [
             0.4,
             "#fde0ef"
            ],
            [
             0.5,
             "#f7f7f7"
            ],
            [
             0.6,
             "#e6f5d0"
            ],
            [
             0.7,
             "#b8e186"
            ],
            [
             0.8,
             "#7fbc41"
            ],
            [
             0.9,
             "#4d9221"
            ],
            [
             1,
             "#276419"
            ]
           ],
           "sequential": [
            [
             0,
             "#0d0887"
            ],
            [
             0.1111111111111111,
             "#46039f"
            ],
            [
             0.2222222222222222,
             "#7201a8"
            ],
            [
             0.3333333333333333,
             "#9c179e"
            ],
            [
             0.4444444444444444,
             "#bd3786"
            ],
            [
             0.5555555555555556,
             "#d8576b"
            ],
            [
             0.6666666666666666,
             "#ed7953"
            ],
            [
             0.7777777777777778,
             "#fb9f3a"
            ],
            [
             0.8888888888888888,
             "#fdca26"
            ],
            [
             1,
             "#f0f921"
            ]
           ],
           "sequentialminus": [
            [
             0,
             "#0d0887"
            ],
            [
             0.1111111111111111,
             "#46039f"
            ],
            [
             0.2222222222222222,
             "#7201a8"
            ],
            [
             0.3333333333333333,
             "#9c179e"
            ],
            [
             0.4444444444444444,
             "#bd3786"
            ],
            [
             0.5555555555555556,
             "#d8576b"
            ],
            [
             0.6666666666666666,
             "#ed7953"
            ],
            [
             0.7777777777777778,
             "#fb9f3a"
            ],
            [
             0.8888888888888888,
             "#fdca26"
            ],
            [
             1,
             "#f0f921"
            ]
           ]
          },
          "colorway": [
           "#636efa",
           "#EF553B",
           "#00cc96",
           "#ab63fa",
           "#FFA15A",
           "#19d3f3",
           "#FF6692",
           "#B6E880",
           "#FF97FF",
           "#FECB52"
          ],
          "font": {
           "color": "#2a3f5f"
          },
          "geo": {
           "bgcolor": "white",
           "lakecolor": "white",
           "landcolor": "#E5ECF6",
           "showlakes": true,
           "showland": true,
           "subunitcolor": "white"
          },
          "hoverlabel": {
           "align": "left"
          },
          "hovermode": "closest",
          "mapbox": {
           "style": "light"
          },
          "paper_bgcolor": "white",
          "plot_bgcolor": "#E5ECF6",
          "polar": {
           "angularaxis": {
            "gridcolor": "white",
            "linecolor": "white",
            "ticks": ""
           },
           "bgcolor": "#E5ECF6",
           "radialaxis": {
            "gridcolor": "white",
            "linecolor": "white",
            "ticks": ""
           }
          },
          "scene": {
           "xaxis": {
            "backgroundcolor": "#E5ECF6",
            "gridcolor": "white",
            "gridwidth": 2,
            "linecolor": "white",
            "showbackground": true,
            "ticks": "",
            "zerolinecolor": "white"
           },
           "yaxis": {
            "backgroundcolor": "#E5ECF6",
            "gridcolor": "white",
            "gridwidth": 2,
            "linecolor": "white",
            "showbackground": true,
            "ticks": "",
            "zerolinecolor": "white"
           },
           "zaxis": {
            "backgroundcolor": "#E5ECF6",
            "gridcolor": "white",
            "gridwidth": 2,
            "linecolor": "white",
            "showbackground": true,
            "ticks": "",
            "zerolinecolor": "white"
           }
          },
          "shapedefaults": {
           "line": {
            "color": "#2a3f5f"
           }
          },
          "ternary": {
           "aaxis": {
            "gridcolor": "white",
            "linecolor": "white",
            "ticks": ""
           },
           "baxis": {
            "gridcolor": "white",
            "linecolor": "white",
            "ticks": ""
           },
           "bgcolor": "#E5ECF6",
           "caxis": {
            "gridcolor": "white",
            "linecolor": "white",
            "ticks": ""
           }
          },
          "title": {
           "x": 0.05
          },
          "xaxis": {
           "automargin": true,
           "gridcolor": "white",
           "linecolor": "white",
           "ticks": "",
           "title": {
            "standoff": 15
           },
           "zerolinecolor": "white",
           "zerolinewidth": 2
          },
          "yaxis": {
           "automargin": true,
           "gridcolor": "white",
           "linecolor": "white",
           "ticks": "",
           "title": {
            "standoff": 15
           },
           "zerolinecolor": "white",
           "zerolinewidth": 2
          }
         }
        },
        "title": {
         "text": "Detecting Outliers of Age"
        },
        "xaxis": {
         "anchor": "y",
         "domain": [
          0,
          1
         ],
         "title": {
          "text": "Age"
         }
        },
        "yaxis": {
         "anchor": "x",
         "domain": [
          0,
          1
         ]
        }
       }
      }
     },
     "metadata": {},
     "output_type": "display_data"
    }
   ],
   "source": [
    "import plotly.express as px\n",
    "\n",
    "age_fig = px.box(data, x='Age', title='Detecting Outliers of Age')\n",
    "age_fig.show()"
   ]
  },
  {
   "cell_type": "code",
   "execution_count": 18,
   "id": "456ef3e878798f22",
   "metadata": {
    "ExecuteTime": {
     "end_time": "2025-08-12T15:33:46.638479Z",
     "start_time": "2025-08-12T15:33:46.593872Z"
    }
   },
   "outputs": [
    {
     "data": {
      "application/vnd.plotly.v1+json": {
       "config": {
        "plotlyServerURL": "https://plot.ly"
       },
       "data": [
        {
         "alignmentgroup": "True",
         "hovertemplate": "Tumor_Size=%{x}<extra></extra>",
         "legendgroup": "",
         "marker": {
          "color": "#636efa"
         },
         "name": "",
         "notched": false,
         "offsetgroup": "",
         "orientation": "h",
         "showlegend": false,
         "type": "box",
         "x": {
          "bdata": "AAAAAAAAEEAAAAAAAIBBQAAAAAAAgE9AAAAAAAAAMkAAAAAAAIBEQAAAAAAAADRAAAAAAAAAIEAAAAAAAAA+QAAAAAAAwFlAAAAAAAAAQEAAAAAAAAAqQAAAAAAAgE1AAAAAAACAQUAAAAAAAAAuQAAAAAAAgEFAAAAAAAAAM0AAAAAAAABHQAAAAAAAADhAAAAAAAAAOUAAAAAAAAA9QAAAAAAAAD5AAAAAAAAAREAAAAAAAAA9QAAAAAAAgFFAAAAAAAAANEAAAAAAAAA2QAAAAAAAAElAAAAAAAAAMUAAAAAAAAA5QAAAAAAAADVAAAAAAAAAREAAAAAAAAAuQAAAAAAAAC5AAAAAAAAANEAAAAAAAAA+QAAAAAAAACRAAAAAAAAAO0AAAAAAAAAyQAAAAAAAgEFAAAAAAAAAN0AAAAAAAIBRQAAAAAAAADFAAAAAAAAANUAAAAAAAAA3QAAAAAAAABRAAAAAAACASUAAAAAAAAAiQAAAAAAAAC5AAAAAAAAAQEAAAAAAAAAUQAAAAAAAADdAAAAAAACAS0AAAAAAAABeQAAAAAAAQFNAAAAAAAAAAEAAAAAAAAAmQAAAAAAAADlAAAAAAAAAMkAAAAAAAAAuQAAAAAAAAChAAAAAAAAAMkAAAAAAAAAxQAAAAAAAADpAAAAAAADAUkAAAAAAAAAqQAAAAAAAAC5AAAAAAACAUUAAAAAAAAAuQAAAAAAAAC5AAAAAAAAAMUAAAAAAAEBgQAAAAAAAAEFAAAAAAAAAPkAAAAAAAAAkQAAAAAAAADZAAAAAAACAS0AAAAAAAAA5QAAAAAAAAElAAAAAAAAASUAAAAAAAAAuQAAAAAAAAD5AAAAAAAAANEAAAAAAAAA2QAAAAAAAAC5AAAAAAAAALkAAAAAAAABEQAAAAAAAAF5AAAAAAAAAVEAAAAAAAAAxQAAAAAAAAAhAAAAAAAAATkAAAAAAAAAsQAAAAAAAADpAAAAAAAAAOUAAAAAAAAAoQAAAAAAAADlAAAAAAAAAPkAAAAAAAAA5QAAAAAAAADhAAAAAAAAAO0AAAAAAAIBRQAAAAAAAADBAAAAAAACARkAAAAAAAAA7QAAAAAAAADdAAAAAAAAAOUAAAAAAAABEQAAAAAAAADRAAAAAAAAANUAAAAAAAABCQAAAAAAAACxAAAAAAACASUAAAAAAAABJQAAAAAAAgEZAAAAAAACASUAAAAAAAAAzQAAAAAAAAFNAAAAAAAAANEAAAAAAAIBBQAAAAAAAADtAAAAAAACAQUAAAAAAAIBBQAAAAAAAAElAAAAAAAAAQ0AAAAAAAAAuQAAAAAAAADFAAAAAAAAAOUAAAAAAAAAzQAAAAAAAAC5AAAAAAAAAMkAAAAAAAAAmQAAAAAAAgEZAAAAAAAAAKEAAAAAAAAA0QAAAAAAAgEZAAAAAAAAAMkAAAAAAAAA5QAAAAAAAADVAAAAAAACASEAAAAAAAIBRQAAAAAAAABxAAAAAAAAAM0AAAAAAAAAxQAAAAAAAAENAAAAAAAAAQUAAAAAAAAA+QAAAAAAAABBAAAAAAAAAUkAAAAAAAAAyQAAAAAAAADlAAAAAAAAAIkAAAAAAAAA1QAAAAAAAADRAAAAAAAAALkAAAAAAAAAyQAAAAAAAAFlAAAAAAAAAMUAAAAAAAAAcQAAAAAAAADhAAAAAAACARUAAAAAAAAA+QAAAAAAAABxAAAAAAAAAMkAAAAAAAAAoQAAAAAAAADlAAAAAAAAAT0AAAAAAAAA0QAAAAAAAgFFAAAAAAACAQkAAAAAAAAAqQAAAAAAAAERAAAAAAACAUUAAAAAAAAAoQAAAAAAAACJAAAAAAAAAJEAAAAAAAIBLQAAAAAAAADJAAAAAAAAALkAAAAAAAAA5QAAAAAAAAElAAAAAAAAAJEAAAAAAAAA+QAAAAAAAACpAAAAAAAAAREAAAAAAAABZQAAAAAAAADlAAAAAAAAAUUAAAAAAAAA5QAAAAAAAADdAAAAAAAAALkAAAAAAAAA2QAAAAAAAABxAAAAAAAAAMEAAAAAAAAA4QAAAAAAAwFJAAAAAAAAAJkAAAAAAAIBBQAAAAAAAAE5AAAAAAAAAPkAAAAAAAAA5QAAAAAAAADlAAAAAAAAAOUAAAAAAAAAoQAAAAAAAADlAAAAAAAAAMUAAAAAAAAAmQAAAAAAAAEBAAAAAAAAANUAAAAAAAAA5QAAAAAAAADNAAAAAAADAUsAAAAAAAABKQAAAAAAAACJAAAAAAAAAMUAAAAAAAIBBQAAAAAAAQFVAAAAAAAAASUAAAAAAAIBJQAAAAAAAADJAAAAAAADAUkAAAAAAAABSQAAAAAAAgEFAAAAAAAAAKEAAAAAAAAA3QAAAAAAAADBAAAAAAAAAMEAAAAAAAIBMQAAAAAAAAElAAAAAAAAAMUAAAAAAAABAQAAAAAAAADVAAAAAAAAAJkAAAAAAAABEQAAAAAAAAC5AAAAAAAAAMUAAAAAAAAAsQAAAAAAAAE5AAAAAAACAS0AAAAAAAABeQAAAAAAAACZAAAAAAACAQ0AAAAAAAAA3QAAAAAAAADxAAAAAAACAQkAAAAAAAABEQAAAAAAAACJAAAAAAAAAIEAAAAAAAAA8QAAAAAAAAC5AAAAAAAAAMUAAAAAAAABJQAAAAAAAAEhAAAAAAAAAPkAAAAAAAABRQAAAAAAAgFtAAAAAAAAAN0AAAAAAAAAoQAAAAAAAACpAAAAAAAAAREAAAAAAAAA+QAAAAAAAACJAAAAAAAAANkAAAAAAAAA+QAAAAAAAAChAAAAAAAAAJEAAAAAAAAA5QAAAAAAAADBAAAAAAABAUEAAAAAAAAA2QAAAAAAAADFAAAAAAAAATkAAAAAAAAA2QAAAAAAAgEFAAAAAAAAAMkAAAAAAAABBQAAAAAAAABhAAAAAAABAWkAAAAAAAABZQAAAAAAAADRAAAAAAACATEAAAAAAAAAkQAAAAAAAADFAAAAAAAAAOUAAAAAAAAA1QAAAAAAAgEZAAAAAAAAASUAAAAAAAIBBQAAAAAAAAENAAAAAAAAAMEAAAAAAAIBhQAAAAAAAADlAAAAAAAAAMkAAAAAAAAAyQAAAAAAAAEFAAAAAAABAUEAAAAAAAAAqQAAAAAAAADRAAAAAAAAAPUAAAAAAAAAkQAAAAAAAAE9AAAAAAAAASUAAAAAAAAA9QAAAAAAAAC5AAAAAAAAALkAAAAAAAABFQAAAAAAAQGBAAAAAAAAANUAAAAAAAIBJQAAAAAAAAD5AAAAAAACAQUAAAAAAAAA/QAAAAAAAACxAAAAAAAAALkAAAAAAAABOQAAAAAAAADRAAAAAAAAANkAAAAAAAABUQAAAAAAAAC5AAAAAAAAAWUAAAAAAAAA+QAAAAAAAACBAAAAAAAAALkAAAAAAAABUQAAAAAAAAD5AAAAAAAAAOUAAAAAAAAA4QAAAAAAAgEFAAAAAAAAAKEAAAAAAAIBGQAAAAAAAADlAAAAAAACAQUAAAAAAAAA8QAAAAAAAADFAAAAAAAAALkAAAAAAAABAQAAAAAAAAC5AAAAAAAAATkAAAAAAAIBWQAAAAAAAACZAAAAAAACAQkAAAAAAAAA1QAAAAAAAAABAAAAAAACAUUAAAAAAAAAgQAAAAAAAADZAAAAAAAAAREAAAAAAAAAqQAAAAAAAAEBAAAAAAAAAFEAAAAAAAAAyQAAAAAAAAEpAAAAAAAAAP0AAAAAAAAAsQAAAAAAAABxAAAAAAAAAKEAAAAAAAAA1QAAAAAAAADRAAAAAAAAAOkAAAAAAAAAwQAAAAAAAAC5AAAAAAAAAOUAAAAAAAAA0QAAAAAAAAFRAAAAAAAAAPkAAAAAAAAAwQAAAAAAAADRAAAAAAAAAMUAAAAAAAABZQAAAAAAAgERAAAAAAAAAMEAAAAAAAAA5QAAAAAAAAFtAAAAAAAAAKEAAAAAAAABDQAAAAAAAADhAAAAAAACARkAAAAAAAIBYQAAAAAAAADlAAAAAAAAAPkAAAAAAAIBWQAAAAAAAADtAAAAAAACAR0AAAAAAAAA+QAAAAAAAADlAAAAAAAAAMUAAAAAAAAA2QAAAAAAAADJAAAAAAAAAMkAAAAAAAAA5QAAAAAAAADtAAAAAAAAAOUAAAAAAAIBRQAAAAAAAQFBAAAAAAAAANkAAAAAAAIBGQAAAAAAAADRAAAAAAABAUEAAAAAAAAAxQAAAAAAAAC5AAAAAAAAALkAAAAAAAAAzQAAAAAAAgFZAAAAAAAAAJEAAAAAAAABEQAAAAAAAAD9AAAAAAAAAPkAAAAAAAAA6QAAAAAAAADlAAAAAAAAAJkAAAAAAAAA2QAAAAAAAgE1AAAAAAAAAN0AAAAAAAAA5QAAAAAAAADJAAAAAAAAALkAAAAAAAAA+QAAAAAAAADlAAAAAAAAAO0AAAAAAAAA5QAAAAAAAADhAAAAAAAAAOEAAAAAAAAA0QAAAAAAAACRAAAAAAAAAHEAAAAAAAABFQAAAAAAAAEtAAAAAAADAUkAAAAAAAAAuQAAAAAAAADZAAAAAAAAANEAAAAAAAEBQQAAAAAAAgE5AAAAAAAAAO0AAAAAAAAAwQAAAAAAAgEFAAAAAAACAS0AAAAAAAAAxQAAAAAAAACBAAAAAAAAAOUAAAAAAAAAkQAAAAAAAADpAAAAAAAAAXkAAAAAAAAAcQAAAAAAAADJAAAAAAAAAPkAAAAAAAIBRQAAAAAAAADRAAAAAAAAAVEAAAAAAAAA+QAAAAAAAgEZAAAAAAAAAOUAAAAAAAAAYQAAAAAAAADVAAAAAAAAAJkAAAAAAAAAyQAAAAAAAAERAAAAAAAAANEAAAAAAAAAoQAAAAAAAADBAAAAAAAAAJEAAAAAAAAA0QAAAAAAAADRAAAAAAAAAOUAAAAAAAAAxQAAAAAAAADZAAAAAAAAANEAAAAAAAAA0QAAAAAAAAD5AAAAAAAAAKkAAAAAAAAAuQAAAAAAAAEJAAAAAAAAAIEAAAAAAAAAkQAAAAAAAgEFAAAAAAACAUUAAAAAAAIBBQAAAAAAAgFJAAAAAAAAAMEAAAAAAAIBRQAAAAAAAADVAAAAAAAAAWUAAAAAAAIBRQAAAAAAAAChAAAAAAAAAVEAAAAAAAAA5QAAAAAAAADNAAAAAAAAAOUAAAAAAAAAwQAAAAAAAAE5AAAAAAAAALkAAAAAAAAA0QAAAAAAAACJAAAAAAAAAMEAAAAAAAABOQAAAAAAAAC5AAAAAAAAAKEAAAAAAAAAxQAAAAAAAADlAAAAAAAAAMkAAAAAAAAAuQAAAAAAAgEZAAAAAAACAUUAAAAAAAAAkQAAAAAAAACJAAAAAAAAAKEAAAAAAAAAuQAAAAAAAADJAAAAAAAAAKEAAAAAAAAAwQAAAAAAAAC5AAAAAAAAAPkAAAAAAAAA0QAAAAAAAADVAAAAAAAAAJEAAAAAAAIBBQAAAAAAAADZAAAAAAACAQEAAAAAAAABOQAAAAAAAACpAAAAAAAAANUAAAAAAAAAqQAAAAAAAgENAAAAAAAAAPUAAAAAAAIBBQAAAAAAAADJAAAAAAAAAWUAAAAAAAEBgQAAAAAAAADVAAAAAAAAAOkAAAAAAAABJQAAAAAAAACBAAAAAAAAAMEAAAAAAAAAwQAAAAAAAAC5AAAAAAAAAPEAAAAAAAAA3QAAAAAAAAPA/AAAAAAAAN0AAAAAAAAA1QAAAAAAAADNAAAAAAADAVUAAAAAAAIBAQAAAAAAAAC5AAAAAAAAAKkAAAAAAAAAuQAAAAAAAADlAAAAAAAAATkAAAAAAAAA+QAAAAAAAADJAAAAAAAAANEAAAAAAAIBLQBoajihXaz5AAAAAAAAAJkAAAAAAAAAmQAAAAAAAAERAAAAAAAAAMEAAAAAAAIBLQAAAAAAAAEJAAAAAAAAAMEAAAAAAAAA5QAAAAAAAAD5AAAAAAAAAM0AAAAAAAAA+QAAAAAAAgEtAAAAAAAAAVEAAAAAAAABJQAAAAAAAACxAAAAAAAAAJEAAAAAAAAA+QAAAAAAAAE5AAAAAAAAAOEAAAAAAAABAQAAAAAAAAEVAAAAAAACAQUAAAAAAAAA6QAAAAAAAAD5AAAAAAAAAP0AAAAAAAAAmQAAAAAAAADpAAAAAAAAAMkAAAAAAAIBFQAAAAAAAADRAAAAAAACAQUAAAAAAAAAqQAAAAAAAACxAAAAAAABAVEAAAAAAAAAkQAAAAAAAACRAAAAAAAAANEAAAAAAAAA+QAAAAAAAADZAAAAAAAAANEAAAAAAAAA8QAAAAAAAAFRAAAAAAACAQkAAAAAAAIBBQAAAAAAAAChAAAAAAAAAM0AAAAAAAAA0QAAAAAAAADZAAAAAAAAALEAAAAAAAABAQAAAAAAAAFRAAAAAAAAANUAAAAAAAAA5QAAAAAAAADVAAAAAAAAALkAAAAAAAAA8QAAAAAAAADJAAAAAAAAAO0AAAAAAAAA+QAAAAAAAADlAAAAAAACAQUAAAAAAAAAoQAAAAAAAAD5AAAAAAAAAPUAAAAAAAIBRQAAAAAAAADVAAAAAAAAATkAAAAAAAAA5QAAAAAAAADRAAAAAAAAANkAAAAAAAAAoQAAAAAAAAEhAAAAAAAAAP0AAAAAAAAA7QAAAAAAAADJAAAAAAAAA8D8AAAAAAABEQAAAAAAAADpAAAAAAAAAVEAAAAAAAAA0QAAAAAAAADtAAAAAAAAANEAAAAAAAAA+QAAAAAAAADlAAAAAAAAANkAAAAAAAIBPQAAAAAAAACRAAAAAAAAAJEAAAAAAAABEQAAAAAAAACRAAAAAAAAAREAAAAAAAAA0QAAAAAAAAD5AAAAAAAAAGEAAAAAAAAA2QAAAAAAAADZAAAAAAAAALkAAAAAAAABEQAAAAAAAgEZAAAAAAAAAKkAAAAAAAAA5QAAAAAAAACZAAAAAAAAATUAAAAAAAAA+QAAAAAAAADdAAAAAAAAAIkAAAAAAAABAQAAAAAAAgEFAAAAAAAAALkAAAAAAAAAuQAAAAAAAADVAAAAAAACASUAAAAAAAAAuQAAAAAAAAE5AGhqOKFdrPkAAAAAAAIBJQAAAAAAAADlAAAAAAAAAPkAAAAAAAAAmQAAAAAAAAERAAAAAAAAAFEAAAAAAAIBBQAAAAAAAAENAAAAAAAAAPkAAAAAAAAA5QAAAAAAAADlAAAAAAAAAO0AAAAAAAAA5QAAAAAAAADJAAAAAAAAAREAAAAAAAABEQAAAAAAAAC5AAAAAAAAANEAAAAAAAAA3QAAAAAAAAEFAAAAAAAAAMEAAAAAAAAAyQAAAAAAAAElAAAAAAACARkAAAAAAAABZQAAAAAAAADJAAAAAAAAAN0AAAAAAAAA5QAAAAAAAAEBAAAAAAAAAPkAAAAAAAAA+QAAAAAAAAD5AAAAAAAAAMkAAAAAAAAA4QAAAAAAAgFFAAAAAAAAAPEAAAAAAAAA0QAAAAAAAgEFAAAAAAABAXUAAAAAAAAAkQAAAAAAAgFFAAAAAAACAQUAAAAAAAAAmQAAAAAAAADtAAAAAAAAAKEAAAAAAAAA6QAAAAAAAAFNAAAAAAAAAQEAAAAAAAAAyQAAAAAAAADdAAAAAAAAAJEAAAAAAAAAyQAAAAAAAADdAAAAAAAAAOUAAAAAAAABAQAAAAAAAADJAAAAAAAAAMUAAAAAAAABKQAAAAAAAADtAAAAAAAAAHEAAAAAAAIBRQAAAAAAAADpAAAAAAACAS0AAAAAAAAA0QAAAAAAAAC5AAAAAAAAANEAAAAAAAAA0QAAAAAAAgE5AAAAAAAAAIEAAAAAAAAAuQAAAAAAAAChAAAAAAAAAREAAAAAAAAA5QAAAAAAAgGFAAAAAAAAAKEAAAAAAAAA1QAAAAAAAADdAAAAAAAAANEAAAAAAAAAxQAAAAAAAQFBAGhqOKFdrPkAAAAAAAAAzQAAAAAAAAChAAAAAAAAAJkAAAAAAAABEQAAAAAAAADpAAAAAAAAAPkAAAAAAAABJQAAAAAAAAEZAAAAAAAAANUAAAAAAAIBBQAAAAAAAADZAAAAAAACAS0AAAAAAAAAxQAAAAAAAAPA/AAAAAAAAN0AAAAAAAAA5QAAAAAAAACxAAAAAAAAAOUAAAAAAAIBBQAAAAAAAADRAAAAAAAAAOUAAAAAAAIBWQAAAAAAAACpAAAAAAAAAKEAAAAAAAIBGQAAAAAAAAC5AAAAAAACAQUAAAAAAAAAxQAAAAAAAADhAAAAAAACAS0AAAAAAAAAwQAAAAAAAADRAAAAAAAAAMkAAAAAAAABAQAAAAAAAAD5AAAAAAAAAPkAAAAAAAAAzQAAAAAAAADhAAAAAAAAAMkAAAAAAAAA5QAAAAAAAADNAAAAAAAAAPkAAAAAAAABAQAAAAAAAADBAAAAAAAAAAEAAAAAAAAA+QAAAAAAAADtAAAAAAAAAJEAAAAAAAAAkQAAAAAAAADJAAAAAAAAAPkAAAAAAAAA2QAAAAAAAAERAAAAAAABAUEAAAAAAAAAqQAAAAAAAABhAAAAAAAAAREAAAAAAAAAzQAAAAAAAADRAAAAAAACARkAAAAAAAAA/QAAAAAAAAD5AAAAAAAAALEAAAAAAAIBBQAAAAAAAACRAAAAAAAAAOUAAAAAAAABEQAAAAAAAgEZAAAAAAAAANUAAAAAAAAA8QAAAAAAAABBAAAAAAAAAOUAAAAAAAAAuQAAAAAAAgE5AAAAAAAAANkAAAAAAAAA7QAAAAAAAADNAAAAAAAAAOUAAAAAAAAAgQAAAAAAAADdAAAAAAAAAVEAAAAAAAAAcQAAAAAAAAC5AAAAAAAAAKkAAAAAAAAA+QAAAAAAAAElAAAAAAAAAP0AAAAAAAAA+QAAAAAAAAC5AAAAAAAAALkAAAAAAAABJQAAAAAAAADlAAAAAAAAAPkAAAAAAAABOQAAAAAAAADVAAAAAAACASUAAAAAAAAAyQAAAAAAAADlAAAAAAAAASUAAAAAAAAAgQAAAAAAAAERAAAAAAAAAMEAAAAAAAAAyQAAAAAAAACpAAAAAAACAQUAAAAAAAAAoQAAAAAAAAElAAAAAAAAAPUAAAAAAAAA0QAAAAAAAABxAAAAAAAAANUAAAAAAAAA0QAAAAAAAADZAAAAAAAAAP0AAAAAAAIBGQAAAAAAAADlAAAAAAACAQUAAAAAAAAAuQAAAAAAAADZAAAAAAAAALkAAAAAAAAAwQAAAAAAAADpAAAAAAACAQUAAAAAAAAA+QAAAAAAAADdAAAAAAAAAMkAAAAAAAMBeQAAAAAAAADBAAAAAAAAAJkAAAAAAAMBSQAAAAAAAAE5AAAAAAAAANEAAAAAAAAAuQAAAAAAAADtAAAAAAAAAIkAAAAAAAABOQAAAAAAAABxAAAAAAAAAM0AAAAAAAAAuQAAAAAAAAERAAAAAAAAAM0AAAAAAAEBgQAAAAAAAAD5AAAAAAACAUUAAAAAAAAA4QAAAAAAAgFtAAAAAAACgYEAAAAAAAAA2QAAAAAAAgEtAAAAAAADAV0AAAAAAAAA5QAAAAAAAACpAAAAAAAAAKEAAAAAAAAAxQAAAAAAAACRAAAAAAACAUUAAAAAAAAA+QAAAAAAAADRAAAAAAADAWkAAAAAAAABEQAAAAAAAAD5AAAAAAACAVkAAAAAAAAAwQAAAAAAAgEdAAAAAAAAAPkAAAAAAAAAcQAAAAAAAAD5AAAAAAAAANEAAAAAAAABOQAAAAAAAAD5AAAAAAAAALEAAAAAAAAA0QAAAAAAAADtAAAAAAAAAREAAAAAAAABXQAAAAAAAABxAAAAAAAAANEAAAAAAAAA2QAAAAAAAACBAAAAAAAAASUAAAAAAAAA2QAAAAAAAACxAAAAAAAAAPkAAAAAAAABJQAAAAAAAAC5AAAAAAAAAOUAAAAAAAAAyQAAAAAAAgEFAAAAAAAAAKkAAAAAAAABZQAAAAAAAQFpAAAAAAAAANEAAAAAAAAAuQAAAAAAAAD5AAAAAAAAAKEAAAAAAAABJQAAAAAAAADRAAAAAAAAAHEAAAAAAAABFQAAAAAAAADNAAAAAAAAAO0AAAAAAAAAsQAAAAAAAADFAAAAAAAAALkAAAAAAAAAqQAAAAAAAAChAAAAAAAAAOkAAAAAAAAA0QAAAAAAAADFAAAAAAAAANEAAAAAAAAA4QAAAAAAAAD5AAAAAAAAAMEAAAAAAAAAyQAAAAAAAAD5AAAAAAAAASkAAAAAAAABOQAAAAAAAADVAAAAAAACAQEAAAAAAAAAYQAAAAAAAADlAAAAAAAAALkAAAAAAAAAsQAAAAAAAQFpAAAAAAACAQUAAAAAAAIBMQAAAAAAAADRAAAAAAAAANEAAAAAAAAA8QAAAAAAAAE5AAAAAAAAAOUAAAAAAAAAoQAAAAAAAQFFAAAAAAACAS0AAAAAAAABOQAAAAAAAADRAAAAAAAAAKkAAAAAAAABZQAAAAAAAAABAAAAAAAAANEAAAAAAAABDQAAAAAAAADhAAAAAAAAAOUAAAAAAAAAuQAAAAAAAADlAAAAAAACASUAAAAAAAIBBQAAAAAAAADlAAAAAAACARkAAAAAAAAA1QAAAAAAAADNAAAAAAAAAREAAAAAAAAAiQAAAAAAAADZAAAAAAAAAQ0AAAAAAAABJQAAAAAAAAD5AAAAAAAAAN0AAAAAAAAA1QAAAAAAAgGFAAAAAAAAATkAAAAAAAAAxQAAAAAAAgEtAAAAAAAAAMUAAAAAAAAA9QAAAAAAAAERAAAAAAAAAMUAAAAAAAAA+QAAAAAAAAEBAAAAAAAAAREAAAAAAAAAuQAAAAAAAgEFAAAAAAAAAQEAAAAAAAAA1QAAAAAAAADlAAAAAAACAQEAAAAAAAAA2QAAAAAAAAC5AAAAAAAAAQEAAAAAAAAAYQAAAAAAAAD5AAAAAAAAALEAAAAAAAAAkQAAAAAAAAChAAAAAAAAALkAAAAAAAAA1QAAAAAAAADRAAAAAAAAANEAAAAAAAAAuQAAAAAAAAEtAAAAAAAAANUAAAAAAAAA2QAAAAAAAADZAAAAAAAAAMUAAAAAAAAA5QAAAAAAAADZAAAAAAACARkAAAAAAAAAmQAAAAAAAADFAAAAAAAAAMUAAAAAAAABEQAAAAAAAABRAAAAAAAAAKkAAAAAAAAAzQAAAAAAAADNAAAAAAACAQUAAAAAAAAAwQAAAAAAAAC5AAAAAAAAAN0AAAAAAAAAuQAAAAAAAADNAAAAAAAAAMkAAAAAAAAAwQAAAAAAAADVAAAAAAAAAQEAAAAAAAAAqQAAAAAAAADBAAAAAAAAAREAAAAAAAABJQAAAAAAAgEFAAAAAAAAAMEAAAAAAAIBBQAAAAAAAAEJAAAAAAACAQUAAAAAAAIBLQAAAAAAAADlAAAAAAAAANkAAAAAAAAAxQAAAAAAAgEtAAAAAAAAAJEAAAAAAAAA3QAAAAAAAADlAAAAAAAAAFEAAAAAAAAAwQAAAAAAAgEtAAAAAAAAAOEAAAAAAAAA1QAAAAAAAACpAAAAAAAAANkAAAAAAAAAsQAAAAAAAAD5AAAAAAAAAMkAAAAAAAAAwQAAAAAAAAExAAAAAAAAAP0AAAAAAAAAsQAAAAAAAAC5AAAAAAACAVEAAAAAAAAAwQAAAAAAAADBAAAAAAAAAMEAAAAAAAAAwQAAAAAAAAElAAAAAAAAAOUAAAAAAAAAyQAAAAAAAADlAAAAAAAAAMkAAAAAAAAA+QAAAAAAAQFBAAAAAAAAA8D8AAAAAAAA5QAAAAAAAADRAAAAAAAAAPkAAAAAAAAA+QAAAAAAAADJAAAAAAAAAMEAAAAAAAABJQAAAAAAAAEpAAAAAAACAQkAAAAAAAAA5QAAAAAAAAERAAAAAAAAASUAAAAAAAAAuQAAAAAAAADlAAAAAAAAAVEAAAAAAAAAqQAAAAAAAADlAAAAAAAAAREAAAAAAAAAuQAAAAAAAADNAAAAAAABAUEAAAAAAAAAyQAAAAAAAAC5AAAAAAAAAMEAAAAAAAAA3QAAAAAAAADVAAAAAAAAAJEAAAAAAAAA0QAAAAAAAAERAAAAAAAAAP0AAAAAAAAAuQAAAAAAAACZAAAAAAACAS0AAAAAAAAAuQAAAAAAAgEJAAAAAAAAARUAAAAAAAAA2QAAAAAAAAEhAAAAAAAAALkAAAAAAAAAcQAAAAAAAAERAAAAAAAAAKEAAAAAAAAAoQAAAAAAAQFBAAAAAAAAALkAAAAAAAAAwQAAAAAAAADZAAAAAAACAQUAAAAAAAAA5QAAAAAAAADRAAAAAAAAAMkAAAAAAAEBVQAAAAAAAADlAAAAAAAAAWUAAAAAAAAAuQAAAAAAAADJAAAAAAAAALEAAAAAAAAA3QAAAAAAAAERAAAAAAAAAMUAAAAAAAAA1QAAAAAAAADZAAAAAAAAAP0AAAAAAAAAmQAAAAAAAADNAAAAAAACAQUAAAAAAAAAiQAAAAAAAADVAAAAAAAAAGEAAAAAAAAA0QAAAAAAAAE5AAAAAAAAAQ0AAAAAAAAAiQAAAAAAAACZAAAAAAAAAPkAAAAAAAAA2QAAAAAAAADlAAAAAAAAAKkAAAAAAAAA+QAAAAAAAADlAAAAAAAAAOUAAAAAAAABIQAAAAAAAABhAAAAAAAAALEAAAAAAAAAcQAAAAAAAgFZAAAAAAAAAOUAAAAAAAAAuQAAAAAAAAF5AAAAAAAAALEAAAAAAAAAuQAAAAAAAgEFAAAAAAAAAPkAAAAAAAAAwQAAAAAAAACJAAAAAAAAAN0AAAAAAAAAxQAAAAAAAgEVAAAAAAAAAM0AAAAAAAAA1QAAAAAAAADFAAAAAAACARkAAAAAAAAAyQAAAAAAAgEVAAAAAAACATkAAAAAAAAA7QAAAAAAAAC5AAAAAAAAAOUAAAAAAAAA/QAAAAAAAAElAAAAAAAAAPkAAAAAAAABDQAAAAAAAABRAAAAAAAAAJkAAAAAAAIBBQAAAAAAAABxAAAAAAAAALEAAAAAAAABeQAAAAAAAACxAAAAAAACAQEAAAAAAAAAzQAAAAAAAADNAAAAAAAAALkAAAAAAAAAyQAAAAAAAgEdAAAAAAAAAKkAAAAAAAAA5QAAAAAAAADxAAAAAAAAAMEAAAAAAAAA/QAAAAAAAABBAAAAAAAAAP0AAAAAAAAA+QAAAAAAAgEtAAAAAAAAAPkAAAAAAAAAsQAAAAAAAADFAAAAAAAAANUAAAAAAAIBRQAAAAAAAAD5AAAAAAAAALkAAAAAAAABEQAAAAAAAACBAAAAAAAAAHEAAAAAAAABEQAAAAAAAgEFAAAAAAAAAMEAAAAAAAAA+QAAAAAAAADJAAAAAAAAAPkAAAAAAAAAuQAAAAAAAAChAAAAAAAAAREAAAAAAAIBMQAAAAAAAAE5AAAAAAAAAQ0AAAAAAAIBLQAAAAAAAADhAAAAAAAAANEAAAAAAAABEQAAAAAAAAENAAAAAAACAUUAAAAAAAAAyQAAAAAAAADlAAAAAAACAUkAAAAAAAABOQAAAAAAAAE5AAAAAAAAAN0AAAAAAAIBGQAAAAAAAADVAAAAAAAAALEAAAAAAAAAqQAAAAAAAADRAAAAAAAAANUAAAAAAAAA5QAAAAAAAADZAAAAAAAAAIEAAAAAAAAA5QAAAAAAAADlAAAAAAACAUUAAAAAAAAAmQAAAAAAAAFRAAAAAAAAAMEAAAAAAAAAyQAAAAAAAAC5AAAAAAAAAOkAAAAAAAAA0QAAAAAAAADJAAAAAAAAAMkAAAAAAAAAsQAAAAAAAAEVAAAAAAAAATUAAAAAAAAAyQAAAAAAAADlAAAAAAAAAIkAAAAAAAAAzQAAAAAAAACZAAAAAAAAALkAAAAAAAAA1QAAAAAAAAEpAAAAAAAAAREAAAAAAAAAmQAAAAAAAADRAAAAAAACAQEAAAAAAAAAsQAAAAAAAADxAAAAAAAAANEAAAAAAAAAzQAAAAAAAAFlAAAAAAAAAIkAAAAAAAAA5QAAAAAAAAC5AAAAAAAAATkAAAAAAAABTQAAAAAAAADBAAAAAAAAANEAAAAAAAIBGQAAAAAAAgEFAAAAAAAAAMkAAAAAAAAA0QAAAAAAAADpAAAAAAACAQUAAAAAAAABEQAAAAAAAAD5AAAAAAAAAKEAAAAAAAAAzQAAAAAAAADxAAAAAAAAAPEAAAAAAAAA2QAAAAAAAACBAAAAAAAAAQEAAAAAAAIBGQAAAAAAAgEtAAAAAAAAAIkAAAAAAAAA3QAAAAAAAADRAAAAAAACAQUAAAAAAAAA3QAAAAAAAAFRAAAAAAAAALkAAAAAAAAAiQAAAAAAAAD5AAAAAAAAANEAAAAAAAIBQQAAAAAAAADZAAAAAAAAAMEAAAAAAAAAsQAAAAAAAAFRAAAAAAAAAOUAAAAAAAAAkQAAAAAAAADZAAAAAAAAAKEAAAAAAAAAzQAAAAAAAADFAAAAAAAAAOUAAAAAAAAAiQAAAAAAAACJAAAAAAACAQEAAAAAAAIBCQAAAAAAAADhAAAAAAAAAMkAAAAAAAMBSQAAAAAAAADlAAAAAAAAAJEAAAAAAAABCQAAAAAAAADpAAAAAAAAALEAAAAAAAIBUQAAAAAAAAD5AAAAAAAAAKEAAAAAAAAA2QAAAAAAAADBAAAAAAAAAMEAAAAAAAABEQAAAAAAAADRAAAAAAAAAPEAAAAAAAAA1QAAAAAAAADhAAAAAAACAS0AAAAAAAAA/QAAAAAAAADhAAAAAAACAQkAAAAAAAAA+QAAAAAAAADRAAAAAAAAALEAAAAAAAAA0QAAAAAAAADtAAAAAAAAAKEAAAAAAAABUQAAAAAAAADdAAAAAAAAALEAAAAAAAAAkQAAAAAAAADZAAAAAAAAALkAAAAAAAAA7QAAAAAAAADRAAAAAAAAAP0AAAAAAAAAsQAAAAAAAAERAAAAAAAAAOUAAAAAAAIBBQAAAAAAAADRAAAAAAAAARUAAAAAAAAA5QAAAAAAAAElAAAAAAAAANEAAAAAAAAAqQAAAAAAAABhAAAAAAAAAMEAAAAAAAABOQAAAAAAAADdAAAAAAAAALkAAAAAAAAAsQAAAAAAAACJAAAAAAAAAMEAAAAAAAABFQAAAAAAAAERAAAAAAAAAOUAAAAAAAAA5QAAAAAAAgEJAAAAAAAAAN0AAAAAAAAA+QAAAAAAAAChAAAAAAACAQUAAAAAAAIBHQAAAAAAAADxAAAAAAACAT0AAAAAAAAAgQAAAAAAAgEFAAAAAAAAATkAAAAAAAAA+QAAAAAAAADZAAAAAAAAAKkAAAAAAAABFQAAAAAAAgEZAAAAAAAAAOUAAAAAAAAAkQAAAAAAAgEFAAAAAAACAQkAAAAAAAIBBQAAAAAAAAERAAAAAAAAAMUAAAAAAAAAoQAAAAAAAAC5AAAAAAAAAPkAAAAAAAABOQAAAAAAAADNAAAAAAAAAO0AAAAAAAAAkQAAAAAAAAChAAAAAAACAUUAAAAAAAABGQAAAAAAAgEZAAAAAAAAAMUAAAAAAAABUQAAAAAAAADBAAAAAAAAAOEAAAAAAAAAgQAAAAAAAgElAAAAAAACAUUAAAAAAAABOQAAAAAAAgEZAAAAAAAAA8D8AAAAAAAA7QAAAAAAAgEFAAAAAAAAAUkAAAAAAAIBGQAAAAAAAADRAAAAAAAAAPkAAAAAAAAA+QAAAAAAAACpAAAAAAAAAXkAAAAAAAAAuQAAAAAAAgE5AAAAAAAAALkAAAAAAAAA+QAAAAAAAADJAAAAAAAAAPEAAAAAAAAAgQAAAAAAAADZAAAAAAAAAREAAAAAAAAAuQAAAAAAAADRAAAAAAAAALkAAAAAAAAA3QAAAAAAAADRAAAAAAAAAMUAAAAAAAAA1QAAAAAAAAEpAAAAAAAAAPkAAAAAAAAA2QAAAAAAAADNAAAAAAAAAMkAAAAAAAIBHQAAAAAAAAC5AAAAAAAAALkAAAAAAAAA1QAAAAAAAAERAAAAAAAAAMUAAAAAAAAAsQAAAAAAAADdAAAAAAAAAUUAAAAAAAAA5QAAAAAAAAElAAAAAAACAYUAAAAAAAAA8QAAAAAAAABxAAAAAAAAAN0AAAAAAAAAcQAAAAAAAACRAAAAAAAAALkAAAAAAAAAmQAAAAAAAAChAAAAAAAAAPEAAAAAAAABUQAAAAAAAADlAAAAAAAAAPEAAAAAAAAAuQAAAAAAAAD5AAAAAAAAALkAAAAAAAAA2QAAAAAAAADxAAAAAAAAAMEAAAAAAAMBXQAAAAAAAADtAAAAAAAAATEAAAAAAAABJQAAAAAAAADVAAAAAAAAANUAAAAAAAABEQAAAAAAAADJAAAAAAACAS0AAAAAAAIBWQAAAAAAAADxAAAAAAACAS0AAAAAAAAA1QAAAAAAAACJAAAAAAACAQUAAAAAAAAAqQAAAAAAAgEtAAAAAAACASUAAAAAAAABBQAAAAAAAABRAAAAAAAAATkAAAAAAAIBGQAAAAAAAAENAAAAAAAAASEAAAAAAAIBBQAAAAAAAAEBAAAAAAAAAOUAAAAAAAABOQAAAAAAAAChAAAAAAAAAM0AAAAAAAABEQAAAAAAAAElAAAAAAACAS0AAAAAAAAA8QAAAAAAAADJAAAAAAAAANUAAAAAAAIBCQAAAAAAAACZAAAAAAAAANEAAAAAAAAA+QAAAAAAAAC5AAAAAAACAS0AAAAAAAAAxQAAAAAAAADFAAAAAAAAAOUAAAAAAAAA2QAAAAAAAgEFAAAAAAAAANEAAAAAAAAA0QAAAAAAAgENAAAAAAACAQEAAAAAAAAAyQAAAAAAAAERAAAAAAAAAOEAAAAAAAIBBQAAAAAAAAERAAAAAAAAAJkAAAAAAAAA6QAAAAAAAADJAAAAAAAAALkAAAAAAAAA5QAAAAAAAADVAAAAAAAAAMkAAAAAAAIBLQAAAAAAAAC5AAAAAAAAAMkAAAAAAAAA0QAAAAAAAAC5AAAAAAAAANEAAAAAAAIBRQAAAAAAAACpAAAAAAACAS0AAAAAAAIBLQAAAAAAAADhAAAAAAAAASUAAAAAAAAA+QAAAAAAAACRAAAAAAAAAMkAAAAAAAAAyQAAAAAAAgEZAAAAAAAAALkAAAAAAAAAwQAAAAAAAgEZAAAAAAAAAMkAAAAAAAABOQAAAAAAAADhAAAAAAACAQUAAAAAAAAAuQAAAAAAAADVAAAAAAAAAOUAAAAAAAAAuQAAAAAAAACZAAAAAAAAAWUAAAAAAAABKQAAAAAAAADhAAAAAAAAALEAAAAAAAIBLQAAAAAAAgEZAAAAAAAAAOUAAAAAAAAA5QAAAAAAAAEBAAAAAAACAREAAAAAAAABEQAAAAAAAAEBAAAAAAAAAKEAAAAAAAAAcQAAAAAAAAD5AAAAAAAAANkAAAAAAAAA+QAAAAAAAADFAAAAAAAAANUAAAAAAAAAuQAAAAAAAADZAAAAAAAAALkAAAAAAAAAiQAAAAAAAgEhAAAAAAACATEAAAAAAAAA0QAAAAAAAADtAAAAAAAAAPkAAAAAAAAA+QAAAAAAAABRAAAAAAAAANkAAAAAAAIBLQAAAAAAAgEZAAAAAAAAAOUAAAAAAAAA5QAAAAAAAABRAAAAAAACAS0AAAAAAAAAuQAAAAAAAAC5AAAAAAAAAOEAAAAAAAAAkQAAAAAAAACxAAAAAAAAAOUAAAAAAAAAkQAAAAAAAADRAAAAAAAAAVEAAAAAAAAA0QAAAAAAAAC5AAAAAAAAAJEAAAAAAAABEQAAAAAAAAC5AAAAAAAAAMUAAAAAAAAAmQAAAAAAAAC5AAAAAAAAAMUAAAAAAAAAzQAAAAAAAADpAAAAAAAAANkAAAAAAAAAgQAAAAAAAAF5AAAAAAAAAOEAAAAAAAAA3QAAAAAAAgFZAAAAAAACATkAAAAAAAAAxQAAAAAAAAERAAAAAAAAA8D8AAAAAAABBQAAAAAAAACRAAAAAAAAAO0AAAAAAAAA+QAAAAAAAAElAAAAAAAAAOUAAAAAAAIBPQAAAAAAAADFAAAAAAAAAMkAAAAAAAAA0QAAAAAAAgEZAAAAAAAAAOUAAAAAAAIBRQAAAAAAAAAhAAAAAAAAAOkAAAAAAAABAQAAAAAAAAE5AAAAAAAAAMkAAAAAAAIBRQAAAAAAAgEFAAAAAAAAAIEAAAAAAAEBQQAAAAAAAgFFAAAAAAACARkAAAAAAAIBBQAAAAAAAADxAAAAAAADAUkAAAAAAAAA0QAAAAAAAAC5AAAAAAAAALkAAAAAAAAAyQAAAAAAAAD5AAAAAAAAAJEAAAAAAAAAuQAAAAAAAgEFAAAAAAACAQUAAAAAAAAAqQAAAAAAAAC5AAAAAAAAAM0AAAAAAAAA5QAAAAAAAADdAAAAAAACAR0AAAAAAAAAxQAAAAAAAACxAAAAAAACAR0AAAAAAAAAgQAAAAAAAAChAAAAAAAAAQ0AAAAAAAAAwQAAAAAAAgFZAAAAAAAAAMUAAAAAAAIBRQAAAAAAAADJAAAAAAAAANUAAAAAAAABAQAAAAAAAAD5AAAAAAAAASUAAAAAAAAAsQAAAAAAAADNAAAAAAAAAJkAAAAAAAAAyQAAAAAAAADNAAAAAAAAANEAAAAAAAAA8QAAAAAAAAC5AAAAAAABAUEAAAAAAAAAzQAAAAAAAAC5AAAAAAAAAN0AAAAAAAAAwQAAAAAAAAD5AAAAAAAAATkAAAAAAAAAuQAAAAAAAADZAAAAAAAAAPkAAAAAAAAAyQAAAAAAAADRAAAAAAACARkAAAAAAAAAxQAAAAAAAADRAAAAAAAAANUAAAAAAAAA5QAAAAAAAABhAAAAAAAAALEAAAAAAAAA0QAAAAAAAAC5AAAAAAAAAMUAAAAAAAAAkQAAAAAAAADlAAAAAAAAAPkAAAAAAAAAgQAAAAAAAADJAAAAAAAAAMkAAAAAAAAA1QAAAAAAAAC5AAAAAAACAU0AAAAAAAAA0QAAAAAAAADJAAAAAAAAAMkAAAAAAAABKQAAAAAAAADRAAAAAAAAAOUAAAAAAAAAoQAAAAAAAAC5AAAAAAAAAGEAAAAAAAAAyQAAAAAAAgEFAAAAAAAAANUAAAAAAAABOQAAAAAAAQFhAAAAAAACARkAAAAAAAIBBQAAAAAAAACpAAAAAAAAAMUAAAAAAAAAsQAAAAAAAADlAAAAAAAAAMUAAAAAAAAA1QAAAAAAAgEFAAAAAAAAAIEAAAAAAAAAqQAAAAAAAAENAAAAAAAAAVkAAAAAAAAAyQAAAAAAAAERAAAAAAAAANEAAAAAAAAAcQAAAAAAAADtAAAAAAAAATkAAAAAAAAA8QAAAAAAAAENAAAAAAACARkAAAAAAAAA1QAAAAAAAAEVAAAAAAAAAM0AAAAAAAABOQAAAAAAAgEVAAAAAAAAAGEAAAAAAAABEQAAAAAAAAElAAAAAAAAALEAAAAAAAIBGQAAAAAAAADRAAAAAAAAAPEAAAAAAAAAoQAAAAAAAADRAAAAAAAAARUAAAAAAAAAsQAAAAAAAAABAAAAAAACAQUAAAAAAAAAmQAAAAAAAABRAAAAAAAAANEAAAAAAAAA9QAAAAAAAADhAAAAAAAAAMkAAAAAAAAAkQAAAAAAAAD5AAAAAAAAALkAAAAAAAAAuQAAAAAAAAE5AAAAAAAAAOkAAAAAAAABEQAAAAAAAAERAAAAAAAAAOUAAAAAAAAA7QAAAAAAAADZAAAAAAAAAN0AAAAAAAAAoQAAAAAAAAD5AAAAAAAAAAEAAAAAAAABEQAAAAAAAAD5AAAAAAAAATkAAAAAAAAAiQAAAAAAAgFFAAAAAAAAAMUAAAAAAAIBGQAAAAAAAgElAAAAAAAAAJEAAAAAAAEBVQAAAAAAAAD5AAAAAAAAALEAAAAAAAAAuQAAAAAAAACRAAAAAAAAAO0AAAAAAAAAuQAAAAAAAgEFAAAAAAAAANEAAAAAAAIBWQAAAAAAAACRAAAAAAAAAWUAAAAAAAIBLQAAAAAAAgEFAAAAAAAAAMkAAAAAAAAA1QAAAAAAAAC5AAAAAAACAUkAAAAAAAABJQAAAAAAAgFFAAAAAAAAAOEAAAAAAAAA8QAAAAAAAAC5AAAAAAAAAQ0AAAAAAAAAwQAAAAAAAgEFAAAAAAAAAM0AAAAAAAABKQAAAAAAAACRAAAAAAACAQ0AAAAAAAAA+QAAAAAAAACBAAAAAAAAAM0AAAAAAAAAmQAAAAAAAADZAAAAAAAAAN0AAAAAAAAAsQAAAAAAAADlAAAAAAACAS0AAAAAAAABEQAAAAAAAgEFAAAAAAAAAMUAAAAAAAIBBQAAAAAAAAC5AAAAAAAAALkAAAAAAAABUQAAAAAAAAERAAAAAAAAARUAAAAAAAAAsQAAAAAAAADpAAAAAAAAARUAAAAAAAAA5QAAAAAAAgFFAAAAAAAAAREAAAAAAAABOQAAAAAAAADlAAAAAAAAAFEAAAAAAAAA+QAAAAAAAgEZAAAAAAAAAJkAAAAAAAAA2QAAAAAAAADlAAAAAAAAALEAAAAAAAAAzQAAAAAAAADRAAAAAAAAAKEAAAAAAAAAwQAAAAAAAAE5AAAAAAAAAR0AAAAAAAIBKQAAAAAAAABhAAAAAAAAAMkAAAAAAAAAUQAAAAAAAADlAAAAAAACAQUAAAAAAAAAkQAAAAAAAAE5AAAAAAAAAMEAAAAAAAAAoQAAAAAAAAD9AAAAAAACASUAAAAAAAABJQAAAAAAAADlAAAAAAAAALkAAAAAAAIBAQAAAAAAAAFRAAAAAAAAAOUAAAAAAAAAiQAAAAAAAADtAAAAAAAAALkAAAAAAAAAgQAAAAAAAgFFAAAAAAACAQUAAAAAAAAAyQAAAAAAAADRAAAAAAAAASEAAAAAAAAAyQAAAAAAAgEFAAAAAAAAARUAAAAAAAAAuQAAAAAAAAC5AAAAAAACARkAAAAAAAABCQAAAAAAAAERAAAAAAAAAREAAAAAAAABJQAAAAAAAAC5AAAAAAAAAMEAAAAAAAAAsQAAAAAAAACRAAAAAAAAALkAAAAAAAAAyQAAAAAAAADhAAAAAAAAASUAAAAAAAABJQAAAAAAAADRAAAAAAAAAOUAAAAAAAAA5QAAAAAAAADlAAAAAAAAAPkAAAAAAAABKQAAAAAAAAE9AAAAAAAAAVEAAAAAAAAAxQAAAAAAAAEJAAAAAAAAAN0AAAAAAAIBKQAAAAAAAACRAAAAAAAAAOEAAAAAAAEBQQAAAAAAAAC5AAAAAAAAAREAAAAAAAAAoQAAAAAAAADRAAAAAAAAANUAAAAAAAAAxQAAAAAAAAExAAAAAAAAAVEAAAAAAAAAwQAAAAAAAAD5AAAAAAACARkAAAAAAAAA0QAAAAAAAADRAAAAAAAAANkAAAAAAAABJQAAAAAAAADBAAAAAAACAQUAAAAAAAAA/QAAAAAAAAD1AAAAAAAAAJEAAAAAAAIBLQAAAAAAAACBAAAAAAAAAREAAAAAAAAAuQAAAAAAAgFFAAAAAAAAAOUAAAAAAAIBBQAAAAAAAQFFAAAAAAABAVUAAAAAAAAA0QAAAAAAAADJAAAAAAAAAPEAAAAAAAABJQAAAAAAAAChAAAAAAAAARkAAAAAAAABFQAAAAAAAADFAAAAAAACAT0AAAAAAAABUQAAAAAAAgFZAAAAAAAAAQUAAAAAAAAAyQAAAAAAAgEFAAAAAAAAAREAAAAAAAAA0QAAAAAAAgFtAAAAAAAAAJEAAAAAAAAA3QAAAAAAAADRAAAAAAAAAKkAAAAAAAAA5QAAAAAAAAEJAAAAAAAAAOUAAAAAAAAAIQAAAAAAAAAhAAAAAAADAVEAAAAAAAAAoQAAAAAAAACxAAAAAAAAAVEAAAAAAAAAuQAAAAAAAAC5AAAAAAAAAOUAAAAAAAAAuQAAAAAAAAC5AAAAAAAAAMUAAAAAAAAAuQAAAAAAAADVAAAAAAAAAMUAAAAAAAABUQAAAAAAAgEZAAAAAAAAAMUAAAAAAAAA0QAAAAAAAAEFAAAAAAAAAOUAAAAAAAABOQAAAAAAAADlAAAAAAAAANEAAAAAAAAA4QAAAAAAAAD5AAAAAAAAALkAAAAAAAAAxQAAAAAAAADBAAAAAAAAANEAAAAAAAABFQAAAAAAAADlAAAAAAADAUkAAAAAAAABCQAAAAAAAAChAAAAAAAAAEEAAAAAAAIBBQAAAAAAAAEFAAAAAAAAANkAAAAAAAIBBQAAAAAAAAD5AAAAAAABAVEAAAAAAAABEQAAAAAAAAD5AAAAAAAAATkAAAAAAAAAqQAAAAAAAAC5AAAAAAAAALkAAAAAAAAA0QAAAAAAAAERAAAAAAAAALkAAAAAAAAA+QAAAAAAAADlAAAAAAABAUEAAAAAAAIBTQAAAAAAAACxAAAAAAAAAFEAAAAAAAAAqQAAAAAAAAC5AAAAAAAAALkAAAAAAAAAcQAAAAAAAACxAAAAAAAAAKkAAAAAAAAA2QAAAAAAAACxAAAAAAAAAOUAAAAAAAAAkQAAAAAAAACZAAAAAAAAALEAAAAAAAAAqQAAAAAAAACRAAAAAAAAAGEAAAAAAAAA1QAAAAAAAAERAAAAAAAAAMEAAAAAAAAAUQAAAAAAAADJAAAAAAAAALEAAAAAAAABFQAAAAAAAAEBAAAAAAAAAPEAAAAAAAAA8QAAAAAAAAE5AAAAAAACAQUAAAAAAAEBVQAAAAAAAAChAAAAAAAAANEAAAAAAAAA7QAAAAAAAAEJAAAAAAACAQEAAAAAAAAA3QAAAAAAAACpAAAAAAAAAEEAAAAAAAAA5QAAAAAAAAFRAAAAAAACAS0AAAAAAAIBGQAAAAAAAACZAAAAAAACAQkAAAAAAAAA+QAAAAAAAADJAAAAAAAAAMEAAAAAAAAAuQAAAAAAAAEVAAAAAAADAUkAAAAAAAAAuQAAAAAAAgEFAAAAAAAAAPEAAAAAAAAAuQAAAAAAAADhAAAAAAAAAN0AAAAAAAIBOQAAAAAAAwFJAAAAAAAAAJEAAAAAAAAA1QAAAAAAAAChAAAAAAAAANkAAAAAAAABAQAAAAAAAADxAAAAAAACAUUAAAAAAAEBQQAAAAAAAADBAAAAAAAAAJEAAAAAAAIBbQAAAAAAAADlAAAAAAAAAOEAAAAAAAAAgQAAAAAAAADlAAAAAAAAAIkAAAAAAAAAsQAAAAAAAAERAAAAAAAAAJEAAAAAAAABEQAAAAAAAACRAAAAAAAAAIEAAAAAAAABDQAAAAAAAADJAAAAAAAAAKEAAAAAAAAA+QAAAAAAAADdAAAAAAACAUUAAAAAAAAAuQAAAAAAAAEJAAAAAAAAAOkAAAAAAAAA5QAAAAAAAADlAAAAAAAAALkAAAAAAAAAYQAAAAAAAACxAAAAAAAAAM0AAAAAAAAAgQAAAAAAAADFAAAAAAACAQUAAAAAAAIBRQAAAAAAAAC5AAAAAAAAASUAAAAAAAAAsQAAAAAAAADVAAAAAAAAAPkAAAAAAAAA+QAAAAAAAADRAAAAAAAAAQUAAAAAAAAAsQAAAAAAAADlAAAAAAAAAMkAAAAAAAEBZQAAAAAAAADRAAAAAAACAQUAAAAAAAAA0QAAAAAAAADBAAAAAAADAUkAAAAAAAIBRQAAAAAAAAD1AAAAAAAAAVUAAAAAAAAA2QAAAAAAAgFZAAAAAAAAANEAAAAAAAIBGQAAAAAAAADZAAAAAAACAQkAAAAAAAABJQAAAAAAAADZAAAAAAAAAOUAAAAAAAAAkQAAAAAAAAERAAAAAAAAAQEAAAAAAAABOQAAAAAAAAFlAAAAAAACAS0AAAAAAAABOQAAAAAAAACZAAAAAAACAUUAAAAAAAAA0QAAAAAAAgEtAAAAAAAAAM0AAAAAAAAAxQAAAAAAAgFZAAAAAAACAQUAAAAAAAAAxQAAAAAAAgEFAAAAAAAAAO0AAAAAAAAA6QAAAAAAAADdAAAAAAAAAM0AAAAAAAIBBQAAAAAAAAElAAAAAAAAAKEAAAAAAAAAmQAAAAAAAAC5AAAAAAACAQ0AAAAAAAABOQAAAAAAAACZAAAAAAACAVkAAAAAAAAA7QAAAAAAAACxAAAAAAAAAOUAAAAAAAAAzQAAAAAAAAElAAAAAAAAATkAAAAAAAAAmQAAAAAAAgFZAAAAAAABAUEAAAAAAAAAmQAAAAAAAAD5AAAAAAAAAPkAAAAAAAMBXQAAAAAAAAElAAAAAAAAAKEAAAAAAAIBLQAAAAAAAADxAAAAAAAAAWUAAAAAAAAA2QAAAAAAAADRAAAAAAACAQUAAAAAAAAA0QAAAAAAAABBAAAAAAAAAKEAAAAAAAAAxQAAAAAAAADRAAAAAAAAAOUAAAAAAAABEQAAAAAAAADlAAAAAAAAALkAAAAAAAABJQAAAAAAAAD5AAAAAAAAAPkAAAAAAAAA4QAAAAAAAwFJAAAAAAAAAM0AAAAAAAAAuQAAAAAAAgEtAAAAAAAAAV0AAAAAAAAAoQAAAAAAAACxAAAAAAAAAREAAAAAAAAAsQAAAAAAAgEFAAAAAAAAAOUAAAAAAAAAxQAAAAAAAAE5AAAAAAAAANkAAAAAAAAA+QAAAAAAAAChAAAAAAACAS0AAAAAAAAAwQAAAAAAAAE5AAAAAAAAAMkAAAAAAAAA+QAAAAAAAAC5AAAAAAACARkAAAAAAAAAqQAAAAAAAAERAAAAAAAAAPkAAAAAAAAA0QAAAAAAAADRAAAAAAAAAKEAAAAAAAAAoQAAAAAAAACZAAAAAAAAANkAAAAAAAAA2QAAAAAAAAChAAAAAAACAS0AAAAAAAAA0QAAAAAAAABBAAAAAAAAASUAAAAAAAAA5QAAAAAAAQGBAAAAAAADAUkAAAAAAAAAmQAAAAAAAgEBAAAAAAAAAQEAAAAAAAAA4QAAAAAAAgEFAAAAAAAAANUAAAAAAAAA1QAAAAAAAADlAAAAAAAAAOEAAAAAAAAAzQAAAAAAAADZAAAAAAAAATkAAAAAAAAAoQAAAAAAAADBAAAAAAABAVUAAAAAAAAAoQAAAAAAAAE5AAAAAAAAAMUAAAAAAAMBUQAAAAAAAADRAAAAAAAAANEAAAAAAAIBBQAAAAAAAAElAAAAAAAAAJEAAAAAAAIBDQAAAAAAAADJAAAAAAAAAU0AAAAAAAAA5QAAAAAAAACJAAAAAAAAAIkAAAAAAAAAQQAAAAAAAgEBAAAAAAAAAIkAAAAAAAAAuQAAAAAAAADdAAAAAAAAAKEAAAAAAAAAyQAAAAAAAgFFAAAAAAAAAMEAAAAAAAEBYQAAAAAAAgEFAAAAAAAAAMUAAAAAAAAAAQAAAAAAAADRAAAAAAAAAIEAAAAAAAAAzQAAAAAAAAC5AAAAAAAAAO0AAAAAAAAAyQAAAAAAAADlAAAAAAAAAN0AAAAAAAAAxQAAAAAAAACZAAAAAAAAAOEAAAAAAAAA5QAAAAAAAADRAAAAAAAAAKEAAAAAAAAAoQAAAAAAAgEFAAAAAAAAATkAAAAAAAAA2QAAAAAAAAD5AAAAAAAAALkAAAAAAAAA2QAAAAAAAADdAAAAAAACAQUAAAAAAAAAyQAAAAAAAAD5AAAAAAAAAOUAAAAAAAAAoQAAAAAAAADJAAAAAAADAUkAAAAAAAAAuQAAAAAAAADhAAAAAAAAALkAAAAAAAABOQAAAAAAAgEZAAAAAAAAAKkAAAAAAAIBGQAAAAAAAADVAAAAAAAAAJkAAAAAAAAA+QAAAAAAAAD1AAAAAAAAALEAAAAAAAABOQAAAAAAAAFFAAAAAAAAAPkAAAAAAAAAcQAAAAAAAADBAAAAAAAAAGEAAAAAAAAA0QAAAAAAAACRAAAAAAAAAMUAAAAAAAAA+QAAAAAAAAPA/AAAAAAAAMkAAAAAAAAAoQAAAAAAAADBAAAAAAAAAHEAAAAAAAAAAQAAAAAAAADVAAAAAAADAXEAAAAAAAAA4QAAAAAAAAC5AAAAAAAAAREAAAAAAAAA4QAAAAAAAAD1AAAAAAACAS0AAAAAAAAAYQAAAAAAAADRAAAAAAAAAKEAAAAAAAAA+QAAAAAAAAD5AAAAAAAAAOEAAAAAAAIBRQAAAAAAAAD5AAAAAAAAAP0AAAAAAAAAkQAAAAAAAAC5AAAAAAAAALkAAAAAAAAAoQAAAAAAAAERAAAAAAAAAQUAAAAAAAAA0QAAAAAAAAD5AAAAAAAAAIkAAAAAAAIBBQAAAAAAAACpAAAAAAAAANUAAAAAAAAAoQAAAAAAAgElAAAAAAAAAP0AAAAAAAABOQAAAAAAAADlAAAAAAAAAPEAAAAAAAAAkQAAAAAAAAD5AAAAAAAAAN0AAAAAAAAAmQAAAAAAAAFlAAAAAAAAAPEAAAAAAAIBGQAAAAAAAACRAAAAAAABAUkAAAAAAAAAmQAAAAAAAAD5AAAAAAAAAKEAAAAAAAAAxQAAAAAAAAENAAAAAAAAAPEAAAAAAAAAuQAAAAAAAADFAAAAAAAAAR0AAAAAAAAA5QAAAAAAAADlAAAAAAAAALkAAAAAAAAA0QAAAAAAAAC5AAAAAAAAAREAAAAAAAABEQAAAAAAAADlAAAAAAABAVUAAAAAAAIBAQAAAAAAAADBAAAAAAAAAOUAAAAAAAABeQAAAAAAAAE5AAAAAAAAAMUAAAAAAAAAwQAAAAAAAAD5AAAAAAAAAKkAAAAAAAAAuQAAAAAAAADJAAAAAAAAANEAAAAAAAAA4QAAAAAAAAExAAAAAAAAAOUAAAAAAAAA8QAAAAAAAgEZAAAAAAAAAPUAAAAAAAAAuQAAAAAAAgEZAAAAAAAAAKkAAAAAAAAA1QAAAAAAAgEZAAAAAAAAAM0AAAAAAAIBGQAAAAAAAADtAAAAAAAAAN0AAAAAAAAA+QAAAAAAAAERAAAAAAAAAVEAAAAAAAABEQAAAAAAAAC5AAAAAAAAAOUAAAAAAAAAoQAAAAAAAADRAAAAAAACAQkAAAAAAAAA1QAAAAAAAADFAAAAAAACAQkAAAAAAAAAzQAAAAAAAACBAAAAAAAAAMUAAAAAAAIBBQAAAAAAAAERAAAAAAAAAJkAAAAAAAIBHQAAAAAAAADVAAAAAAAAAMkAAAAAAAAA2QAAAAAAAADRAAAAAAACAS0AAAAAAAAA5QAAAAAAAACZAAAAAAAAAKEAAAAAAAAAsQAAAAAAAAEVAAAAAAAAAIkAAAAAAAAA5QAAAAAAAgEFAAAAAAAAAREAAAAAAAIBWQAAAAAAAADRAAAAAAACARkAAAAAAAAA+QAAAAAAAgEFAAAAAAAAAT0AAAAAAAAAoQAAAAAAAACBAAAAAAAAATEAAAAAAAAAuQAAAAAAAAD1AAAAAAACAUEAAAAAAAAAmQAAAAAAAAElAAAAAAACAQUAAAAAAAIBGQAAAAAAAQFBAAAAAAAAASUAAAAAAAAAxQAAAAAAAAENAAAAAAAAANEAAAAAAAABFQAAAAAAAAE5AAAAAAAAAFEAAAAAAAIBBQAAAAAAAADhAAAAAAAAAKEAAAAAAAAA9QAAAAAAAABxAAAAAAACAQUAAAAAAAAAuQAAAAAAAQFVAAAAAAAAAKEAAAAAAAIBBQAAAAAAAADZAAAAAAAAAOUAAAAAAAIBBQAAAAAAAAFRAAAAAAAAALkAAAAAAAAA+QAAAAAAAgENAAAAAAAAAREAAAAAAAABOQAAAAAAAAEBAAAAAAAAAPEAAAAAAAAAuQAAAAAAAADlAAAAAAAAAREAAAAAAAAAqQAAAAAAAgFJAAAAAAACAQUAAAAAAAAAyQAAAAAAAADlAAAAAAAAAQ0AAAAAAAAA2QAAAAAAAADRAAAAAAAAAHEAAAAAAAAAqQAAAAAAAAC5AAAAAAACAQEAAAAAAAABUQAAAAAAAABhAAAAAAAAAPkAAAAAAAAA2QAAAAAAAAEFAAAAAAAAAO0AAAAAAAAAkQAAAAAAAAE5AAAAAAAAAQUAAAAAAAAA8QAAAAAAAACpAAAAAAAAAMUAAAAAAAAAuQAAAAAAAADRAAAAAAAAAMkAAAAAAAMBSQAAAAAAAADpAAAAAAACAUUAAAAAAAABKQAAAAAAAACxAAAAAAAAAOUAAAAAAAABJQAAAAAAAADFAAAAAAAAAOUAAAAAAAAA2QAAAAAAAADJAAAAAAAAANEAAAAAAAABRQAAAAAAAABRAAAAAAAAANEAAAAAAAIBLQAAAAAAAAC5AAAAAAAAAOUAAAAAAAIBBQAAAAAAAAC5AAAAAAAAANUAAAAAAAAAuQAAAAAAAgEFAAAAAAABAUEAAAAAAAAA5QAAAAAAAQFBAAAAAAAAAREAAAAAAAAAsQAAAAAAAAChAAAAAAACAQUAAAAAAAAAsQAAAAAAAwFJAAAAAAACAVkAAAAAAAAAwQAAAAAAAAF5AAAAAAAAALkAAAAAAAIBLQAAAAAAAgEFAAAAAAAAANUAAAAAAAABEQAAAAAAAADNAAAAAAAAAMkAAAAAAAAA+QAAAAAAAADVAAAAAAAAATkAAAAAAAAAxQAAAAAAAQFNAAAAAAAAANEAAAAAAAIBBQAAAAAAAAChAAAAAAAAAOUAAAAAAAAAwQAAAAAAAACRAAAAAAAAALkAAAAAAAAA4QAAAAAAAAEFAAAAAAABAX0AAAAAAAIBGQAAAAAAAgExAAAAAAADAUkAAAAAAAABOQAAAAAAAADRAAAAAAACAVkAAAAAAAAAsQAAAAAAAABBAAAAAAAAATkAAAAAAAAA1QAAAAAAAADtAAAAAAAAASUAAAAAAAAA5QAAAAAAAADFAAAAAAAAATkAAAAAAAAAzQAAAAAAAAElAAAAAAAAAREAAAAAAAAAkQAAAAAAAAD5AAAAAAAAATkAAAAAAAIBRQAAAAAAAAEpAAAAAAAAALkAAAAAAAAAxQAAAAAAAACpAAAAAAAAANEAAAAAAAAA8QAAAAAAAAC5AAAAAAAAAIkAAAAAAAAA+QAAAAAAAACZAAAAAAAAALkAAAAAAAAAUQAAAAAAAADRAAAAAAAAALkAAAAAAAAA5QAAAAAAAADdAAAAAAAAAMkAAAAAAAAA+QAAAAAAAADlAAAAAAAAAQ0AAAAAAAABOQAAAAAAAgEJAAAAAAAAAWUAAAAAAAIBBQAAAAAAAADJAAAAAAAAALkAAAAAAAIBBQAAAAAAAQFVAAAAAAAAALkAAAAAAAAA6QAAAAAAAgEFAAAAAAAAAVEAAAAAAAAAuQAAAAAAAADlAAAAAAAAANEAAAAAAAAA0QAAAAAAAAEBAAAAAAAAAREAAAAAAAIBBQAAAAAAAADlAAAAAAAAAOEAAAAAAAAA6QAAAAAAAAFpAAAAAAACASUAAAAAAAAA+QAAAAAAAgEFAAAAAAAAAOUAAAAAAAAAwQAAAAAAAADBAAAAAAAAAOUAAAAAAAABZQAAAAAAAAE5AAAAAAAAASkAAAAAAAAA3QAAAAAAAADBAAAAAAAAAOUAAAAAAAAA+QAAAAAAAADFAAAAAAAAAM0AAAAAAAAAkQAAAAAAAADJAAAAAAAAAJEAAAAAAAAAkQAAAAAAAAChAAAAAAAAAMkAAAAAAAABOQAAAAAAAgEZAAAAAAAAAJEAAAAAAAAA5QAAAAAAAADZAAAAAAAAAMUAAAAAAAAAuQAAAAAAAAD5AAAAAAACAQkAAAAAAAIBLQAAAAAAAQFBAAAAAAADAUkAAAAAAAAAsQAAAAAAAACZAAAAAAAAASkAAAAAAAAA7QAAAAAAAgEhAAAAAAAAAR0AAAAAAAAA2QAAAAAAAAERAAAAAAAAAOUAAAAAAAABJQAAAAAAAAElAAAAAAAAAPkAAAAAAAAAqQAAAAAAAADVAAAAAAAAAREAAAAAAAAAcQAAAAAAAADlAAAAAAACASUAAAAAAAAA6QAAAAAAAADRAAAAAAAAAIEAAAAAAAABEQAAAAAAAACRAAAAAAAAAMUAAAAAAAAAAQAAAAAAAgE9AAAAAAACAUUAAAAAAAIBGQAAAAAAAADVAAAAAAAAALEAAAAAAAAAqQAAAAAAAACpAAAAAAAAAKEAAAAAAAAAzQAAAAAAAADRAAAAAAAAAO0AAAAAAAABZQAAAAAAAADBAAAAAAAAAKEAAAAAAAIBBQAAAAAAAABBAAAAAAAAAREAAAAAAAAAxQAAAAAAAAEBAAAAAAAAAKEAAAAAAAAA7QAAAAAAAACBAAAAAAAAANkAAAAAAAABKQAAAAAAAACJAAAAAAAAAMkAAAAAAAAAuQAAAAAAAACpAAAAAAAAANEAAAAAAAAAwQAAAAAAAADBAAAAAAAAAOUAAAAAAAAAIQAAAAAAAAEBAAAAAAAAAREAAAAAAAAAkQAAAAAAAgEFAAAAAAACAQUAAAAAAAAA3QAAAAAAAgEdAAAAAAAAATkAAAAAAAIBRQAAAAAAAAElAAAAAAAAASEAAAAAAAAAxQAAAAAAAADlAAAAAAAAAOUAAAAAAAAA5QAAAAAAAgE9AAAAAAAAAKEAAAAAAAAAsQAAAAAAAAChAAAAAAAAALEAAAAAAAMBUQAAAAAAAADxAAAAAAACAQUAAAAAAAAAUQAAAAAAAACxAAAAAAAAAOUAAAAAAAAA5QAAAAAAAAChAAAAAAAAANkAAAAAAAABOQAAAAAAAAFRAAAAAAAAAQEAAAAAAAAAuQAAAAAAAgE9AAAAAAAAAMUAAAAAAAABPQAAAAAAAADBAAAAAAAAAOUAAAAAAAAA0QAAAAAAAACZAAAAAAAAALEAAAAAAAABJQAAAAAAAADJAAAAAAACASUAAAAAAAAAoQAAAAAAAABxAAAAAAACAUUAAAAAAAAA7QAAAAAAAADNAAAAAAACAQkAAAAAAAAA0QAAAAAAAADlAAAAAAAAAN0AAAAAAAAAmQAAAAAAAAFRAAAAAAAAAN0AAAAAAAABJQAAAAAAAgFZAAAAAAAAAVEAAAAAAAAAUQAAAAAAAADRAAAAAAAAAR0AAAAAAAAA5QAAAAAAAAC5AAAAAAAAAKkAAAAAAAAAuQAAAAAAAgFFAAAAAAACAQUAAAAAAAAAmQAAAAAAAADBAAAAAAAAAPkAAAAAAAAAyQAAAAAAAADlAAAAAAAAAQEAAAAAAAAA2QAAAAAAAAERAAAAAAAAANkAAAAAAAAA2QAAAAAAAgEZAAAAAAAAAPUAAAAAAAABOQAAAAAAAAE5AAAAAAAAAJkAAAAAAAAAyQAAAAAAAADJAAAAAAAAAMEAAAAAAAAA5QAAAAAAAwFJAAAAAAAAAKEAAAAAAAAA5QAAAAAAAAE5AAAAAAAAAEEAAAAAAAAAiQAAAAAAAADlAAAAAAAAANEAAAAAAAABOQAAAAAAAAEVAAAAAAAAAREAAAAAAAAAqQAAAAAAAACxAAAAAAAAAOUAAAAAAAABNQAAAAAAAAD5AAAAAAAAAS0AAAAAAAAA+QAAAAAAAADRAAAAAAACAT0AAAAAAAAA5QAAAAAAAAAhAAAAAAAAATkAAAAAAAIBBQAAAAAAAAC5AAAAAAAAAREAAAAAAAAA5QAAAAAAAQFBAAAAAAACARkAAAAAAAAAuQAAAAAAAADhAAAAAAAAALkAAAAAAAAA3QAAAAAAAAD5AAAAAAAAAOEAAAAAAAIBBQAAAAAAAABRAAAAAAAAAR0AAAAAAAABJQAAAAAAAAENAAAAAAAAAQkAAAAAAAAAQQAAAAAAAADlAAAAAAAAALkAAAAAAAAA5QAAAAAAAAD5AAAAAAACAQUAAAAAAAAAyQAAAAAAAADdAAAAAAAAATkAAAAAAAAAmQAAAAAAAADVAAAAAAAAARUAAAAAAAAA+QAAAAAAAgEJAAAAAAAAANEAAAAAAAIBLQAAAAAAAgFNAAAAAAACARkAAAAAAAAAmQAAAAAAAAC5AAAAAAAAANUAAAAAAAAA+QAAAAAAAAEJAAAAAAAAALkAAAAAAAAAIQAAAAAAAADlAAAAAAAAARkAAAAAAAAAxQAAAAAAAgExAAAAAAAAAPkAAAAAAAAAuQAAAAAAAAFRAAAAAAAAAOkAAAAAAAAA5QAAAAAAAAFRAAAAAAAAAPkAAAAAAAAA0QAAAAAAAACpAAAAAAAAAKEAAAAAAAIBWQAAAAAAAgEZAAAAAAAAASUAAAAAAAAA7QAAAAAAAAD5AAAAAAAAALkAAAAAAAAAoQAAAAAAAAE5AAAAAAAAAJkAAAAAAAAAyQAAAAAAAACRAAAAAAAAANUAAAAAAAAA2QAAAAAAAADxAAAAAAABAUEAAAAAAAAA4QAAAAAAAgEBAAAAAAAAASUAAAAAAAIBJQAAAAAAAABRAAAAAAAAAREAAAAAAAAA4QAAAAAAAADlAAAAAAAAANUAAAAAAAAAiQAAAAAAAACRAAAAAAACARUAAAAAAAAAqQAAAAAAAACRAAAAAAAAAIEAAAAAAAIBGQAAAAAAAACxAAAAAAAAAOUAAAAAAAIBGQAAAAAAAADJAAAAAAAAANUAAAAAAAAA5QAAAAAAAADRAAAAAAAAAPkAAAAAAAIBBQAAAAAAAAEZAAAAAAACAR0AAAAAAAAA0QAAAAAAAgEtAAAAAAAAAGEAAAAAAAAAqQAAAAAAAAChAAAAAAAAAOUAAAAAAAIBBQAAAAAAAAElAAAAAAAAAMUAAAAAAAIBAQAAAAAAAADRAAAAAAAAAKkAAAAAAAIBNQAAAAAAAAEVAAAAAAAAACEAAAAAAAAAwQAAAAAAAAE5AAAAAAAAALEAAAAAAAAAuQAAAAAAAAEFAAAAAAAAAJkAAAAAAAAA7QAAAAAAAgEFAAAAAAACAQUAAAAAAAAAkQAAAAAAAADZAAAAAAAAAMEAAAAAAAAA0QAAAAAAAADpAAAAAAAAAQ0AAAAAAAAA8QAAAAAAAACxAAAAAAAAAN0AAAAAAAAAiQAAAAAAAADRAAAAAAAAANEAAAAAAAAAzQAAAAAAAAE5AAAAAAACAUUAAAAAAAABEQAAAAAAAAE5AAAAAAAAANEAAAAAAAAAoQAAAAAAAADlAAAAAAACAQUAAAAAAAABEQAAAAAAAAC5AAAAAAAAAREAAAAAAAAAzQAAAAAAAAFlAAAAAAAAAP0AAAAAAAABIQAAAAAAAgEJAAAAAAAAANEAAAAAAAAA8QAAAAAAAADpAAAAAAAAAMEAAAAAAAAA1QAAAAAAAADlAAAAAAAAAM0AAAAAAAAA/QAAAAAAAADZAAAAAAAAAIkAAAAAAAAAzQAAAAAAAAElAAAAAAACAQUAAAAAAAEBQQAAAAAAAADZAAAAAAAAAREAAAAAAAAA0QAAAAAAAADlAAAAAAAAASUAAAAAAAIBLQAAAAAAAAD5AAAAAAACAVkAAAAAAAAAoQAAAAAAAgEFAAAAAAACAR0AAAAAAAAA+QAAAAAAAADFAAAAAAAAANEAAAAAAAAAsQAAAAAAAADRAAAAAAACAQkAAAAAAAAA1QAAAAAAAADhAAAAAAAAANEAAAAAAAAAyQAAAAAAAAC5AAAAAAAAAOUAAAAAAAIBBQAAAAAAAAC5AAAAAAACARkAAAAAAAAA4QAAAAAAAAC5AAAAAAAAAMEAAAAAAAAA4QAAAAAAAACZAAAAAAAAAHEAAAAAAAABOQAAAAAAAADtAAAAAAAAAREAAAAAAAAAwQAAAAAAAACJAAAAAAAAAQEAAAAAAAIBBQAAAAAAAADFAAAAAAAAAJEAAAAAAAAA2QAAAAAAAgEFAAAAAAAAAMkAAAAAAAIBBQAAAAAAAAC5AAAAAAAAAO0AAAAAAAAAsQAAAAAAAAC5AAAAAAAAAO0AAAAAAAABAQAAAAAAAADlAAAAAAAAAMEAAAAAAAAA6QAAAAAAAADRAAAAAAACAUUAAAAAAAAA4QAAAAAAAADVAAAAAAAAAPkAAAAAAAAA2QAAAAAAAACZAAAAAAAAAMkAAAAAAAIBWQAAAAAAAADBAAAAAAACARkAAAAAAAAA4QAAAAAAAAD5AAAAAAAAAQEAAAAAAAABFQAAAAAAAADhAAAAAAAAAOEAAAAAAAIBWQAAAAAAAAERAAAAAAAAANkAAAAAAAAA7QAAAAAAAADBAAAAAAAAAUkAAAAAAAAAuQAAAAAAAAERAAAAAAAAAPEAAAAAAAAAgQAAAAAAAAChAAAAAAAAALkAAAAAAAIBLQAAAAAAAADBAAAAAAAAALEAAAAAAAAA1QAAAAAAAADJAAAAAAAAAMkAAAAAAAIBPQAAAAAAAAEhAAAAAAAAANEAAAAAAAEBZQAAAAAAAADxAAAAAAAAAREAAAAAAAAAuQAAAAAAAACZAAAAAAAAANUAAAAAAAAAcQAAAAAAAgEFAAAAAAAAANkAAAAAAAAAyQAAAAAAAAEFAAAAAAAAAWUAAAAAAAAA+QAAAAAAAADJAAAAAAAAAPUAAAAAAAIBGQAAAAAAAADJAAAAAAAAATkAAAAAAAAAYQAAAAAAAAD5AAAAAAAAANEAAAAAAAABJQAAAAAAAADFAAAAAAAAAPkAAAAAAAAA5QAAAAAAAAEhAAAAAAACAUUAAAAAAAIBLQAAAAAAAACpAAAAAAACARkAAAAAAAAAiQAAAAAAAADlAAAAAAACAR0AAAAAAAABUQAAAAAAAADlAAAAAAAAAIkAAAAAAAAAcQAAAAAAAAFRAAAAAAAAAIkAAAAAAAIBKQAAAAAAAAD5AAAAAAAAAKEAAAAAAAAAkQAAAAAAAADRAAAAAAAAAREAAAAAAAABFQAAAAAAAADFAAAAAAAAANUAAAAAAAAAyQAAAAAAAgEFAAAAAAAAAMkAAAAAAAAAxQAAAAAAAAD5AAAAAAACAQ0AAAAAAAAAyQAAAAAAAgEZAAAAAAAAAJkAAAAAAAAA0QAAAAAAAAElAAAAAAACAS0AAAAAAAAAkQAAAAAAAACpAAAAAAAAAPEAAAAAAAAAwQAAAAAAAADtAAAAAAAAALkAAAAAAAAA/QAAAAAAAgFdAAAAAAAAAPUAAAAAAAIBRQAAAAAAAACxAAAAAAAAAQkAAAAAAAAA5QAAAAAAAADtAAAAAAAAAPkAAAAAAAABEQAAAAAAAAERAAAAAAAAAJkAAAAAAAABCQAAAAAAAAElAAAAAAAAAJEAAAAAAAABRQAAAAAAAgEFAAAAAAAAAQEAAAAAAAAAsQAAAAAAAACpAAAAAAACAUUAAAAAAAAA3QAAAAAAAADNAAAAAAAAAVEAAAAAAAAA5QAAAAAAAAC5AAAAAAAAALkAAAAAAAABJQAAAAAAAADhAAAAAAAAAO0AAAAAAAIBFQAAAAAAAAC5AAAAAAACAUUAAAAAAAAA0QAAAAAAAADxAAAAAAAAAMUAAAAAAAABDQAAAAAAAgEFAAAAAAAAAHEAAAAAAAABBQAAAAAAAAERAAAAAAAAAPkAAAAAAAABEQAAAAAAAADlAAAAAAAAASUAAAAAAAIBAQAAAAAAAAEpAAAAAAAAASUAAAAAAAABFQAAAAAAAAENAAAAAAACARkAAAAAAAAAzQAAAAAAAADFAAAAAAAAAREAAAAAAAAA1QAAAAAAAACpAAAAAAAAALkAAAAAAAAAkQAAAAAAAAChAAAAAAAAANkAAAAAAAAA5QAAAAAAAAAhAAAAAAAAAN0AAAAAAAIBBQAAAAAAAACRAAAAAAAAAQEAAAAAAAAAyQAAAAAAAADFAAAAAAAAAMEAAAAAAAAAoQAAAAAAAgENAAAAAAAAAMkAAAAAAAAA3QAAAAAAAADlAAAAAAAAAQkAAAAAAAAA6QAAAAAAAADFAAAAAAAAALEAAAAAAAAAcQAAAAAAAACRAAAAAAAAAKkAAAAAAAAAuQAAAAAAAADZAAAAAAAAAAEAAAAAAAAA2QAAAAAAAgFFAAAAAAAAASUAAAAAAAAA0QAAAAAAAAFVAAAAAAAAANEAAAAAAAAA3QAAAAAAAgERAAAAAAAAAOUAAAAAAAAAkQAAAAAAAACpAAAAAAAAAPkAAAAAAAAA+QAAAAAAAgEFAAAAAAAAAOUAAAAAAAAAzQAAAAAAAgEFAAAAAAACAQUAAAAAAAAA+QAAAAAAAADVAAAAAAAAAMkAAAAAAAAAuQAAAAAAAgFJAAAAAAAAASUAAAAAAAABTQAAAAAAAADFAAAAAAAAANEAAAAAAAABJQAAAAAAAAD5AAAAAAAAAXkAAAAAAAAAuQAAAAAAAADhAAAAAAAAALkAAAAAAAAAUQAAAAAAAADlAAAAAAAAAKkAAAAAAAAAkQAAAAAAAADVAAAAAAAAAMUAAAAAAAABBQAAAAAAAADZAAAAAAAAALkAAAAAAAAA4QAAAAAAAADxAAAAAAAAAN0AAAAAAAABFQAAAAAAAAD5AAAAAAAAAMEAAAAAAAAA+QAAAAAAAAElAAAAAAAAANkAAAAAAAAAuQAAAAAAAAC5AAAAAAAAAOUAAAAAAAAAqQAAAAAAAADlAAAAAAAAAPUAAAAAAAAAsQAAAAAAAACxAAAAAAAAAOEAAAAAAAIBBQAAAAAAAADdAAAAAAAAAPkAAAAAAAAA4QAAAAAAAAEpAAAAAAAAALkAAAAAAAAA7QAAAAAAAAD5AAAAAAAAAPkAAAAAAAABLQAAAAAAAAChAAAAAAAAAPkAAAAAAAAA5QAAAAAAAADVAAAAAAAAAHEAAAAAAAAAyQAAAAAAAAERAAAAAAAAAMkAAAAAAAAA5QAAAAAAAAD9AAAAAAAAAN0AAAAAAAAAuQAAAAAAAADlAAAAAAAAAO0AAAAAAAABKQAAAAAAAADVAAAAAAAAAOkAAAAAAAABAQAAAAAAAAC5AAAAAAAAANUAAAAAAAAA6QAAAAAAAACxAAAAAAAAANkAAAAAAAABBQAAAAAAAAD5AAAAAAAAALkAAAAAAAAAuQAAAAAAAAD5AAAAAAAAAKkAAAAAAAABJQAAAAAAAADxAAAAAAAAAOUAAAAAAAAA6QAAAAAAAABxAAAAAAAAAAEAAAAAAAAA2QAAAAAAAgE1AAAAAAAAAOUAAAAAAAAAsQAAAAAAAgEVAAAAAAAAAIEAAAAAAAIBRQAAAAAAAADxAAAAAAAAAMkAAAAAAAAAoQAAAAAAAADRAAAAAAAAANEAAAAAAAAAmQAAAAAAAADFAAAAAAAAAMUAAAAAAAAA6QAAAAAAAAChAAAAAAACAQUAAAAAAAAAYQAAAAAAAADZAAAAAAAAANkAAAAAAAAAzQAAAAAAAAElAAAAAAAAALkAAAAAAAAAuQAAAAAAAAFJAAAAAAACARkAAAAAAAAA0QAAAAAAAgFZAAAAAAACAQUAAAAAAAAA/QAAAAAAAACRAAAAAAAAAPEAAAAAAAAA+QAAAAAAAgFVAAAAAAAAAOUAAAAAAAIBRQAAAAAAAAD5AAAAAAAAAREAAAAAAAAA0QAAAAAAAAERAAAAAAAAAKkAAAAAAAAA+QAAAAAAAAERAAAAAAAAASEAAAAAAAABJQAAAAAAAADVAAAAAAAAAMkAAAAAAAAAyQAAAAAAAAE1AAAAAAACAQkAAAAAAAAA8QAAAAAAAADJAAAAAAAAAMkAAAAAAAABAQAAAAAAAADZAAAAAAAAAMkAAAAAAAAA2QAAAAAAAgENAAAAAAAAAOEAAAAAAAAA+QAAAAAAAADlAAAAAAAAALkAAAAAAAIBBQAAAAAAAACRAAAAAAAAAREAAAAAAAAAiQAAAAAAAAERAAAAAAAAAPkAAAAAAAABJQAAAAAAAADRAAAAAAAAALkAAAAAAAAA+QAAAAAAAADFAAAAAAAAALkAAAAAAAABIQAAAAAAAAE9AAAAAAAAAHEAAAAAAAAAuQAAAAAAAwFdAAAAAAAAALkAAAAAAAAAiQAAAAAAAADlAAAAAAAAAJkAAAAAAAAAsQAAAAAAAACxAAAAAAAAALkAAAAAAAAAuQAAAAAAAADlAAAAAAAAAMkAAAAAAAABOQAAAAAAAAC5AAAAAAACARkAAAAAAAIBBQAAAAAAAAERAAAAAAAAAPkAAAAAAAAAoQAAAAAAAACpAAAAAAACARUAAAAAAAMBSQAAAAAAAAFlAAAAAAAAAMUAAAAAAAAAoQAAAAAAAwFJAAAAAAAAAKEAAAAAAAIBCQAAAAAAAAEtAAAAAAABAVUAAAAAAAAA0QAAAAAAAAEdAAAAAAAAANUAAAAAAAIBAQAAAAAAAgEBAAAAAAAAAPUAAAAAAAAA0QAAAAAAAQFBAAAAAAAAAXkAAAAAAAAA+QAAAAAAAADBAAAAAAACAVkAAAAAAAAA5QAAAAAAAAEBAAAAAAAAAPUAAAAAAAAAoQAAAAAAAAEBAAAAAAACAQUAAAAAAAAA2QAAAAAAAAERAAAAAAAAAHEAAAAAAAAA3QAAAAAAAAD5AAAAAAAAALkAAAAAAAAAxQAAAAAAAAC5AAAAAAAAAREAAAAAAAAAxQAAAAAAAAC5AAAAAAAAAMEAAAAAAAAAiQAAAAAAAADlAAAAAAAAANEAAAAAAAIBWQAAAAAAAACRAAAAAAAAAN0AAAAAAAAA+QAAAAAAAgFRAAAAAAAAAREAAAAAAAAAuQAAAAAAAAD5AAAAAAAAAPkAAAAAAAAAwQAAAAAAAADNAAAAAAAAAVEAAAAAAAAA+QAAAAAAAAElAAAAAAACAUEAAAAAAAABEQAAAAAAAgEZAAAAAAAAAOUAAAAAAAAAqQAAAAAAAgEJAAAAAAAAANEAAAAAAAABFQAAAAAAAgEFAAAAAAAAANEAAAAAAAABOQAAAAAAAAE5AAAAAAACARkAAAAAAAAA0QAAAAAAAADNAAAAAAAAAN0AAAAAAAIBLQAAAAAAAADdAAAAAAAAAPkAAAAAAAIBJQAAAAAAAADZAAAAAAAAANUAAAAAAAAAwQAAAAAAAgEpAAAAAAAAAN0AAAAAAAAA5QAAAAAAAADJAAAAAAAAANEAAAAAAAAA6QAAAAAAAQFBAAAAAAAAANUAAAAAAAIBLQAAAAAAAABxAAAAAAAAALEAAAAAAAABJQAAAAAAAACRAAAAAAAAAIEAAAAAAAAA0QAAAAAAAAERAAAAAAACAQEAAAAAAAAA0QAAAAAAAADpAAAAAAAAAMUAAAAAAAIBJQAAAAAAAAD5AAAAAAAAAPkAAAAAAAAAuQAAAAAAAADJAAAAAAACARUAAAAAAAAAuQAAAAAAAAC5AAAAAAAAAPEAAAAAAAABAQAAAAAAAAEBAAAAAAAAAOUAAAAAAAAAyQAAAAAAAADNAAAAAAAAAPkAAAAAAAAA+QAAAAAAAADlAAAAAAAAAQkAAAAAAAABEQAAAAAAAADpAAAAAAAAAREAAAAAAAAA/QAAAAAAAAC5AAAAAAAAAKEAAAAAAAAA0QAAAAAAAAEBAAAAAAAAAPEAAAAAAAAAqQAAAAAAAgEdAAAAAAAAAREAAAAAAAAA+QAAAAAAAADdAAAAAAAAAREAAAAAAAAA6QAAAAAAAAFlAAAAAAAAASUAAAAAAAAAyQAAAAAAAACpAAAAAAAAAPkAAAAAAAABJQAAAAAAAgEBAAAAAAAAARkAAAAAAAIBGQAAAAAAAAD5AAAAAAAAAN0AAAAAAAAAqQAAAAAAAADJAAAAAAAAAPEAAAAAAAABJQAAAAAAAACZAAAAAAAAALkAAAAAAAAA5QAAAAAAAADtAAAAAAABAUEAAAAAAAIBLQAAAAAAAAERAAAAAAAAALEAAAAAAAABJQAAAAAAAAD5AAAAAAAAANUAAAAAAAIBLQAAAAAAAAF5AAAAAAAAAREAAAAAAAAA5QAAAAAAAgEtAAAAAAAAAKEAAAAAAAEBQQAAAAAAAAEFAAAAAAAAANkAAAAAAAIBBQAAAAAAAADFAAAAAAAAANEAAAAAAAIBRQAAAAAAAAERAAAAAAAAANkAAAAAAAAAsQAAAAAAAACpAAAAAAAAALkAAAAAAAAA3QAAAAAAAgEtAAAAAAAAAMkAAAAAAAMBSQAAAAAAAgEdAAAAAAAAALEAAAAAAAABDQAAAAAAAADdAAAAAAAAAIkAAAAAAAAAoQAAAAAAAADlAAAAAAAAAOkAAAAAAAAAUQAAAAAAAADJAAAAAAAAAOUAAAAAAAAA+QAAAAAAAAC5AAAAAAAAALkAAAAAAAAA5QAAAAAAAAFBAAAAAAAAAREAAAAAAAAA0QAAAAAAAAD9AAAAAAAAAPkAAAAAAAABeQAAAAAAAAD9AAAAAAAAALkAAAAAAAAA4QAAAAAAAADlAAAAAAACAQUAAAAAAAAAcQAAAAAAAADRAAAAAAAAAM0AAAAAAAIBGQAAAAAAAADlAAAAAAAAAJkAAAAAAAAAuQAAAAAAAAD5AAAAAAAAAMUAAAAAAAIBCQAAAAAAAACpAAAAAAAAAQ0AAAAAAAAA5QAAAAAAAADRAAAAAAAAAIkAAAAAAAIBAQAAAAAAAADBAAAAAAAAAPkAAAAAAAAA7QAAAAAAAADZAAAAAAAAALkAAAAAAAAAmQAAAAAAAADFAAAAAAAAARkAAAAAAAABLQAAAAAAAACBAAAAAAAAAIkAAAAAAAAA5QAAAAAAAADlAAAAAAAAALkAAAAAAAAA5QAAAAAAAgEtAAAAAAACAREAAAAAAAAAuQAAAAAAAAC5AAAAAAAAAOUAAAAAAAAA5QAAAAAAAAEBAAAAAAAAAPkAAAAAAAAAsQAAAAAAAAE1AAAAAAAAAPkAAAAAAAAAoQAAAAAAAADhAAAAAAACAR0AAAAAAAAAyQAAAAAAAgEtAAAAAAAAAOUAAAAAAAIBKQAAAAAAAADdAAAAAAAAANkAAAAAAAAAoQAAAAAAAAEBAAAAAAAAAREAAAAAAAABOQAAAAAAAADlAAAAAAAAAJkAAAAAAAEBQQAAAAAAAAFRAAAAAAACAS0AAAAAAAAAwQAAAAAAAADJAAAAAAAAAMUAAAAAAAAAyQAAAAAAAAElAAAAAAAAANUAAAAAAAABJQAAAAAAAACpAAAAAAACASUAAAAAAAAA5QAAAAAAAAD5AAAAAAAAALkAAAAAAAABEQAAAAAAAACRAAAAAAAAAQUAAAAAAAIBRQAAAAAAAADtAAAAAAAAANUAAAAAAAAAuQAAAAAAAAC5AAAAAAAAAR0AAAAAAAAAQQAAAAAAAABRAAAAAAAAAREAAAAAAAAAzQAAAAAAAgEBAAAAAAAAAJkAAAAAAAABBQAAAAAAAADBAAAAAAAAANUAAAAAAAABUQAAAAAAAgEtAAAAAAAAAIkAAAAAAAAA1QAAAAAAAADlAAAAAAAAAMkAAAAAAAIBEQAAAAAAAADdAAAAAAAAALkAAAAAAAAAqQAAAAAAAgEFAAAAAAACAQEAAAAAAAAAmQAAAAAAAgEFAAAAAAAAAPkAAAAAAAAA5QAAAAAAAADtAAAAAAAAAWEAAAAAAAABEQAAAAAAAACZAAAAAAAAANEAAAAAAAABJQAAAAAAAwFJAAAAAAAAAOEAAAAAAAABAQAAAAAAAADBAAAAAAAAAO0AAAAAAAAAuQAAAAAAAADNAAAAAAAAANEAAAAAAAIBBQAAAAAAAAFRAAAAAAAAAREAAAAAAAAAyQAAAAAAAAChAAAAAAAAAOUAAAAAAAAAzQAAAAAAAAE5AAAAAAADAU0AAAAAAAMBXQAAAAAAAAD5AAAAAAAAASUAAAAAAAAA2QAAAAAAAgEBAAAAAAAAALkAAAAAAAAAmQAAAAAAAAD5AAAAAAAAAIEAAAAAAAAA5QAAAAAAAAD5AAAAAAAAALkAAAAAAAAA+QAAAAAAAgFFAAAAAAAAAHEAAAAAAAABUQAAAAAAAABhAAAAAAAAAPkAAAAAAAAA1QAAAAAAAADFAAAAAAAAAXkAAAAAAAAA7QAAAAAAAADZAAAAAAACAQUAAAAAAAAAYQAAAAAAAAC5AAAAAAAAANEAAAAAAAAAmQAAAAAAAAD5AAAAAAAAANEAAAAAAAAA+QAAAAAAAADRAAAAAAAAAREAAAAAAAAA+QAAAAAAAAC5AAAAAAAAATkAAAAAAAAAxQAAAAAAAgEFAAAAAAAAAQUAAAAAAAIBBQAAAAAAAADlAAAAAAAAAMkAAAAAAAAAgQAAAAAAAADhAAAAAAAAAKkAAAAAAAAA+QAAAAAAAADtAAAAAAAAALkAAAAAAAAA7QAAAAAAAADZAAAAAAAAASUAAAAAAAAA2QAAAAAAAADlAAAAAAAAANUAAAAAAAAAoQAAAAAAAgGFAAAAAAAAAPkAAAAAAAABOQAAAAAAAgEFAAAAAAAAAKEAAAAAAAAAoQAAAAAAAADVAAAAAAACAUUAAAAAAAAA0QAAAAAAAwFBAAAAAAAAAOEAAAAAAAABPQAAAAAAAACZAAAAAAAAAMUAAAAAAAABAQAAAAAAAQFBAAAAAAAAATUAAAAAAAABKQAAAAAAAAD5AAAAAAAAAKEAAAAAAAAA0QAAAAAAAAD5AAAAAAAAAHEAAAAAAAIBCQAAAAAAAAD5AAAAAAACAR0AAAAAAAIBWQAAAAAAAAENAAAAAAAAANEAAAAAAAAAAQAAAAAAAADlAAAAAAAAAM0AAAAAAAAAzQAAAAAAAADJAAAAAAAAAPkAAAAAAAIBGQAAAAAAAgEZAAAAAAAAALkAAAAAAAAAzQAAAAAAAADhAAAAAAAAAREAAAAAAAIBBQAAAAAAAADVAAAAAAAAAMkAAAAAAAABZQAAAAAAAADdAAAAAAAAAOUAAAAAAAABUQAAAAAAAAC5AAAAAAAAAUUAAAAAAAABEQAAAAAAAAElAAAAAAAAAPEAAAAAAAAAkQAAAAAAAACJAAAAAAAAAR0AAAAAAAAA2QAAAAAAAAEZAAAAAAAAAPkA=",
          "dtype": "f8"
         },
         "x0": " ",
         "xaxis": "x",
         "y0": " ",
         "yaxis": "y"
        }
       ],
       "layout": {
        "boxmode": "group",
        "legend": {
         "tracegroupgap": 0
        },
        "template": {
         "data": {
          "bar": [
           {
            "error_x": {
             "color": "#2a3f5f"
            },
            "error_y": {
             "color": "#2a3f5f"
            },
            "marker": {
             "line": {
              "color": "#E5ECF6",
              "width": 0.5
             },
             "pattern": {
              "fillmode": "overlay",
              "size": 10,
              "solidity": 0.2
             }
            },
            "type": "bar"
           }
          ],
          "barpolar": [
           {
            "marker": {
             "line": {
              "color": "#E5ECF6",
              "width": 0.5
             },
             "pattern": {
              "fillmode": "overlay",
              "size": 10,
              "solidity": 0.2
             }
            },
            "type": "barpolar"
           }
          ],
          "carpet": [
           {
            "aaxis": {
             "endlinecolor": "#2a3f5f",
             "gridcolor": "white",
             "linecolor": "white",
             "minorgridcolor": "white",
             "startlinecolor": "#2a3f5f"
            },
            "baxis": {
             "endlinecolor": "#2a3f5f",
             "gridcolor": "white",
             "linecolor": "white",
             "minorgridcolor": "white",
             "startlinecolor": "#2a3f5f"
            },
            "type": "carpet"
           }
          ],
          "choropleth": [
           {
            "colorbar": {
             "outlinewidth": 0,
             "ticks": ""
            },
            "type": "choropleth"
           }
          ],
          "contour": [
           {
            "colorbar": {
             "outlinewidth": 0,
             "ticks": ""
            },
            "colorscale": [
             [
              0,
              "#0d0887"
             ],
             [
              0.1111111111111111,
              "#46039f"
             ],
             [
              0.2222222222222222,
              "#7201a8"
             ],
             [
              0.3333333333333333,
              "#9c179e"
             ],
             [
              0.4444444444444444,
              "#bd3786"
             ],
             [
              0.5555555555555556,
              "#d8576b"
             ],
             [
              0.6666666666666666,
              "#ed7953"
             ],
             [
              0.7777777777777778,
              "#fb9f3a"
             ],
             [
              0.8888888888888888,
              "#fdca26"
             ],
             [
              1,
              "#f0f921"
             ]
            ],
            "type": "contour"
           }
          ],
          "contourcarpet": [
           {
            "colorbar": {
             "outlinewidth": 0,
             "ticks": ""
            },
            "type": "contourcarpet"
           }
          ],
          "heatmap": [
           {
            "colorbar": {
             "outlinewidth": 0,
             "ticks": ""
            },
            "colorscale": [
             [
              0,
              "#0d0887"
             ],
             [
              0.1111111111111111,
              "#46039f"
             ],
             [
              0.2222222222222222,
              "#7201a8"
             ],
             [
              0.3333333333333333,
              "#9c179e"
             ],
             [
              0.4444444444444444,
              "#bd3786"
             ],
             [
              0.5555555555555556,
              "#d8576b"
             ],
             [
              0.6666666666666666,
              "#ed7953"
             ],
             [
              0.7777777777777778,
              "#fb9f3a"
             ],
             [
              0.8888888888888888,
              "#fdca26"
             ],
             [
              1,
              "#f0f921"
             ]
            ],
            "type": "heatmap"
           }
          ],
          "histogram": [
           {
            "marker": {
             "pattern": {
              "fillmode": "overlay",
              "size": 10,
              "solidity": 0.2
             }
            },
            "type": "histogram"
           }
          ],
          "histogram2d": [
           {
            "colorbar": {
             "outlinewidth": 0,
             "ticks": ""
            },
            "colorscale": [
             [
              0,
              "#0d0887"
             ],
             [
              0.1111111111111111,
              "#46039f"
             ],
             [
              0.2222222222222222,
              "#7201a8"
             ],
             [
              0.3333333333333333,
              "#9c179e"
             ],
             [
              0.4444444444444444,
              "#bd3786"
             ],
             [
              0.5555555555555556,
              "#d8576b"
             ],
             [
              0.6666666666666666,
              "#ed7953"
             ],
             [
              0.7777777777777778,
              "#fb9f3a"
             ],
             [
              0.8888888888888888,
              "#fdca26"
             ],
             [
              1,
              "#f0f921"
             ]
            ],
            "type": "histogram2d"
           }
          ],
          "histogram2dcontour": [
           {
            "colorbar": {
             "outlinewidth": 0,
             "ticks": ""
            },
            "colorscale": [
             [
              0,
              "#0d0887"
             ],
             [
              0.1111111111111111,
              "#46039f"
             ],
             [
              0.2222222222222222,
              "#7201a8"
             ],
             [
              0.3333333333333333,
              "#9c179e"
             ],
             [
              0.4444444444444444,
              "#bd3786"
             ],
             [
              0.5555555555555556,
              "#d8576b"
             ],
             [
              0.6666666666666666,
              "#ed7953"
             ],
             [
              0.7777777777777778,
              "#fb9f3a"
             ],
             [
              0.8888888888888888,
              "#fdca26"
             ],
             [
              1,
              "#f0f921"
             ]
            ],
            "type": "histogram2dcontour"
           }
          ],
          "mesh3d": [
           {
            "colorbar": {
             "outlinewidth": 0,
             "ticks": ""
            },
            "type": "mesh3d"
           }
          ],
          "parcoords": [
           {
            "line": {
             "colorbar": {
              "outlinewidth": 0,
              "ticks": ""
             }
            },
            "type": "parcoords"
           }
          ],
          "pie": [
           {
            "automargin": true,
            "type": "pie"
           }
          ],
          "scatter": [
           {
            "fillpattern": {
             "fillmode": "overlay",
             "size": 10,
             "solidity": 0.2
            },
            "type": "scatter"
           }
          ],
          "scatter3d": [
           {
            "line": {
             "colorbar": {
              "outlinewidth": 0,
              "ticks": ""
             }
            },
            "marker": {
             "colorbar": {
              "outlinewidth": 0,
              "ticks": ""
             }
            },
            "type": "scatter3d"
           }
          ],
          "scattercarpet": [
           {
            "marker": {
             "colorbar": {
              "outlinewidth": 0,
              "ticks": ""
             }
            },
            "type": "scattercarpet"
           }
          ],
          "scattergeo": [
           {
            "marker": {
             "colorbar": {
              "outlinewidth": 0,
              "ticks": ""
             }
            },
            "type": "scattergeo"
           }
          ],
          "scattergl": [
           {
            "marker": {
             "colorbar": {
              "outlinewidth": 0,
              "ticks": ""
             }
            },
            "type": "scattergl"
           }
          ],
          "scattermap": [
           {
            "marker": {
             "colorbar": {
              "outlinewidth": 0,
              "ticks": ""
             }
            },
            "type": "scattermap"
           }
          ],
          "scattermapbox": [
           {
            "marker": {
             "colorbar": {
              "outlinewidth": 0,
              "ticks": ""
             }
            },
            "type": "scattermapbox"
           }
          ],
          "scatterpolar": [
           {
            "marker": {
             "colorbar": {
              "outlinewidth": 0,
              "ticks": ""
             }
            },
            "type": "scatterpolar"
           }
          ],
          "scatterpolargl": [
           {
            "marker": {
             "colorbar": {
              "outlinewidth": 0,
              "ticks": ""
             }
            },
            "type": "scatterpolargl"
           }
          ],
          "scatterternary": [
           {
            "marker": {
             "colorbar": {
              "outlinewidth": 0,
              "ticks": ""
             }
            },
            "type": "scatterternary"
           }
          ],
          "surface": [
           {
            "colorbar": {
             "outlinewidth": 0,
             "ticks": ""
            },
            "colorscale": [
             [
              0,
              "#0d0887"
             ],
             [
              0.1111111111111111,
              "#46039f"
             ],
             [
              0.2222222222222222,
              "#7201a8"
             ],
             [
              0.3333333333333333,
              "#9c179e"
             ],
             [
              0.4444444444444444,
              "#bd3786"
             ],
             [
              0.5555555555555556,
              "#d8576b"
             ],
             [
              0.6666666666666666,
              "#ed7953"
             ],
             [
              0.7777777777777778,
              "#fb9f3a"
             ],
             [
              0.8888888888888888,
              "#fdca26"
             ],
             [
              1,
              "#f0f921"
             ]
            ],
            "type": "surface"
           }
          ],
          "table": [
           {
            "cells": {
             "fill": {
              "color": "#EBF0F8"
             },
             "line": {
              "color": "white"
             }
            },
            "header": {
             "fill": {
              "color": "#C8D4E3"
             },
             "line": {
              "color": "white"
             }
            },
            "type": "table"
           }
          ]
         },
         "layout": {
          "annotationdefaults": {
           "arrowcolor": "#2a3f5f",
           "arrowhead": 0,
           "arrowwidth": 1
          },
          "autotypenumbers": "strict",
          "coloraxis": {
           "colorbar": {
            "outlinewidth": 0,
            "ticks": ""
           }
          },
          "colorscale": {
           "diverging": [
            [
             0,
             "#8e0152"
            ],
            [
             0.1,
             "#c51b7d"
            ],
            [
             0.2,
             "#de77ae"
            ],
            [
             0.3,
             "#f1b6da"
            ],
            [
             0.4,
             "#fde0ef"
            ],
            [
             0.5,
             "#f7f7f7"
            ],
            [
             0.6,
             "#e6f5d0"
            ],
            [
             0.7,
             "#b8e186"
            ],
            [
             0.8,
             "#7fbc41"
            ],
            [
             0.9,
             "#4d9221"
            ],
            [
             1,
             "#276419"
            ]
           ],
           "sequential": [
            [
             0,
             "#0d0887"
            ],
            [
             0.1111111111111111,
             "#46039f"
            ],
            [
             0.2222222222222222,
             "#7201a8"
            ],
            [
             0.3333333333333333,
             "#9c179e"
            ],
            [
             0.4444444444444444,
             "#bd3786"
            ],
            [
             0.5555555555555556,
             "#d8576b"
            ],
            [
             0.6666666666666666,
             "#ed7953"
            ],
            [
             0.7777777777777778,
             "#fb9f3a"
            ],
            [
             0.8888888888888888,
             "#fdca26"
            ],
            [
             1,
             "#f0f921"
            ]
           ],
           "sequentialminus": [
            [
             0,
             "#0d0887"
            ],
            [
             0.1111111111111111,
             "#46039f"
            ],
            [
             0.2222222222222222,
             "#7201a8"
            ],
            [
             0.3333333333333333,
             "#9c179e"
            ],
            [
             0.4444444444444444,
             "#bd3786"
            ],
            [
             0.5555555555555556,
             "#d8576b"
            ],
            [
             0.6666666666666666,
             "#ed7953"
            ],
            [
             0.7777777777777778,
             "#fb9f3a"
            ],
            [
             0.8888888888888888,
             "#fdca26"
            ],
            [
             1,
             "#f0f921"
            ]
           ]
          },
          "colorway": [
           "#636efa",
           "#EF553B",
           "#00cc96",
           "#ab63fa",
           "#FFA15A",
           "#19d3f3",
           "#FF6692",
           "#B6E880",
           "#FF97FF",
           "#FECB52"
          ],
          "font": {
           "color": "#2a3f5f"
          },
          "geo": {
           "bgcolor": "white",
           "lakecolor": "white",
           "landcolor": "#E5ECF6",
           "showlakes": true,
           "showland": true,
           "subunitcolor": "white"
          },
          "hoverlabel": {
           "align": "left"
          },
          "hovermode": "closest",
          "mapbox": {
           "style": "light"
          },
          "paper_bgcolor": "white",
          "plot_bgcolor": "#E5ECF6",
          "polar": {
           "angularaxis": {
            "gridcolor": "white",
            "linecolor": "white",
            "ticks": ""
           },
           "bgcolor": "#E5ECF6",
           "radialaxis": {
            "gridcolor": "white",
            "linecolor": "white",
            "ticks": ""
           }
          },
          "scene": {
           "xaxis": {
            "backgroundcolor": "#E5ECF6",
            "gridcolor": "white",
            "gridwidth": 2,
            "linecolor": "white",
            "showbackground": true,
            "ticks": "",
            "zerolinecolor": "white"
           },
           "yaxis": {
            "backgroundcolor": "#E5ECF6",
            "gridcolor": "white",
            "gridwidth": 2,
            "linecolor": "white",
            "showbackground": true,
            "ticks": "",
            "zerolinecolor": "white"
           },
           "zaxis": {
            "backgroundcolor": "#E5ECF6",
            "gridcolor": "white",
            "gridwidth": 2,
            "linecolor": "white",
            "showbackground": true,
            "ticks": "",
            "zerolinecolor": "white"
           }
          },
          "shapedefaults": {
           "line": {
            "color": "#2a3f5f"
           }
          },
          "ternary": {
           "aaxis": {
            "gridcolor": "white",
            "linecolor": "white",
            "ticks": ""
           },
           "baxis": {
            "gridcolor": "white",
            "linecolor": "white",
            "ticks": ""
           },
           "bgcolor": "#E5ECF6",
           "caxis": {
            "gridcolor": "white",
            "linecolor": "white",
            "ticks": ""
           }
          },
          "title": {
           "x": 0.05
          },
          "xaxis": {
           "automargin": true,
           "gridcolor": "white",
           "linecolor": "white",
           "ticks": "",
           "title": {
            "standoff": 15
           },
           "zerolinecolor": "white",
           "zerolinewidth": 2
          },
          "yaxis": {
           "automargin": true,
           "gridcolor": "white",
           "linecolor": "white",
           "ticks": "",
           "title": {
            "standoff": 15
           },
           "zerolinecolor": "white",
           "zerolinewidth": 2
          }
         }
        },
        "title": {
         "text": "Detecting Outliers of Tumor Size"
        },
        "xaxis": {
         "anchor": "y",
         "domain": [
          0,
          1
         ],
         "title": {
          "text": "Tumor_Size"
         }
        },
        "yaxis": {
         "anchor": "x",
         "domain": [
          0,
          1
         ]
        }
       }
      }
     },
     "metadata": {},
     "output_type": "display_data"
    }
   ],
   "source": [
    "tumor_fig = px.box(data, x='Tumor_Size', title='Detecting Outliers of Tumor Size')\n",
    "tumor_fig.show()"
   ]
  },
  {
   "cell_type": "code",
   "execution_count": 19,
   "id": "2e2cd492837f5062",
   "metadata": {
    "ExecuteTime": {
     "end_time": "2025-08-12T15:33:46.941942Z",
     "start_time": "2025-08-12T15:33:46.812823Z"
    }
   },
   "outputs": [
    {
     "data": {
      "application/vnd.plotly.v1+json": {
       "config": {
        "plotlyServerURL": "https://plot.ly"
       },
       "data": [
        {
         "alignmentgroup": "True",
         "hovertemplate": "Age=%{x}<extra></extra>",
         "legendgroup": "",
         "marker": {
          "color": "#636efa"
         },
         "name": "",
         "notched": false,
         "offsetgroup": "",
         "orientation": "h",
         "showlegend": false,
         "type": "box",
         "x": {
          "bdata": "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",
          "dtype": "f8"
         },
         "x0": " ",
         "xaxis": "x",
         "y0": " ",
         "yaxis": "y"
        }
       ],
       "layout": {
        "boxmode": "group",
        "legend": {
         "tracegroupgap": 0
        },
        "template": {
         "data": {
          "bar": [
           {
            "error_x": {
             "color": "#2a3f5f"
            },
            "error_y": {
             "color": "#2a3f5f"
            },
            "marker": {
             "line": {
              "color": "#E5ECF6",
              "width": 0.5
             },
             "pattern": {
              "fillmode": "overlay",
              "size": 10,
              "solidity": 0.2
             }
            },
            "type": "bar"
           }
          ],
          "barpolar": [
           {
            "marker": {
             "line": {
              "color": "#E5ECF6",
              "width": 0.5
             },
             "pattern": {
              "fillmode": "overlay",
              "size": 10,
              "solidity": 0.2
             }
            },
            "type": "barpolar"
           }
          ],
          "carpet": [
           {
            "aaxis": {
             "endlinecolor": "#2a3f5f",
             "gridcolor": "white",
             "linecolor": "white",
             "minorgridcolor": "white",
             "startlinecolor": "#2a3f5f"
            },
            "baxis": {
             "endlinecolor": "#2a3f5f",
             "gridcolor": "white",
             "linecolor": "white",
             "minorgridcolor": "white",
             "startlinecolor": "#2a3f5f"
            },
            "type": "carpet"
           }
          ],
          "choropleth": [
           {
            "colorbar": {
             "outlinewidth": 0,
             "ticks": ""
            },
            "type": "choropleth"
           }
          ],
          "contour": [
           {
            "colorbar": {
             "outlinewidth": 0,
             "ticks": ""
            },
            "colorscale": [
             [
              0,
              "#0d0887"
             ],
             [
              0.1111111111111111,
              "#46039f"
             ],
             [
              0.2222222222222222,
              "#7201a8"
             ],
             [
              0.3333333333333333,
              "#9c179e"
             ],
             [
              0.4444444444444444,
              "#bd3786"
             ],
             [
              0.5555555555555556,
              "#d8576b"
             ],
             [
              0.6666666666666666,
              "#ed7953"
             ],
             [
              0.7777777777777778,
              "#fb9f3a"
             ],
             [
              0.8888888888888888,
              "#fdca26"
             ],
             [
              1,
              "#f0f921"
             ]
            ],
            "type": "contour"
           }
          ],
          "contourcarpet": [
           {
            "colorbar": {
             "outlinewidth": 0,
             "ticks": ""
            },
            "type": "contourcarpet"
           }
          ],
          "heatmap": [
           {
            "colorbar": {
             "outlinewidth": 0,
             "ticks": ""
            },
            "colorscale": [
             [
              0,
              "#0d0887"
             ],
             [
              0.1111111111111111,
              "#46039f"
             ],
             [
              0.2222222222222222,
              "#7201a8"
             ],
             [
              0.3333333333333333,
              "#9c179e"
             ],
             [
              0.4444444444444444,
              "#bd3786"
             ],
             [
              0.5555555555555556,
              "#d8576b"
             ],
             [
              0.6666666666666666,
              "#ed7953"
             ],
             [
              0.7777777777777778,
              "#fb9f3a"
             ],
             [
              0.8888888888888888,
              "#fdca26"
             ],
             [
              1,
              "#f0f921"
             ]
            ],
            "type": "heatmap"
           }
          ],
          "histogram": [
           {
            "marker": {
             "pattern": {
              "fillmode": "overlay",
              "size": 10,
              "solidity": 0.2
             }
            },
            "type": "histogram"
           }
          ],
          "histogram2d": [
           {
            "colorbar": {
             "outlinewidth": 0,
             "ticks": ""
            },
            "colorscale": [
             [
              0,
              "#0d0887"
             ],
             [
              0.1111111111111111,
              "#46039f"
             ],
             [
              0.2222222222222222,
              "#7201a8"
             ],
             [
              0.3333333333333333,
              "#9c179e"
             ],
             [
              0.4444444444444444,
              "#bd3786"
             ],
             [
              0.5555555555555556,
              "#d8576b"
             ],
             [
              0.6666666666666666,
              "#ed7953"
             ],
             [
              0.7777777777777778,
              "#fb9f3a"
             ],
             [
              0.8888888888888888,
              "#fdca26"
             ],
             [
              1,
              "#f0f921"
             ]
            ],
            "type": "histogram2d"
           }
          ],
          "histogram2dcontour": [
           {
            "colorbar": {
             "outlinewidth": 0,
             "ticks": ""
            },
            "colorscale": [
             [
              0,
              "#0d0887"
             ],
             [
              0.1111111111111111,
              "#46039f"
             ],
             [
              0.2222222222222222,
              "#7201a8"
             ],
             [
              0.3333333333333333,
              "#9c179e"
             ],
             [
              0.4444444444444444,
              "#bd3786"
             ],
             [
              0.5555555555555556,
              "#d8576b"
             ],
             [
              0.6666666666666666,
              "#ed7953"
             ],
             [
              0.7777777777777778,
              "#fb9f3a"
             ],
             [
              0.8888888888888888,
              "#fdca26"
             ],
             [
              1,
              "#f0f921"
             ]
            ],
            "type": "histogram2dcontour"
           }
          ],
          "mesh3d": [
           {
            "colorbar": {
             "outlinewidth": 0,
             "ticks": ""
            },
            "type": "mesh3d"
           }
          ],
          "parcoords": [
           {
            "line": {
             "colorbar": {
              "outlinewidth": 0,
              "ticks": ""
             }
            },
            "type": "parcoords"
           }
          ],
          "pie": [
           {
            "automargin": true,
            "type": "pie"
           }
          ],
          "scatter": [
           {
            "fillpattern": {
             "fillmode": "overlay",
             "size": 10,
             "solidity": 0.2
            },
            "type": "scatter"
           }
          ],
          "scatter3d": [
           {
            "line": {
             "colorbar": {
              "outlinewidth": 0,
              "ticks": ""
             }
            },
            "marker": {
             "colorbar": {
              "outlinewidth": 0,
              "ticks": ""
             }
            },
            "type": "scatter3d"
           }
          ],
          "scattercarpet": [
           {
            "marker": {
             "colorbar": {
              "outlinewidth": 0,
              "ticks": ""
             }
            },
            "type": "scattercarpet"
           }
          ],
          "scattergeo": [
           {
            "marker": {
             "colorbar": {
              "outlinewidth": 0,
              "ticks": ""
             }
            },
            "type": "scattergeo"
           }
          ],
          "scattergl": [
           {
            "marker": {
             "colorbar": {
              "outlinewidth": 0,
              "ticks": ""
             }
            },
            "type": "scattergl"
           }
          ],
          "scattermap": [
           {
            "marker": {
             "colorbar": {
              "outlinewidth": 0,
              "ticks": ""
             }
            },
            "type": "scattermap"
           }
          ],
          "scattermapbox": [
           {
            "marker": {
             "colorbar": {
              "outlinewidth": 0,
              "ticks": ""
             }
            },
            "type": "scattermapbox"
           }
          ],
          "scatterpolar": [
           {
            "marker": {
             "colorbar": {
              "outlinewidth": 0,
              "ticks": ""
             }
            },
            "type": "scatterpolar"
           }
          ],
          "scatterpolargl": [
           {
            "marker": {
             "colorbar": {
              "outlinewidth": 0,
              "ticks": ""
             }
            },
            "type": "scatterpolargl"
           }
          ],
          "scatterternary": [
           {
            "marker": {
             "colorbar": {
              "outlinewidth": 0,
              "ticks": ""
             }
            },
            "type": "scatterternary"
           }
          ],
          "surface": [
           {
            "colorbar": {
             "outlinewidth": 0,
             "ticks": ""
            },
            "colorscale": [
             [
              0,
              "#0d0887"
             ],
             [
              0.1111111111111111,
              "#46039f"
             ],
             [
              0.2222222222222222,
              "#7201a8"
             ],
             [
              0.3333333333333333,
              "#9c179e"
             ],
             [
              0.4444444444444444,
              "#bd3786"
             ],
             [
              0.5555555555555556,
              "#d8576b"
             ],
             [
              0.6666666666666666,
              "#ed7953"
             ],
             [
              0.7777777777777778,
              "#fb9f3a"
             ],
             [
              0.8888888888888888,
              "#fdca26"
             ],
             [
              1,
              "#f0f921"
             ]
            ],
            "type": "surface"
           }
          ],
          "table": [
           {
            "cells": {
             "fill": {
              "color": "#EBF0F8"
             },
             "line": {
              "color": "white"
             }
            },
            "header": {
             "fill": {
              "color": "#C8D4E3"
             },
             "line": {
              "color": "white"
             }
            },
            "type": "table"
           }
          ]
         },
         "layout": {
          "annotationdefaults": {
           "arrowcolor": "#2a3f5f",
           "arrowhead": 0,
           "arrowwidth": 1
          },
          "autotypenumbers": "strict",
          "coloraxis": {
           "colorbar": {
            "outlinewidth": 0,
            "ticks": ""
           }
          },
          "colorscale": {
           "diverging": [
            [
             0,
             "#8e0152"
            ],
            [
             0.1,
             "#c51b7d"
            ],
            [
             0.2,
             "#de77ae"
            ],
            [
             0.3,
             "#f1b6da"
            ],
            [
             0.4,
             "#fde0ef"
            ],
            [
             0.5,
             "#f7f7f7"
            ],
            [
             0.6,
             "#e6f5d0"
            ],
            [
             0.7,
             "#b8e186"
            ],
            [
             0.8,
             "#7fbc41"
            ],
            [
             0.9,
             "#4d9221"
            ],
            [
             1,
             "#276419"
            ]
           ],
           "sequential": [
            [
             0,
             "#0d0887"
            ],
            [
             0.1111111111111111,
             "#46039f"
            ],
            [
             0.2222222222222222,
             "#7201a8"
            ],
            [
             0.3333333333333333,
             "#9c179e"
            ],
            [
             0.4444444444444444,
             "#bd3786"
            ],
            [
             0.5555555555555556,
             "#d8576b"
            ],
            [
             0.6666666666666666,
             "#ed7953"
            ],
            [
             0.7777777777777778,
             "#fb9f3a"
            ],
            [
             0.8888888888888888,
             "#fdca26"
            ],
            [
             1,
             "#f0f921"
            ]
           ],
           "sequentialminus": [
            [
             0,
             "#0d0887"
            ],
            [
             0.1111111111111111,
             "#46039f"
            ],
            [
             0.2222222222222222,
             "#7201a8"
            ],
            [
             0.3333333333333333,
             "#9c179e"
            ],
            [
             0.4444444444444444,
             "#bd3786"
            ],
            [
             0.5555555555555556,
             "#d8576b"
            ],
            [
             0.6666666666666666,
             "#ed7953"
            ],
            [
             0.7777777777777778,
             "#fb9f3a"
            ],
            [
             0.8888888888888888,
             "#fdca26"
            ],
            [
             1,
             "#f0f921"
            ]
           ]
          },
          "colorway": [
           "#636efa",
           "#EF553B",
           "#00cc96",
           "#ab63fa",
           "#FFA15A",
           "#19d3f3",
           "#FF6692",
           "#B6E880",
           "#FF97FF",
           "#FECB52"
          ],
          "font": {
           "color": "#2a3f5f"
          },
          "geo": {
           "bgcolor": "white",
           "lakecolor": "white",
           "landcolor": "#E5ECF6",
           "showlakes": true,
           "showland": true,
           "subunitcolor": "white"
          },
          "hoverlabel": {
           "align": "left"
          },
          "hovermode": "closest",
          "mapbox": {
           "style": "light"
          },
          "paper_bgcolor": "white",
          "plot_bgcolor": "#E5ECF6",
          "polar": {
           "angularaxis": {
            "gridcolor": "white",
            "linecolor": "white",
            "ticks": ""
           },
           "bgcolor": "#E5ECF6",
           "radialaxis": {
            "gridcolor": "white",
            "linecolor": "white",
            "ticks": ""
           }
          },
          "scene": {
           "xaxis": {
            "backgroundcolor": "#E5ECF6",
            "gridcolor": "white",
            "gridwidth": 2,
            "linecolor": "white",
            "showbackground": true,
            "ticks": "",
            "zerolinecolor": "white"
           },
           "yaxis": {
            "backgroundcolor": "#E5ECF6",
            "gridcolor": "white",
            "gridwidth": 2,
            "linecolor": "white",
            "showbackground": true,
            "ticks": "",
            "zerolinecolor": "white"
           },
           "zaxis": {
            "backgroundcolor": "#E5ECF6",
            "gridcolor": "white",
            "gridwidth": 2,
            "linecolor": "white",
            "showbackground": true,
            "ticks": "",
            "zerolinecolor": "white"
           }
          },
          "shapedefaults": {
           "line": {
            "color": "#2a3f5f"
           }
          },
          "ternary": {
           "aaxis": {
            "gridcolor": "white",
            "linecolor": "white",
            "ticks": ""
           },
           "baxis": {
            "gridcolor": "white",
            "linecolor": "white",
            "ticks": ""
           },
           "bgcolor": "#E5ECF6",
           "caxis": {
            "gridcolor": "white",
            "linecolor": "white",
            "ticks": ""
           }
          },
          "title": {
           "x": 0.05
          },
          "xaxis": {
           "automargin": true,
           "gridcolor": "white",
           "linecolor": "white",
           "ticks": "",
           "title": {
            "standoff": 15
           },
           "zerolinecolor": "white",
           "zerolinewidth": 2
          },
          "yaxis": {
           "automargin": true,
           "gridcolor": "white",
           "linecolor": "white",
           "ticks": "",
           "title": {
            "standoff": 15
           },
           "zerolinecolor": "white",
           "zerolinewidth": 2
          }
         }
        },
        "title": {
         "text": "Boxplot of Age (Detecting Outliers)"
        },
        "xaxis": {
         "anchor": "y",
         "domain": [
          0,
          1
         ],
         "title": {
          "text": "Age"
         }
        },
        "yaxis": {
         "anchor": "x",
         "domain": [
          0,
          1
         ]
        }
       }
      }
     },
     "metadata": {},
     "output_type": "display_data"
    }
   ],
   "source": [
    "Q1 = data['Age'].quantile(0.25)  # 25th percentile\n",
    "Q3 = data['Age'].quantile(0.75)  # 75th percentile\n",
    "IQR = Q3 - Q1\n",
    "\n",
    "lower_fence = Q1 - 1.5 * IQR\n",
    "upper_fence = Q3 + 1.5 * IQR\n",
    "\n",
    "data = data[(data['Age'] >= lower_fence) & (data['Age'] <= upper_fence)]\n",
    "\n",
    "age_fig = px.box(data, x='Age', title=\"Boxplot of Age (Detecting Outliers)\")\n",
    "age_fig.show()"
   ]
  },
  {
   "cell_type": "code",
   "execution_count": 20,
   "id": "1a9941d833a946cc",
   "metadata": {
    "ExecuteTime": {
     "end_time": "2025-08-12T15:33:47.034827Z",
     "start_time": "2025-08-12T15:33:46.975814Z"
    }
   },
   "outputs": [
    {
     "data": {
      "application/vnd.plotly.v1+json": {
       "config": {
        "plotlyServerURL": "https://plot.ly"
       },
       "data": [
        {
         "alignmentgroup": "True",
         "hovertemplate": "Tumor_Size=%{x}<extra></extra>",
         "legendgroup": "",
         "marker": {
          "color": "#636efa"
         },
         "name": "",
         "notched": false,
         "offsetgroup": "",
         "orientation": "h",
         "showlegend": false,
         "type": "box",
         "x": {
          "bdata": "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",
          "dtype": "f8"
         },
         "x0": " ",
         "xaxis": "x",
         "y0": " ",
         "yaxis": "y"
        }
       ],
       "layout": {
        "boxmode": "group",
        "legend": {
         "tracegroupgap": 0
        },
        "template": {
         "data": {
          "bar": [
           {
            "error_x": {
             "color": "#2a3f5f"
            },
            "error_y": {
             "color": "#2a3f5f"
            },
            "marker": {
             "line": {
              "color": "#E5ECF6",
              "width": 0.5
             },
             "pattern": {
              "fillmode": "overlay",
              "size": 10,
              "solidity": 0.2
             }
            },
            "type": "bar"
           }
          ],
          "barpolar": [
           {
            "marker": {
             "line": {
              "color": "#E5ECF6",
              "width": 0.5
             },
             "pattern": {
              "fillmode": "overlay",
              "size": 10,
              "solidity": 0.2
             }
            },
            "type": "barpolar"
           }
          ],
          "carpet": [
           {
            "aaxis": {
             "endlinecolor": "#2a3f5f",
             "gridcolor": "white",
             "linecolor": "white",
             "minorgridcolor": "white",
             "startlinecolor": "#2a3f5f"
            },
            "baxis": {
             "endlinecolor": "#2a3f5f",
             "gridcolor": "white",
             "linecolor": "white",
             "minorgridcolor": "white",
             "startlinecolor": "#2a3f5f"
            },
            "type": "carpet"
           }
          ],
          "choropleth": [
           {
            "colorbar": {
             "outlinewidth": 0,
             "ticks": ""
            },
            "type": "choropleth"
           }
          ],
          "contour": [
           {
            "colorbar": {
             "outlinewidth": 0,
             "ticks": ""
            },
            "colorscale": [
             [
              0,
              "#0d0887"
             ],
             [
              0.1111111111111111,
              "#46039f"
             ],
             [
              0.2222222222222222,
              "#7201a8"
             ],
             [
              0.3333333333333333,
              "#9c179e"
             ],
             [
              0.4444444444444444,
              "#bd3786"
             ],
             [
              0.5555555555555556,
              "#d8576b"
             ],
             [
              0.6666666666666666,
              "#ed7953"
             ],
             [
              0.7777777777777778,
              "#fb9f3a"
             ],
             [
              0.8888888888888888,
              "#fdca26"
             ],
             [
              1,
              "#f0f921"
             ]
            ],
            "type": "contour"
           }
          ],
          "contourcarpet": [
           {
            "colorbar": {
             "outlinewidth": 0,
             "ticks": ""
            },
            "type": "contourcarpet"
           }
          ],
          "heatmap": [
           {
            "colorbar": {
             "outlinewidth": 0,
             "ticks": ""
            },
            "colorscale": [
             [
              0,
              "#0d0887"
             ],
             [
              0.1111111111111111,
              "#46039f"
             ],
             [
              0.2222222222222222,
              "#7201a8"
             ],
             [
              0.3333333333333333,
              "#9c179e"
             ],
             [
              0.4444444444444444,
              "#bd3786"
             ],
             [
              0.5555555555555556,
              "#d8576b"
             ],
             [
              0.6666666666666666,
              "#ed7953"
             ],
             [
              0.7777777777777778,
              "#fb9f3a"
             ],
             [
              0.8888888888888888,
              "#fdca26"
             ],
             [
              1,
              "#f0f921"
             ]
            ],
            "type": "heatmap"
           }
          ],
          "histogram": [
           {
            "marker": {
             "pattern": {
              "fillmode": "overlay",
              "size": 10,
              "solidity": 0.2
             }
            },
            "type": "histogram"
           }
          ],
          "histogram2d": [
           {
            "colorbar": {
             "outlinewidth": 0,
             "ticks": ""
            },
            "colorscale": [
             [
              0,
              "#0d0887"
             ],
             [
              0.1111111111111111,
              "#46039f"
             ],
             [
              0.2222222222222222,
              "#7201a8"
             ],
             [
              0.3333333333333333,
              "#9c179e"
             ],
             [
              0.4444444444444444,
              "#bd3786"
             ],
             [
              0.5555555555555556,
              "#d8576b"
             ],
             [
              0.6666666666666666,
              "#ed7953"
             ],
             [
              0.7777777777777778,
              "#fb9f3a"
             ],
             [
              0.8888888888888888,
              "#fdca26"
             ],
             [
              1,
              "#f0f921"
             ]
            ],
            "type": "histogram2d"
           }
          ],
          "histogram2dcontour": [
           {
            "colorbar": {
             "outlinewidth": 0,
             "ticks": ""
            },
            "colorscale": [
             [
              0,
              "#0d0887"
             ],
             [
              0.1111111111111111,
              "#46039f"
             ],
             [
              0.2222222222222222,
              "#7201a8"
             ],
             [
              0.3333333333333333,
              "#9c179e"
             ],
             [
              0.4444444444444444,
              "#bd3786"
             ],
             [
              0.5555555555555556,
              "#d8576b"
             ],
             [
              0.6666666666666666,
              "#ed7953"
             ],
             [
              0.7777777777777778,
              "#fb9f3a"
             ],
             [
              0.8888888888888888,
              "#fdca26"
             ],
             [
              1,
              "#f0f921"
             ]
            ],
            "type": "histogram2dcontour"
           }
          ],
          "mesh3d": [
           {
            "colorbar": {
             "outlinewidth": 0,
             "ticks": ""
            },
            "type": "mesh3d"
           }
          ],
          "parcoords": [
           {
            "line": {
             "colorbar": {
              "outlinewidth": 0,
              "ticks": ""
             }
            },
            "type": "parcoords"
           }
          ],
          "pie": [
           {
            "automargin": true,
            "type": "pie"
           }
          ],
          "scatter": [
           {
            "fillpattern": {
             "fillmode": "overlay",
             "size": 10,
             "solidity": 0.2
            },
            "type": "scatter"
           }
          ],
          "scatter3d": [
           {
            "line": {
             "colorbar": {
              "outlinewidth": 0,
              "ticks": ""
             }
            },
            "marker": {
             "colorbar": {
              "outlinewidth": 0,
              "ticks": ""
             }
            },
            "type": "scatter3d"
           }
          ],
          "scattercarpet": [
           {
            "marker": {
             "colorbar": {
              "outlinewidth": 0,
              "ticks": ""
             }
            },
            "type": "scattercarpet"
           }
          ],
          "scattergeo": [
           {
            "marker": {
             "colorbar": {
              "outlinewidth": 0,
              "ticks": ""
             }
            },
            "type": "scattergeo"
           }
          ],
          "scattergl": [
           {
            "marker": {
             "colorbar": {
              "outlinewidth": 0,
              "ticks": ""
             }
            },
            "type": "scattergl"
           }
          ],
          "scattermap": [
           {
            "marker": {
             "colorbar": {
              "outlinewidth": 0,
              "ticks": ""
             }
            },
            "type": "scattermap"
           }
          ],
          "scattermapbox": [
           {
            "marker": {
             "colorbar": {
              "outlinewidth": 0,
              "ticks": ""
             }
            },
            "type": "scattermapbox"
           }
          ],
          "scatterpolar": [
           {
            "marker": {
             "colorbar": {
              "outlinewidth": 0,
              "ticks": ""
             }
            },
            "type": "scatterpolar"
           }
          ],
          "scatterpolargl": [
           {
            "marker": {
             "colorbar": {
              "outlinewidth": 0,
              "ticks": ""
             }
            },
            "type": "scatterpolargl"
           }
          ],
          "scatterternary": [
           {
            "marker": {
             "colorbar": {
              "outlinewidth": 0,
              "ticks": ""
             }
            },
            "type": "scatterternary"
           }
          ],
          "surface": [
           {
            "colorbar": {
             "outlinewidth": 0,
             "ticks": ""
            },
            "colorscale": [
             [
              0,
              "#0d0887"
             ],
             [
              0.1111111111111111,
              "#46039f"
             ],
             [
              0.2222222222222222,
              "#7201a8"
             ],
             [
              0.3333333333333333,
              "#9c179e"
             ],
             [
              0.4444444444444444,
              "#bd3786"
             ],
             [
              0.5555555555555556,
              "#d8576b"
             ],
             [
              0.6666666666666666,
              "#ed7953"
             ],
             [
              0.7777777777777778,
              "#fb9f3a"
             ],
             [
              0.8888888888888888,
              "#fdca26"
             ],
             [
              1,
              "#f0f921"
             ]
            ],
            "type": "surface"
           }
          ],
          "table": [
           {
            "cells": {
             "fill": {
              "color": "#EBF0F8"
             },
             "line": {
              "color": "white"
             }
            },
            "header": {
             "fill": {
              "color": "#C8D4E3"
             },
             "line": {
              "color": "white"
             }
            },
            "type": "table"
           }
          ]
         },
         "layout": {
          "annotationdefaults": {
           "arrowcolor": "#2a3f5f",
           "arrowhead": 0,
           "arrowwidth": 1
          },
          "autotypenumbers": "strict",
          "coloraxis": {
           "colorbar": {
            "outlinewidth": 0,
            "ticks": ""
           }
          },
          "colorscale": {
           "diverging": [
            [
             0,
             "#8e0152"
            ],
            [
             0.1,
             "#c51b7d"
            ],
            [
             0.2,
             "#de77ae"
            ],
            [
             0.3,
             "#f1b6da"
            ],
            [
             0.4,
             "#fde0ef"
            ],
            [
             0.5,
             "#f7f7f7"
            ],
            [
             0.6,
             "#e6f5d0"
            ],
            [
             0.7,
             "#b8e186"
            ],
            [
             0.8,
             "#7fbc41"
            ],
            [
             0.9,
             "#4d9221"
            ],
            [
             1,
             "#276419"
            ]
           ],
           "sequential": [
            [
             0,
             "#0d0887"
            ],
            [
             0.1111111111111111,
             "#46039f"
            ],
            [
             0.2222222222222222,
             "#7201a8"
            ],
            [
             0.3333333333333333,
             "#9c179e"
            ],
            [
             0.4444444444444444,
             "#bd3786"
            ],
            [
             0.5555555555555556,
             "#d8576b"
            ],
            [
             0.6666666666666666,
             "#ed7953"
            ],
            [
             0.7777777777777778,
             "#fb9f3a"
            ],
            [
             0.8888888888888888,
             "#fdca26"
            ],
            [
             1,
             "#f0f921"
            ]
           ],
           "sequentialminus": [
            [
             0,
             "#0d0887"
            ],
            [
             0.1111111111111111,
             "#46039f"
            ],
            [
             0.2222222222222222,
             "#7201a8"
            ],
            [
             0.3333333333333333,
             "#9c179e"
            ],
            [
             0.4444444444444444,
             "#bd3786"
            ],
            [
             0.5555555555555556,
             "#d8576b"
            ],
            [
             0.6666666666666666,
             "#ed7953"
            ],
            [
             0.7777777777777778,
             "#fb9f3a"
            ],
            [
             0.8888888888888888,
             "#fdca26"
            ],
            [
             1,
             "#f0f921"
            ]
           ]
          },
          "colorway": [
           "#636efa",
           "#EF553B",
           "#00cc96",
           "#ab63fa",
           "#FFA15A",
           "#19d3f3",
           "#FF6692",
           "#B6E880",
           "#FF97FF",
           "#FECB52"
          ],
          "font": {
           "color": "#2a3f5f"
          },
          "geo": {
           "bgcolor": "white",
           "lakecolor": "white",
           "landcolor": "#E5ECF6",
           "showlakes": true,
           "showland": true,
           "subunitcolor": "white"
          },
          "hoverlabel": {
           "align": "left"
          },
          "hovermode": "closest",
          "mapbox": {
           "style": "light"
          },
          "paper_bgcolor": "white",
          "plot_bgcolor": "#E5ECF6",
          "polar": {
           "angularaxis": {
            "gridcolor": "white",
            "linecolor": "white",
            "ticks": ""
           },
           "bgcolor": "#E5ECF6",
           "radialaxis": {
            "gridcolor": "white",
            "linecolor": "white",
            "ticks": ""
           }
          },
          "scene": {
           "xaxis": {
            "backgroundcolor": "#E5ECF6",
            "gridcolor": "white",
            "gridwidth": 2,
            "linecolor": "white",
            "showbackground": true,
            "ticks": "",
            "zerolinecolor": "white"
           },
           "yaxis": {
            "backgroundcolor": "#E5ECF6",
            "gridcolor": "white",
            "gridwidth": 2,
            "linecolor": "white",
            "showbackground": true,
            "ticks": "",
            "zerolinecolor": "white"
           },
           "zaxis": {
            "backgroundcolor": "#E5ECF6",
            "gridcolor": "white",
            "gridwidth": 2,
            "linecolor": "white",
            "showbackground": true,
            "ticks": "",
            "zerolinecolor": "white"
           }
          },
          "shapedefaults": {
           "line": {
            "color": "#2a3f5f"
           }
          },
          "ternary": {
           "aaxis": {
            "gridcolor": "white",
            "linecolor": "white",
            "ticks": ""
           },
           "baxis": {
            "gridcolor": "white",
            "linecolor": "white",
            "ticks": ""
           },
           "bgcolor": "#E5ECF6",
           "caxis": {
            "gridcolor": "white",
            "linecolor": "white",
            "ticks": ""
           }
          },
          "title": {
           "x": 0.05
          },
          "xaxis": {
           "automargin": true,
           "gridcolor": "white",
           "linecolor": "white",
           "ticks": "",
           "title": {
            "standoff": 15
           },
           "zerolinecolor": "white",
           "zerolinewidth": 2
          },
          "yaxis": {
           "automargin": true,
           "gridcolor": "white",
           "linecolor": "white",
           "ticks": "",
           "title": {
            "standoff": 15
           },
           "zerolinecolor": "white",
           "zerolinewidth": 2
          }
         }
        },
        "title": {
         "text": "Boxplot of Tumor_Size (Detecting Outliers)"
        },
        "xaxis": {
         "anchor": "y",
         "domain": [
          0,
          1
         ],
         "title": {
          "text": "Tumor_Size"
         }
        },
        "yaxis": {
         "anchor": "x",
         "domain": [
          0,
          1
         ]
        }
       }
      }
     },
     "metadata": {},
     "output_type": "display_data"
    }
   ],
   "source": [
    "Q1 = data['Tumor_Size'].quantile(0.25)  # 25th percentile\n",
    "Q3 = data['Tumor_Size'].quantile(0.75)  # 75th percentile\n",
    "IQR = Q3 - Q1\n",
    "\n",
    "lower_fence = Q1 - 1.5 * IQR\n",
    "upper_fence = Q3 + 1.5 * IQR\n",
    "\n",
    "data = data[(data['Tumor_Size'] >= lower_fence) & (data['Tumor_Size'] <= upper_fence)]\n",
    "\n",
    "age_fig = px.box(data, x='Tumor_Size', title=\"Boxplot of Tumor_Size (Detecting Outliers)\")\n",
    "age_fig.show()"
   ]
  },
  {
   "cell_type": "code",
   "execution_count": 21,
   "id": "7b49274b1bfde5cf",
   "metadata": {
    "ExecuteTime": {
     "end_time": "2025-08-12T15:33:47.068495Z",
     "start_time": "2025-08-12T15:33:47.055962Z"
    }
   },
   "outputs": [
    {
     "data": {
      "text/plain": [
       "(3799, 14)"
      ]
     },
     "execution_count": 21,
     "metadata": {},
     "output_type": "execute_result"
    }
   ],
   "source": [
    "data.shape"
   ]
  },
  {
   "cell_type": "code",
   "execution_count": 22,
   "id": "d91fdc8f821dbb39",
   "metadata": {
    "ExecuteTime": {
     "end_time": "2025-08-12T15:33:47.115356Z",
     "start_time": "2025-08-12T15:33:47.094420Z"
    }
   },
   "outputs": [],
   "source": [
    "data.to_csv('Mortality_Status_data.csv', index=False)"
   ]
  },
  {
   "cell_type": "markdown",
   "id": "9c154d3785bfa9a4",
   "metadata": {},
   "source": [
    "I want to check that patients survival  months also. so for that i don't need already dead patient. then i'll remove those dead patients and save another dataset for check survival months"
   ]
  },
  {
   "cell_type": "code",
   "execution_count": 23,
   "id": "1bda3e8856b7fa1c",
   "metadata": {
    "ExecuteTime": {
     "end_time": "2025-08-12T15:33:47.160917Z",
     "start_time": "2025-08-12T15:33:47.131714Z"
    }
   },
   "outputs": [],
   "source": [
    "data = data[data.Mortality_Status == 1]\n",
    "data.to_csv('Survival_Months.csv', index=False)"
   ]
  },
  {
   "cell_type": "code",
   "execution_count": 24,
   "id": "8e6c69891d35a085",
   "metadata": {
    "ExecuteTime": {
     "end_time": "2025-08-12T15:33:47.207915Z",
     "start_time": "2025-08-12T15:33:47.194576Z"
    }
   },
   "outputs": [
    {
     "name": "stdout",
     "output_type": "stream",
     "text": [
      "[1]\n"
     ]
    }
   ],
   "source": [
    "print(data['Mortality_Status'].unique())"
   ]
  },
  {
   "cell_type": "markdown",
   "id": "9cf12668a0621110",
   "metadata": {},
   "source": [
    "Now start to choose a model, what is the most suitable for get the mortality status. If some model can give + 90% accuracy we can choose it. if its not we need to hypertune the model. So in this case i hope to get 3 models call Logistic regression, KNN and Naive Bayes."
   ]
  },
  {
   "cell_type": "code",
   "execution_count": 25,
   "id": "c8f6a13b62f77378",
   "metadata": {
    "ExecuteTime": {
     "end_time": "2025-08-12T15:33:47.253942Z",
     "start_time": "2025-08-12T15:33:47.227982Z"
    }
   },
   "outputs": [],
   "source": [
    "data = pd.read_csv('Mortality_Status_data.csv')"
   ]
  },
  {
   "cell_type": "code",
   "execution_count": 26,
   "id": "bf0d78e25d3c4349",
   "metadata": {
    "ExecuteTime": {
     "end_time": "2025-08-12T15:33:47.292957Z",
     "start_time": "2025-08-12T15:33:47.270581Z"
    }
   },
   "outputs": [
    {
     "data": {
      "text/html": [
       "<div>\n",
       "<style scoped>\n",
       "    .dataframe tbody tr th:only-of-type {\n",
       "        vertical-align: middle;\n",
       "    }\n",
       "\n",
       "    .dataframe tbody tr th {\n",
       "        vertical-align: top;\n",
       "    }\n",
       "\n",
       "    .dataframe thead th {\n",
       "        text-align: right;\n",
       "    }\n",
       "</style>\n",
       "<table border=\"1\" class=\"dataframe\">\n",
       "  <thead>\n",
       "    <tr style=\"text-align: right;\">\n",
       "      <th></th>\n",
       "      <th>Age</th>\n",
       "      <th>T_Stage</th>\n",
       "      <th>N_Stage</th>\n",
       "      <th>6th_Stage</th>\n",
       "      <th>Differentiated</th>\n",
       "      <th>Grade</th>\n",
       "      <th>A_Stage</th>\n",
       "      <th>Tumor_Size</th>\n",
       "      <th>Estrogen_Status</th>\n",
       "      <th>Progesterone_Status</th>\n",
       "      <th>Regional_Node_Examined</th>\n",
       "      <th>Reginol_Node_Positive</th>\n",
       "      <th>Survival_Months</th>\n",
       "      <th>Mortality_Status</th>\n",
       "    </tr>\n",
       "  </thead>\n",
       "  <tbody>\n",
       "    <tr>\n",
       "      <th>0</th>\n",
       "      <td>68.0</td>\n",
       "      <td>0</td>\n",
       "      <td>0</td>\n",
       "      <td>0</td>\n",
       "      <td>0</td>\n",
       "      <td>3</td>\n",
       "      <td>0</td>\n",
       "      <td>4.0</td>\n",
       "      <td>1</td>\n",
       "      <td>1</td>\n",
       "      <td>24.0</td>\n",
       "      <td>1</td>\n",
       "      <td>60</td>\n",
       "      <td>1</td>\n",
       "    </tr>\n",
       "    <tr>\n",
       "      <th>1</th>\n",
       "      <td>50.0</td>\n",
       "      <td>1</td>\n",
       "      <td>1</td>\n",
       "      <td>1</td>\n",
       "      <td>1</td>\n",
       "      <td>2</td>\n",
       "      <td>0</td>\n",
       "      <td>35.0</td>\n",
       "      <td>1</td>\n",
       "      <td>1</td>\n",
       "      <td>14.0</td>\n",
       "      <td>5</td>\n",
       "      <td>62</td>\n",
       "      <td>1</td>\n",
       "    </tr>\n",
       "    <tr>\n",
       "      <th>2</th>\n",
       "      <td>58.0</td>\n",
       "      <td>2</td>\n",
       "      <td>2</td>\n",
       "      <td>2</td>\n",
       "      <td>1</td>\n",
       "      <td>2</td>\n",
       "      <td>0</td>\n",
       "      <td>63.0</td>\n",
       "      <td>1</td>\n",
       "      <td>1</td>\n",
       "      <td>14.0</td>\n",
       "      <td>7</td>\n",
       "      <td>75</td>\n",
       "      <td>1</td>\n",
       "    </tr>\n",
       "    <tr>\n",
       "      <th>3</th>\n",
       "      <td>58.0</td>\n",
       "      <td>0</td>\n",
       "      <td>0</td>\n",
       "      <td>0</td>\n",
       "      <td>0</td>\n",
       "      <td>3</td>\n",
       "      <td>0</td>\n",
       "      <td>18.0</td>\n",
       "      <td>1</td>\n",
       "      <td>1</td>\n",
       "      <td>2.0</td>\n",
       "      <td>1</td>\n",
       "      <td>84</td>\n",
       "      <td>1</td>\n",
       "    </tr>\n",
       "    <tr>\n",
       "      <th>4</th>\n",
       "      <td>47.0</td>\n",
       "      <td>1</td>\n",
       "      <td>0</td>\n",
       "      <td>3</td>\n",
       "      <td>0</td>\n",
       "      <td>3</td>\n",
       "      <td>0</td>\n",
       "      <td>41.0</td>\n",
       "      <td>1</td>\n",
       "      <td>1</td>\n",
       "      <td>3.0</td>\n",
       "      <td>1</td>\n",
       "      <td>50</td>\n",
       "      <td>1</td>\n",
       "    </tr>\n",
       "    <tr>\n",
       "      <th>5</th>\n",
       "      <td>51.0</td>\n",
       "      <td>0</td>\n",
       "      <td>0</td>\n",
       "      <td>0</td>\n",
       "      <td>1</td>\n",
       "      <td>2</td>\n",
       "      <td>0</td>\n",
       "      <td>20.0</td>\n",
       "      <td>1</td>\n",
       "      <td>1</td>\n",
       "      <td>18.0</td>\n",
       "      <td>2</td>\n",
       "      <td>89</td>\n",
       "      <td>1</td>\n",
       "    </tr>\n",
       "    <tr>\n",
       "      <th>6</th>\n",
       "      <td>51.0</td>\n",
       "      <td>0</td>\n",
       "      <td>0</td>\n",
       "      <td>0</td>\n",
       "      <td>2</td>\n",
       "      <td>1</td>\n",
       "      <td>0</td>\n",
       "      <td>8.0</td>\n",
       "      <td>1</td>\n",
       "      <td>1</td>\n",
       "      <td>11.0</td>\n",
       "      <td>1</td>\n",
       "      <td>54</td>\n",
       "      <td>1</td>\n",
       "    </tr>\n",
       "    <tr>\n",
       "      <th>7</th>\n",
       "      <td>40.0</td>\n",
       "      <td>1</td>\n",
       "      <td>0</td>\n",
       "      <td>3</td>\n",
       "      <td>1</td>\n",
       "      <td>2</td>\n",
       "      <td>0</td>\n",
       "      <td>30.0</td>\n",
       "      <td>1</td>\n",
       "      <td>1</td>\n",
       "      <td>9.0</td>\n",
       "      <td>1</td>\n",
       "      <td>14</td>\n",
       "      <td>0</td>\n",
       "    </tr>\n",
       "    <tr>\n",
       "      <th>8</th>\n",
       "      <td>69.0</td>\n",
       "      <td>3</td>\n",
       "      <td>2</td>\n",
       "      <td>2</td>\n",
       "      <td>2</td>\n",
       "      <td>1</td>\n",
       "      <td>1</td>\n",
       "      <td>32.0</td>\n",
       "      <td>1</td>\n",
       "      <td>1</td>\n",
       "      <td>21.0</td>\n",
       "      <td>12</td>\n",
       "      <td>92</td>\n",
       "      <td>1</td>\n",
       "    </tr>\n",
       "    <tr>\n",
       "      <th>9</th>\n",
       "      <td>68.0</td>\n",
       "      <td>0</td>\n",
       "      <td>0</td>\n",
       "      <td>0</td>\n",
       "      <td>1</td>\n",
       "      <td>2</td>\n",
       "      <td>0</td>\n",
       "      <td>13.0</td>\n",
       "      <td>1</td>\n",
       "      <td>1</td>\n",
       "      <td>9.0</td>\n",
       "      <td>1</td>\n",
       "      <td>64</td>\n",
       "      <td>0</td>\n",
       "    </tr>\n",
       "  </tbody>\n",
       "</table>\n",
       "</div>"
      ],
      "text/plain": [
       "    Age  T_Stage  N_Stage  6th_Stage  Differentiated  Grade  A_Stage  \\\n",
       "0  68.0        0        0          0               0      3        0   \n",
       "1  50.0        1        1          1               1      2        0   \n",
       "2  58.0        2        2          2               1      2        0   \n",
       "3  58.0        0        0          0               0      3        0   \n",
       "4  47.0        1        0          3               0      3        0   \n",
       "5  51.0        0        0          0               1      2        0   \n",
       "6  51.0        0        0          0               2      1        0   \n",
       "7  40.0        1        0          3               1      2        0   \n",
       "8  69.0        3        2          2               2      1        1   \n",
       "9  68.0        0        0          0               1      2        0   \n",
       "\n",
       "   Tumor_Size  Estrogen_Status  Progesterone_Status  Regional_Node_Examined  \\\n",
       "0         4.0                1                    1                    24.0   \n",
       "1        35.0                1                    1                    14.0   \n",
       "2        63.0                1                    1                    14.0   \n",
       "3        18.0                1                    1                     2.0   \n",
       "4        41.0                1                    1                     3.0   \n",
       "5        20.0                1                    1                    18.0   \n",
       "6         8.0                1                    1                    11.0   \n",
       "7        30.0                1                    1                     9.0   \n",
       "8        32.0                1                    1                    21.0   \n",
       "9        13.0                1                    1                     9.0   \n",
       "\n",
       "   Reginol_Node_Positive  Survival_Months  Mortality_Status  \n",
       "0                      1               60                 1  \n",
       "1                      5               62                 1  \n",
       "2                      7               75                 1  \n",
       "3                      1               84                 1  \n",
       "4                      1               50                 1  \n",
       "5                      2               89                 1  \n",
       "6                      1               54                 1  \n",
       "7                      1               14                 0  \n",
       "8                     12               92                 1  \n",
       "9                      1               64                 0  "
      ]
     },
     "execution_count": 26,
     "metadata": {},
     "output_type": "execute_result"
    }
   ],
   "source": [
    "data.head(10)"
   ]
  },
  {
   "cell_type": "code",
   "execution_count": 27,
   "id": "3c2eb6aa5a5a6ff4",
   "metadata": {
    "ExecuteTime": {
     "end_time": "2025-08-12T15:33:47.376879Z",
     "start_time": "2025-08-12T15:33:47.363381Z"
    }
   },
   "outputs": [
    {
     "data": {
      "text/plain": [
       "(3799, 14)"
      ]
     },
     "execution_count": 27,
     "metadata": {},
     "output_type": "execute_result"
    }
   ],
   "source": [
    "data.shape"
   ]
  },
  {
   "cell_type": "code",
   "execution_count": 28,
   "id": "36c0986e65f085db",
   "metadata": {
    "ExecuteTime": {
     "end_time": "2025-08-12T15:33:47.483725Z",
     "start_time": "2025-08-12T15:33:47.464846Z"
    }
   },
   "outputs": [
    {
     "name": "stdout",
     "output_type": "stream",
     "text": [
      "<class 'pandas.core.frame.DataFrame'>\n",
      "RangeIndex: 3799 entries, 0 to 3798\n",
      "Data columns (total 14 columns):\n",
      " #   Column                  Non-Null Count  Dtype  \n",
      "---  ------                  --------------  -----  \n",
      " 0   Age                     3799 non-null   float64\n",
      " 1   T_Stage                 3799 non-null   int64  \n",
      " 2   N_Stage                 3799 non-null   int64  \n",
      " 3   6th_Stage               3799 non-null   int64  \n",
      " 4   Differentiated          3799 non-null   int64  \n",
      " 5   Grade                   3799 non-null   int64  \n",
      " 6   A_Stage                 3799 non-null   int64  \n",
      " 7   Tumor_Size              3799 non-null   float64\n",
      " 8   Estrogen_Status         3799 non-null   int64  \n",
      " 9   Progesterone_Status     3799 non-null   int64  \n",
      " 10  Regional_Node_Examined  3799 non-null   float64\n",
      " 11  Reginol_Node_Positive   3799 non-null   int64  \n",
      " 12  Survival_Months         3799 non-null   int64  \n",
      " 13  Mortality_Status        3799 non-null   int64  \n",
      "dtypes: float64(3), int64(11)\n",
      "memory usage: 415.6 KB\n"
     ]
    }
   ],
   "source": [
    "data.info()"
   ]
  },
  {
   "cell_type": "code",
   "execution_count": 29,
   "id": "38f975cd4c016fa2",
   "metadata": {
    "ExecuteTime": {
     "end_time": "2025-08-12T15:33:47.618440Z",
     "start_time": "2025-08-12T15:33:47.606464Z"
    }
   },
   "outputs": [],
   "source": [
    "features = ['Tumor_Size', 'N_Stage', '6th_Stage', 'Differentiated', 'Grade', 'A_Stage', 'Tumor_Size', 'Progesterone_Status', 'Estrogen_Status', 'Regional_Node_Examined', 'Reginol_Node_Positive']\n",
    "\n",
    "x = data[features]\n",
    "y = data['Mortality_Status']"
   ]
  },
  {
   "cell_type": "code",
   "execution_count": 30,
   "id": "11149050e184615f",
   "metadata": {
    "ExecuteTime": {
     "end_time": "2025-08-12T15:33:48.201268Z",
     "start_time": "2025-08-12T15:33:47.648228Z"
    }
   },
   "outputs": [],
   "source": [
    "from sklearn.model_selection import train_test_split"
   ]
  },
  {
   "cell_type": "code",
   "execution_count": 31,
   "id": "daae020eb56c24d9",
   "metadata": {
    "ExecuteTime": {
     "end_time": "2025-08-12T15:33:48.248302Z",
     "start_time": "2025-08-12T15:33:48.232552Z"
    }
   },
   "outputs": [],
   "source": [
    "x_train, x_test, y_train, y_test = train_test_split(x, y, test_size=0.2, random_state=42, stratify=y)"
   ]
  },
  {
   "cell_type": "code",
   "execution_count": 32,
   "id": "27119c9fbe7255a1",
   "metadata": {
    "ExecuteTime": {
     "end_time": "2025-08-12T15:33:48.298858Z",
     "start_time": "2025-08-12T15:33:48.282999Z"
    }
   },
   "outputs": [
    {
     "name": "stdout",
     "output_type": "stream",
     "text": [
      "Whole data shape (3799, 14)\n",
      "Training data shape (3039, 11)\n",
      "Test data shape (760, 11)\n"
     ]
    }
   ],
   "source": [
    "print('Whole data shape', data.shape)\n",
    "print('Training data shape', x_train.shape)\n",
    "print('Test data shape', x_test.shape)"
   ]
  },
  {
   "cell_type": "markdown",
   "id": "b2ad5a016359e6a",
   "metadata": {},
   "source": [
    "* Logistic Regression"
   ]
  },
  {
   "cell_type": "code",
   "execution_count": 33,
   "id": "33193cf40d5ee7dc",
   "metadata": {
    "ExecuteTime": {
     "end_time": "2025-08-12T15:33:48.459425Z",
     "start_time": "2025-08-12T15:33:48.387446Z"
    }
   },
   "outputs": [],
   "source": [
    "from sklearn.linear_model import LogisticRegression"
   ]
  },
  {
   "cell_type": "code",
   "execution_count": 34,
   "id": "cd465c7817e5fb24",
   "metadata": {
    "ExecuteTime": {
     "end_time": "2025-08-12T15:33:48.475353Z",
     "start_time": "2025-08-12T15:33:48.459425Z"
    }
   },
   "outputs": [],
   "source": [
    "logreg = LogisticRegression()"
   ]
  },
  {
   "cell_type": "code",
   "execution_count": 35,
   "id": "6f8893e0ca26324b",
   "metadata": {
    "ExecuteTime": {
     "end_time": "2025-08-12T15:33:48.585803Z",
     "start_time": "2025-08-12T15:33:48.509200Z"
    }
   },
   "outputs": [
    {
     "name": "stderr",
     "output_type": "stream",
     "text": [
      "c:\\Users\\Anjula\\AppData\\Local\\Programs\\Python\\Python311\\Lib\\site-packages\\sklearn\\linear_model\\_logistic.py:465: ConvergenceWarning:\n",
      "\n",
      "lbfgs failed to converge (status=1):\n",
      "STOP: TOTAL NO. OF ITERATIONS REACHED LIMIT.\n",
      "\n",
      "Increase the number of iterations (max_iter) or scale the data as shown in:\n",
      "    https://scikit-learn.org/stable/modules/preprocessing.html\n",
      "Please also refer to the documentation for alternative solver options:\n",
      "    https://scikit-learn.org/stable/modules/linear_model.html#logistic-regression\n",
      "\n"
     ]
    },
    {
     "data": {
      "text/html": [
       "<style>#sk-container-id-1 {\n",
       "  /* Definition of color scheme common for light and dark mode */\n",
       "  --sklearn-color-text: #000;\n",
       "  --sklearn-color-text-muted: #666;\n",
       "  --sklearn-color-line: gray;\n",
       "  /* Definition of color scheme for unfitted estimators */\n",
       "  --sklearn-color-unfitted-level-0: #fff5e6;\n",
       "  --sklearn-color-unfitted-level-1: #f6e4d2;\n",
       "  --sklearn-color-unfitted-level-2: #ffe0b3;\n",
       "  --sklearn-color-unfitted-level-3: chocolate;\n",
       "  /* Definition of color scheme for fitted estimators */\n",
       "  --sklearn-color-fitted-level-0: #f0f8ff;\n",
       "  --sklearn-color-fitted-level-1: #d4ebff;\n",
       "  --sklearn-color-fitted-level-2: #b3dbfd;\n",
       "  --sklearn-color-fitted-level-3: cornflowerblue;\n",
       "\n",
       "  /* Specific color for light theme */\n",
       "  --sklearn-color-text-on-default-background: var(--sg-text-color, var(--theme-code-foreground, var(--jp-content-font-color1, black)));\n",
       "  --sklearn-color-background: var(--sg-background-color, var(--theme-background, var(--jp-layout-color0, white)));\n",
       "  --sklearn-color-border-box: var(--sg-text-color, var(--theme-code-foreground, var(--jp-content-font-color1, black)));\n",
       "  --sklearn-color-icon: #696969;\n",
       "\n",
       "  @media (prefers-color-scheme: dark) {\n",
       "    /* Redefinition of color scheme for dark theme */\n",
       "    --sklearn-color-text-on-default-background: var(--sg-text-color, var(--theme-code-foreground, var(--jp-content-font-color1, white)));\n",
       "    --sklearn-color-background: var(--sg-background-color, var(--theme-background, var(--jp-layout-color0, #111)));\n",
       "    --sklearn-color-border-box: var(--sg-text-color, var(--theme-code-foreground, var(--jp-content-font-color1, white)));\n",
       "    --sklearn-color-icon: #878787;\n",
       "  }\n",
       "}\n",
       "\n",
       "#sk-container-id-1 {\n",
       "  color: var(--sklearn-color-text);\n",
       "}\n",
       "\n",
       "#sk-container-id-1 pre {\n",
       "  padding: 0;\n",
       "}\n",
       "\n",
       "#sk-container-id-1 input.sk-hidden--visually {\n",
       "  border: 0;\n",
       "  clip: rect(1px 1px 1px 1px);\n",
       "  clip: rect(1px, 1px, 1px, 1px);\n",
       "  height: 1px;\n",
       "  margin: -1px;\n",
       "  overflow: hidden;\n",
       "  padding: 0;\n",
       "  position: absolute;\n",
       "  width: 1px;\n",
       "}\n",
       "\n",
       "#sk-container-id-1 div.sk-dashed-wrapped {\n",
       "  border: 1px dashed var(--sklearn-color-line);\n",
       "  margin: 0 0.4em 0.5em 0.4em;\n",
       "  box-sizing: border-box;\n",
       "  padding-bottom: 0.4em;\n",
       "  background-color: var(--sklearn-color-background);\n",
       "}\n",
       "\n",
       "#sk-container-id-1 div.sk-container {\n",
       "  /* jupyter's `normalize.less` sets `[hidden] { display: none; }`\n",
       "     but bootstrap.min.css set `[hidden] { display: none !important; }`\n",
       "     so we also need the `!important` here to be able to override the\n",
       "     default hidden behavior on the sphinx rendered scikit-learn.org.\n",
       "     See: https://github.com/scikit-learn/scikit-learn/issues/21755 */\n",
       "  display: inline-block !important;\n",
       "  position: relative;\n",
       "}\n",
       "\n",
       "#sk-container-id-1 div.sk-text-repr-fallback {\n",
       "  display: none;\n",
       "}\n",
       "\n",
       "div.sk-parallel-item,\n",
       "div.sk-serial,\n",
       "div.sk-item {\n",
       "  /* draw centered vertical line to link estimators */\n",
       "  background-image: linear-gradient(var(--sklearn-color-text-on-default-background), var(--sklearn-color-text-on-default-background));\n",
       "  background-size: 2px 100%;\n",
       "  background-repeat: no-repeat;\n",
       "  background-position: center center;\n",
       "}\n",
       "\n",
       "/* Parallel-specific style estimator block */\n",
       "\n",
       "#sk-container-id-1 div.sk-parallel-item::after {\n",
       "  content: \"\";\n",
       "  width: 100%;\n",
       "  border-bottom: 2px solid var(--sklearn-color-text-on-default-background);\n",
       "  flex-grow: 1;\n",
       "}\n",
       "\n",
       "#sk-container-id-1 div.sk-parallel {\n",
       "  display: flex;\n",
       "  align-items: stretch;\n",
       "  justify-content: center;\n",
       "  background-color: var(--sklearn-color-background);\n",
       "  position: relative;\n",
       "}\n",
       "\n",
       "#sk-container-id-1 div.sk-parallel-item {\n",
       "  display: flex;\n",
       "  flex-direction: column;\n",
       "}\n",
       "\n",
       "#sk-container-id-1 div.sk-parallel-item:first-child::after {\n",
       "  align-self: flex-end;\n",
       "  width: 50%;\n",
       "}\n",
       "\n",
       "#sk-container-id-1 div.sk-parallel-item:last-child::after {\n",
       "  align-self: flex-start;\n",
       "  width: 50%;\n",
       "}\n",
       "\n",
       "#sk-container-id-1 div.sk-parallel-item:only-child::after {\n",
       "  width: 0;\n",
       "}\n",
       "\n",
       "/* Serial-specific style estimator block */\n",
       "\n",
       "#sk-container-id-1 div.sk-serial {\n",
       "  display: flex;\n",
       "  flex-direction: column;\n",
       "  align-items: center;\n",
       "  background-color: var(--sklearn-color-background);\n",
       "  padding-right: 1em;\n",
       "  padding-left: 1em;\n",
       "}\n",
       "\n",
       "\n",
       "/* Toggleable style: style used for estimator/Pipeline/ColumnTransformer box that is\n",
       "clickable and can be expanded/collapsed.\n",
       "- Pipeline and ColumnTransformer use this feature and define the default style\n",
       "- Estimators will overwrite some part of the style using the `sk-estimator` class\n",
       "*/\n",
       "\n",
       "/* Pipeline and ColumnTransformer style (default) */\n",
       "\n",
       "#sk-container-id-1 div.sk-toggleable {\n",
       "  /* Default theme specific background. It is overwritten whether we have a\n",
       "  specific estimator or a Pipeline/ColumnTransformer */\n",
       "  background-color: var(--sklearn-color-background);\n",
       "}\n",
       "\n",
       "/* Toggleable label */\n",
       "#sk-container-id-1 label.sk-toggleable__label {\n",
       "  cursor: pointer;\n",
       "  display: flex;\n",
       "  width: 100%;\n",
       "  margin-bottom: 0;\n",
       "  padding: 0.5em;\n",
       "  box-sizing: border-box;\n",
       "  text-align: center;\n",
       "  align-items: start;\n",
       "  justify-content: space-between;\n",
       "  gap: 0.5em;\n",
       "}\n",
       "\n",
       "#sk-container-id-1 label.sk-toggleable__label .caption {\n",
       "  font-size: 0.6rem;\n",
       "  font-weight: lighter;\n",
       "  color: var(--sklearn-color-text-muted);\n",
       "}\n",
       "\n",
       "#sk-container-id-1 label.sk-toggleable__label-arrow:before {\n",
       "  /* Arrow on the left of the label */\n",
       "  content: \"▸\";\n",
       "  float: left;\n",
       "  margin-right: 0.25em;\n",
       "  color: var(--sklearn-color-icon);\n",
       "}\n",
       "\n",
       "#sk-container-id-1 label.sk-toggleable__label-arrow:hover:before {\n",
       "  color: var(--sklearn-color-text);\n",
       "}\n",
       "\n",
       "/* Toggleable content - dropdown */\n",
       "\n",
       "#sk-container-id-1 div.sk-toggleable__content {\n",
       "  max-height: 0;\n",
       "  max-width: 0;\n",
       "  overflow: hidden;\n",
       "  text-align: left;\n",
       "  /* unfitted */\n",
       "  background-color: var(--sklearn-color-unfitted-level-0);\n",
       "}\n",
       "\n",
       "#sk-container-id-1 div.sk-toggleable__content.fitted {\n",
       "  /* fitted */\n",
       "  background-color: var(--sklearn-color-fitted-level-0);\n",
       "}\n",
       "\n",
       "#sk-container-id-1 div.sk-toggleable__content pre {\n",
       "  margin: 0.2em;\n",
       "  border-radius: 0.25em;\n",
       "  color: var(--sklearn-color-text);\n",
       "  /* unfitted */\n",
       "  background-color: var(--sklearn-color-unfitted-level-0);\n",
       "}\n",
       "\n",
       "#sk-container-id-1 div.sk-toggleable__content.fitted pre {\n",
       "  /* unfitted */\n",
       "  background-color: var(--sklearn-color-fitted-level-0);\n",
       "}\n",
       "\n",
       "#sk-container-id-1 input.sk-toggleable__control:checked~div.sk-toggleable__content {\n",
       "  /* Expand drop-down */\n",
       "  max-height: 200px;\n",
       "  max-width: 100%;\n",
       "  overflow: auto;\n",
       "}\n",
       "\n",
       "#sk-container-id-1 input.sk-toggleable__control:checked~label.sk-toggleable__label-arrow:before {\n",
       "  content: \"▾\";\n",
       "}\n",
       "\n",
       "/* Pipeline/ColumnTransformer-specific style */\n",
       "\n",
       "#sk-container-id-1 div.sk-label input.sk-toggleable__control:checked~label.sk-toggleable__label {\n",
       "  color: var(--sklearn-color-text);\n",
       "  background-color: var(--sklearn-color-unfitted-level-2);\n",
       "}\n",
       "\n",
       "#sk-container-id-1 div.sk-label.fitted input.sk-toggleable__control:checked~label.sk-toggleable__label {\n",
       "  background-color: var(--sklearn-color-fitted-level-2);\n",
       "}\n",
       "\n",
       "/* Estimator-specific style */\n",
       "\n",
       "/* Colorize estimator box */\n",
       "#sk-container-id-1 div.sk-estimator input.sk-toggleable__control:checked~label.sk-toggleable__label {\n",
       "  /* unfitted */\n",
       "  background-color: var(--sklearn-color-unfitted-level-2);\n",
       "}\n",
       "\n",
       "#sk-container-id-1 div.sk-estimator.fitted input.sk-toggleable__control:checked~label.sk-toggleable__label {\n",
       "  /* fitted */\n",
       "  background-color: var(--sklearn-color-fitted-level-2);\n",
       "}\n",
       "\n",
       "#sk-container-id-1 div.sk-label label.sk-toggleable__label,\n",
       "#sk-container-id-1 div.sk-label label {\n",
       "  /* The background is the default theme color */\n",
       "  color: var(--sklearn-color-text-on-default-background);\n",
       "}\n",
       "\n",
       "/* On hover, darken the color of the background */\n",
       "#sk-container-id-1 div.sk-label:hover label.sk-toggleable__label {\n",
       "  color: var(--sklearn-color-text);\n",
       "  background-color: var(--sklearn-color-unfitted-level-2);\n",
       "}\n",
       "\n",
       "/* Label box, darken color on hover, fitted */\n",
       "#sk-container-id-1 div.sk-label.fitted:hover label.sk-toggleable__label.fitted {\n",
       "  color: var(--sklearn-color-text);\n",
       "  background-color: var(--sklearn-color-fitted-level-2);\n",
       "}\n",
       "\n",
       "/* Estimator label */\n",
       "\n",
       "#sk-container-id-1 div.sk-label label {\n",
       "  font-family: monospace;\n",
       "  font-weight: bold;\n",
       "  display: inline-block;\n",
       "  line-height: 1.2em;\n",
       "}\n",
       "\n",
       "#sk-container-id-1 div.sk-label-container {\n",
       "  text-align: center;\n",
       "}\n",
       "\n",
       "/* Estimator-specific */\n",
       "#sk-container-id-1 div.sk-estimator {\n",
       "  font-family: monospace;\n",
       "  border: 1px dotted var(--sklearn-color-border-box);\n",
       "  border-radius: 0.25em;\n",
       "  box-sizing: border-box;\n",
       "  margin-bottom: 0.5em;\n",
       "  /* unfitted */\n",
       "  background-color: var(--sklearn-color-unfitted-level-0);\n",
       "}\n",
       "\n",
       "#sk-container-id-1 div.sk-estimator.fitted {\n",
       "  /* fitted */\n",
       "  background-color: var(--sklearn-color-fitted-level-0);\n",
       "}\n",
       "\n",
       "/* on hover */\n",
       "#sk-container-id-1 div.sk-estimator:hover {\n",
       "  /* unfitted */\n",
       "  background-color: var(--sklearn-color-unfitted-level-2);\n",
       "}\n",
       "\n",
       "#sk-container-id-1 div.sk-estimator.fitted:hover {\n",
       "  /* fitted */\n",
       "  background-color: var(--sklearn-color-fitted-level-2);\n",
       "}\n",
       "\n",
       "/* Specification for estimator info (e.g. \"i\" and \"?\") */\n",
       "\n",
       "/* Common style for \"i\" and \"?\" */\n",
       "\n",
       ".sk-estimator-doc-link,\n",
       "a:link.sk-estimator-doc-link,\n",
       "a:visited.sk-estimator-doc-link {\n",
       "  float: right;\n",
       "  font-size: smaller;\n",
       "  line-height: 1em;\n",
       "  font-family: monospace;\n",
       "  background-color: var(--sklearn-color-background);\n",
       "  border-radius: 1em;\n",
       "  height: 1em;\n",
       "  width: 1em;\n",
       "  text-decoration: none !important;\n",
       "  margin-left: 0.5em;\n",
       "  text-align: center;\n",
       "  /* unfitted */\n",
       "  border: var(--sklearn-color-unfitted-level-1) 1pt solid;\n",
       "  color: var(--sklearn-color-unfitted-level-1);\n",
       "}\n",
       "\n",
       ".sk-estimator-doc-link.fitted,\n",
       "a:link.sk-estimator-doc-link.fitted,\n",
       "a:visited.sk-estimator-doc-link.fitted {\n",
       "  /* fitted */\n",
       "  border: var(--sklearn-color-fitted-level-1) 1pt solid;\n",
       "  color: var(--sklearn-color-fitted-level-1);\n",
       "}\n",
       "\n",
       "/* On hover */\n",
       "div.sk-estimator:hover .sk-estimator-doc-link:hover,\n",
       ".sk-estimator-doc-link:hover,\n",
       "div.sk-label-container:hover .sk-estimator-doc-link:hover,\n",
       ".sk-estimator-doc-link:hover {\n",
       "  /* unfitted */\n",
       "  background-color: var(--sklearn-color-unfitted-level-3);\n",
       "  color: var(--sklearn-color-background);\n",
       "  text-decoration: none;\n",
       "}\n",
       "\n",
       "div.sk-estimator.fitted:hover .sk-estimator-doc-link.fitted:hover,\n",
       ".sk-estimator-doc-link.fitted:hover,\n",
       "div.sk-label-container:hover .sk-estimator-doc-link.fitted:hover,\n",
       ".sk-estimator-doc-link.fitted:hover {\n",
       "  /* fitted */\n",
       "  background-color: var(--sklearn-color-fitted-level-3);\n",
       "  color: var(--sklearn-color-background);\n",
       "  text-decoration: none;\n",
       "}\n",
       "\n",
       "/* Span, style for the box shown on hovering the info icon */\n",
       ".sk-estimator-doc-link span {\n",
       "  display: none;\n",
       "  z-index: 9999;\n",
       "  position: relative;\n",
       "  font-weight: normal;\n",
       "  right: .2ex;\n",
       "  padding: .5ex;\n",
       "  margin: .5ex;\n",
       "  width: min-content;\n",
       "  min-width: 20ex;\n",
       "  max-width: 50ex;\n",
       "  color: var(--sklearn-color-text);\n",
       "  box-shadow: 2pt 2pt 4pt #999;\n",
       "  /* unfitted */\n",
       "  background: var(--sklearn-color-unfitted-level-0);\n",
       "  border: .5pt solid var(--sklearn-color-unfitted-level-3);\n",
       "}\n",
       "\n",
       ".sk-estimator-doc-link.fitted span {\n",
       "  /* fitted */\n",
       "  background: var(--sklearn-color-fitted-level-0);\n",
       "  border: var(--sklearn-color-fitted-level-3);\n",
       "}\n",
       "\n",
       ".sk-estimator-doc-link:hover span {\n",
       "  display: block;\n",
       "}\n",
       "\n",
       "/* \"?\"-specific style due to the `<a>` HTML tag */\n",
       "\n",
       "#sk-container-id-1 a.estimator_doc_link {\n",
       "  float: right;\n",
       "  font-size: 1rem;\n",
       "  line-height: 1em;\n",
       "  font-family: monospace;\n",
       "  background-color: var(--sklearn-color-background);\n",
       "  border-radius: 1rem;\n",
       "  height: 1rem;\n",
       "  width: 1rem;\n",
       "  text-decoration: none;\n",
       "  /* unfitted */\n",
       "  color: var(--sklearn-color-unfitted-level-1);\n",
       "  border: var(--sklearn-color-unfitted-level-1) 1pt solid;\n",
       "}\n",
       "\n",
       "#sk-container-id-1 a.estimator_doc_link.fitted {\n",
       "  /* fitted */\n",
       "  border: var(--sklearn-color-fitted-level-1) 1pt solid;\n",
       "  color: var(--sklearn-color-fitted-level-1);\n",
       "}\n",
       "\n",
       "/* On hover */\n",
       "#sk-container-id-1 a.estimator_doc_link:hover {\n",
       "  /* unfitted */\n",
       "  background-color: var(--sklearn-color-unfitted-level-3);\n",
       "  color: var(--sklearn-color-background);\n",
       "  text-decoration: none;\n",
       "}\n",
       "\n",
       "#sk-container-id-1 a.estimator_doc_link.fitted:hover {\n",
       "  /* fitted */\n",
       "  background-color: var(--sklearn-color-fitted-level-3);\n",
       "}\n",
       "</style><div id=\"sk-container-id-1\" class=\"sk-top-container\"><div class=\"sk-text-repr-fallback\"><pre>LogisticRegression()</pre><b>In a Jupyter environment, please rerun this cell to show the HTML representation or trust the notebook. <br />On GitHub, the HTML representation is unable to render, please try loading this page with nbviewer.org.</b></div><div class=\"sk-container\" hidden><div class=\"sk-item\"><div class=\"sk-estimator fitted sk-toggleable\"><input class=\"sk-toggleable__control sk-hidden--visually\" id=\"sk-estimator-id-1\" type=\"checkbox\" checked><label for=\"sk-estimator-id-1\" class=\"sk-toggleable__label fitted sk-toggleable__label-arrow\"><div><div>LogisticRegression</div></div><div><a class=\"sk-estimator-doc-link fitted\" rel=\"noreferrer\" target=\"_blank\" href=\"https://scikit-learn.org/1.6/modules/generated/sklearn.linear_model.LogisticRegression.html\">?<span>Documentation for LogisticRegression</span></a><span class=\"sk-estimator-doc-link fitted\">i<span>Fitted</span></span></div></label><div class=\"sk-toggleable__content fitted\"><pre>LogisticRegression()</pre></div> </div></div></div></div>"
      ],
      "text/plain": [
       "LogisticRegression()"
      ]
     },
     "execution_count": 35,
     "metadata": {},
     "output_type": "execute_result"
    }
   ],
   "source": [
    "logreg.fit(x_train, y_train)"
   ]
  },
  {
   "cell_type": "code",
   "execution_count": 36,
   "id": "e2b0c4054bb4d4ff",
   "metadata": {
    "ExecuteTime": {
     "end_time": "2025-08-12T15:33:48.633328Z",
     "start_time": "2025-08-12T15:33:48.617480Z"
    }
   },
   "outputs": [],
   "source": [
    "y_pred_train = logreg.predict(x_train)"
   ]
  },
  {
   "cell_type": "code",
   "execution_count": 37,
   "id": "dc6ef436d1b92d4b",
   "metadata": {
    "ExecuteTime": {
     "end_time": "2025-08-12T15:33:48.680632Z",
     "start_time": "2025-08-12T15:33:48.665500Z"
    }
   },
   "outputs": [],
   "source": [
    "y_pred = logreg.predict(x_test)"
   ]
  },
  {
   "cell_type": "code",
   "execution_count": 38,
   "id": "518b3f8c4d05b1a2",
   "metadata": {
    "ExecuteTime": {
     "end_time": "2025-08-12T15:33:48.740548Z",
     "start_time": "2025-08-12T15:33:48.726971Z"
    }
   },
   "outputs": [],
   "source": [
    "Comparison_df = pd.DataFrame({'Actual': y_test, 'Predicted': y_pred})"
   ]
  },
  {
   "cell_type": "code",
   "execution_count": 39,
   "id": "2569708c85d30228",
   "metadata": {
    "ExecuteTime": {
     "end_time": "2025-08-12T15:33:48.787870Z",
     "start_time": "2025-08-12T15:33:48.774526Z"
    }
   },
   "outputs": [
    {
     "data": {
      "text/html": [
       "<div>\n",
       "<style scoped>\n",
       "    .dataframe tbody tr th:only-of-type {\n",
       "        vertical-align: middle;\n",
       "    }\n",
       "\n",
       "    .dataframe tbody tr th {\n",
       "        vertical-align: top;\n",
       "    }\n",
       "\n",
       "    .dataframe thead th {\n",
       "        text-align: right;\n",
       "    }\n",
       "</style>\n",
       "<table border=\"1\" class=\"dataframe\">\n",
       "  <thead>\n",
       "    <tr style=\"text-align: right;\">\n",
       "      <th></th>\n",
       "      <th>Actual</th>\n",
       "      <th>Predicted</th>\n",
       "    </tr>\n",
       "  </thead>\n",
       "  <tbody>\n",
       "    <tr>\n",
       "      <th>3210</th>\n",
       "      <td>0</td>\n",
       "      <td>1</td>\n",
       "    </tr>\n",
       "    <tr>\n",
       "      <th>2864</th>\n",
       "      <td>1</td>\n",
       "      <td>1</td>\n",
       "    </tr>\n",
       "    <tr>\n",
       "      <th>2241</th>\n",
       "      <td>1</td>\n",
       "      <td>1</td>\n",
       "    </tr>\n",
       "    <tr>\n",
       "      <th>1814</th>\n",
       "      <td>1</td>\n",
       "      <td>1</td>\n",
       "    </tr>\n",
       "    <tr>\n",
       "      <th>3537</th>\n",
       "      <td>1</td>\n",
       "      <td>1</td>\n",
       "    </tr>\n",
       "    <tr>\n",
       "      <th>...</th>\n",
       "      <td>...</td>\n",
       "      <td>...</td>\n",
       "    </tr>\n",
       "    <tr>\n",
       "      <th>429</th>\n",
       "      <td>1</td>\n",
       "      <td>1</td>\n",
       "    </tr>\n",
       "    <tr>\n",
       "      <th>3536</th>\n",
       "      <td>1</td>\n",
       "      <td>1</td>\n",
       "    </tr>\n",
       "    <tr>\n",
       "      <th>3248</th>\n",
       "      <td>0</td>\n",
       "      <td>1</td>\n",
       "    </tr>\n",
       "    <tr>\n",
       "      <th>3456</th>\n",
       "      <td>0</td>\n",
       "      <td>1</td>\n",
       "    </tr>\n",
       "    <tr>\n",
       "      <th>2120</th>\n",
       "      <td>1</td>\n",
       "      <td>1</td>\n",
       "    </tr>\n",
       "  </tbody>\n",
       "</table>\n",
       "<p>760 rows × 2 columns</p>\n",
       "</div>"
      ],
      "text/plain": [
       "      Actual  Predicted\n",
       "3210       0          1\n",
       "2864       1          1\n",
       "2241       1          1\n",
       "1814       1          1\n",
       "3537       1          1\n",
       "...      ...        ...\n",
       "429        1          1\n",
       "3536       1          1\n",
       "3248       0          1\n",
       "3456       0          1\n",
       "2120       1          1\n",
       "\n",
       "[760 rows x 2 columns]"
      ]
     },
     "execution_count": 39,
     "metadata": {},
     "output_type": "execute_result"
    }
   ],
   "source": [
    "Comparison_df"
   ]
  },
  {
   "cell_type": "code",
   "execution_count": 40,
   "id": "3004bd2ed7d3e834",
   "metadata": {
    "ExecuteTime": {
     "end_time": "2025-08-12T15:33:49.019084Z",
     "start_time": "2025-08-12T15:33:49.005528Z"
    }
   },
   "outputs": [
    {
     "name": "stdout",
     "output_type": "stream",
     "text": [
      "Logistic regression training accuracy is:  0.8571898650871997\n"
     ]
    }
   ],
   "source": [
    "from sklearn.metrics import accuracy_score\n",
    "\n",
    "accuracy = accuracy_score(y_train, y_pred_train)\n",
    "\n",
    "print (\"Logistic regression training accuracy is: \", accuracy)"
   ]
  },
  {
   "cell_type": "code",
   "execution_count": 41,
   "id": "925cee790aee29f3",
   "metadata": {
    "ExecuteTime": {
     "end_time": "2025-08-12T15:33:49.097504Z",
     "start_time": "2025-08-12T15:33:49.083772Z"
    }
   },
   "outputs": [
    {
     "name": "stdout",
     "output_type": "stream",
     "text": [
      "Logistic regression testing accuracy is:  0.8657894736842106\n"
     ]
    }
   ],
   "source": [
    "accuracy = accuracy_score(y_test, y_pred)\n",
    "\n",
    "print (\"Logistic regression testing accuracy is: \", accuracy)"
   ]
  },
  {
   "cell_type": "markdown",
   "id": "d82675e878929000",
   "metadata": {},
   "source": [
    "Classification Report for Logistic Regression"
   ]
  },
  {
   "cell_type": "code",
   "execution_count": 42,
   "id": "f0289ce2f12bfed9",
   "metadata": {
    "ExecuteTime": {
     "end_time": "2025-08-12T15:33:49.222850Z",
     "start_time": "2025-08-12T15:33:49.204531Z"
    }
   },
   "outputs": [
    {
     "name": "stdout",
     "output_type": "stream",
     "text": [
      "              precision    recall  f1-score   support\n",
      "\n",
      "           0       0.85      0.10      0.18       111\n",
      "           1       0.87      1.00      0.93       649\n",
      "\n",
      "    accuracy                           0.87       760\n",
      "   macro avg       0.86      0.55      0.55       760\n",
      "weighted avg       0.86      0.87      0.82       760\n",
      "\n"
     ]
    }
   ],
   "source": [
    "from sklearn.metrics import classification_report\n",
    "print(classification_report(y_test, y_pred))"
   ]
  },
  {
   "cell_type": "markdown",
   "id": "b96af2164715e09a",
   "metadata": {},
   "source": [
    "I used Logistic Regression model for get the Mortality Status and its accuracy is  87 %"
   ]
  },
  {
   "cell_type": "markdown",
   "id": "ba4617ceb9e3b401",
   "metadata": {},
   "source": [
    "* KNN Model"
   ]
  },
  {
   "cell_type": "code",
   "execution_count": 43,
   "id": "3078f4dfadf281d",
   "metadata": {
    "ExecuteTime": {
     "end_time": "2025-08-12T15:33:49.331560Z",
     "start_time": "2025-08-12T15:33:49.276196Z"
    }
   },
   "outputs": [],
   "source": [
    "from sklearn.neighbors import KNeighborsClassifier"
   ]
  },
  {
   "cell_type": "code",
   "execution_count": 44,
   "id": "79f0e828efa3884d",
   "metadata": {
    "ExecuteTime": {
     "end_time": "2025-08-12T15:33:49.378470Z",
     "start_time": "2025-08-12T15:33:49.364465Z"
    }
   },
   "outputs": [],
   "source": [
    "knn = KNeighborsClassifier(n_neighbors=9)"
   ]
  },
  {
   "cell_type": "code",
   "execution_count": 45,
   "id": "8aa41e486898806d",
   "metadata": {
    "ExecuteTime": {
     "end_time": "2025-08-12T15:33:49.426060Z",
     "start_time": "2025-08-12T15:33:49.412338Z"
    }
   },
   "outputs": [
    {
     "data": {
      "text/html": [
       "<style>#sk-container-id-2 {\n",
       "  /* Definition of color scheme common for light and dark mode */\n",
       "  --sklearn-color-text: #000;\n",
       "  --sklearn-color-text-muted: #666;\n",
       "  --sklearn-color-line: gray;\n",
       "  /* Definition of color scheme for unfitted estimators */\n",
       "  --sklearn-color-unfitted-level-0: #fff5e6;\n",
       "  --sklearn-color-unfitted-level-1: #f6e4d2;\n",
       "  --sklearn-color-unfitted-level-2: #ffe0b3;\n",
       "  --sklearn-color-unfitted-level-3: chocolate;\n",
       "  /* Definition of color scheme for fitted estimators */\n",
       "  --sklearn-color-fitted-level-0: #f0f8ff;\n",
       "  --sklearn-color-fitted-level-1: #d4ebff;\n",
       "  --sklearn-color-fitted-level-2: #b3dbfd;\n",
       "  --sklearn-color-fitted-level-3: cornflowerblue;\n",
       "\n",
       "  /* Specific color for light theme */\n",
       "  --sklearn-color-text-on-default-background: var(--sg-text-color, var(--theme-code-foreground, var(--jp-content-font-color1, black)));\n",
       "  --sklearn-color-background: var(--sg-background-color, var(--theme-background, var(--jp-layout-color0, white)));\n",
       "  --sklearn-color-border-box: var(--sg-text-color, var(--theme-code-foreground, var(--jp-content-font-color1, black)));\n",
       "  --sklearn-color-icon: #696969;\n",
       "\n",
       "  @media (prefers-color-scheme: dark) {\n",
       "    /* Redefinition of color scheme for dark theme */\n",
       "    --sklearn-color-text-on-default-background: var(--sg-text-color, var(--theme-code-foreground, var(--jp-content-font-color1, white)));\n",
       "    --sklearn-color-background: var(--sg-background-color, var(--theme-background, var(--jp-layout-color0, #111)));\n",
       "    --sklearn-color-border-box: var(--sg-text-color, var(--theme-code-foreground, var(--jp-content-font-color1, white)));\n",
       "    --sklearn-color-icon: #878787;\n",
       "  }\n",
       "}\n",
       "\n",
       "#sk-container-id-2 {\n",
       "  color: var(--sklearn-color-text);\n",
       "}\n",
       "\n",
       "#sk-container-id-2 pre {\n",
       "  padding: 0;\n",
       "}\n",
       "\n",
       "#sk-container-id-2 input.sk-hidden--visually {\n",
       "  border: 0;\n",
       "  clip: rect(1px 1px 1px 1px);\n",
       "  clip: rect(1px, 1px, 1px, 1px);\n",
       "  height: 1px;\n",
       "  margin: -1px;\n",
       "  overflow: hidden;\n",
       "  padding: 0;\n",
       "  position: absolute;\n",
       "  width: 1px;\n",
       "}\n",
       "\n",
       "#sk-container-id-2 div.sk-dashed-wrapped {\n",
       "  border: 1px dashed var(--sklearn-color-line);\n",
       "  margin: 0 0.4em 0.5em 0.4em;\n",
       "  box-sizing: border-box;\n",
       "  padding-bottom: 0.4em;\n",
       "  background-color: var(--sklearn-color-background);\n",
       "}\n",
       "\n",
       "#sk-container-id-2 div.sk-container {\n",
       "  /* jupyter's `normalize.less` sets `[hidden] { display: none; }`\n",
       "     but bootstrap.min.css set `[hidden] { display: none !important; }`\n",
       "     so we also need the `!important` here to be able to override the\n",
       "     default hidden behavior on the sphinx rendered scikit-learn.org.\n",
       "     See: https://github.com/scikit-learn/scikit-learn/issues/21755 */\n",
       "  display: inline-block !important;\n",
       "  position: relative;\n",
       "}\n",
       "\n",
       "#sk-container-id-2 div.sk-text-repr-fallback {\n",
       "  display: none;\n",
       "}\n",
       "\n",
       "div.sk-parallel-item,\n",
       "div.sk-serial,\n",
       "div.sk-item {\n",
       "  /* draw centered vertical line to link estimators */\n",
       "  background-image: linear-gradient(var(--sklearn-color-text-on-default-background), var(--sklearn-color-text-on-default-background));\n",
       "  background-size: 2px 100%;\n",
       "  background-repeat: no-repeat;\n",
       "  background-position: center center;\n",
       "}\n",
       "\n",
       "/* Parallel-specific style estimator block */\n",
       "\n",
       "#sk-container-id-2 div.sk-parallel-item::after {\n",
       "  content: \"\";\n",
       "  width: 100%;\n",
       "  border-bottom: 2px solid var(--sklearn-color-text-on-default-background);\n",
       "  flex-grow: 1;\n",
       "}\n",
       "\n",
       "#sk-container-id-2 div.sk-parallel {\n",
       "  display: flex;\n",
       "  align-items: stretch;\n",
       "  justify-content: center;\n",
       "  background-color: var(--sklearn-color-background);\n",
       "  position: relative;\n",
       "}\n",
       "\n",
       "#sk-container-id-2 div.sk-parallel-item {\n",
       "  display: flex;\n",
       "  flex-direction: column;\n",
       "}\n",
       "\n",
       "#sk-container-id-2 div.sk-parallel-item:first-child::after {\n",
       "  align-self: flex-end;\n",
       "  width: 50%;\n",
       "}\n",
       "\n",
       "#sk-container-id-2 div.sk-parallel-item:last-child::after {\n",
       "  align-self: flex-start;\n",
       "  width: 50%;\n",
       "}\n",
       "\n",
       "#sk-container-id-2 div.sk-parallel-item:only-child::after {\n",
       "  width: 0;\n",
       "}\n",
       "\n",
       "/* Serial-specific style estimator block */\n",
       "\n",
       "#sk-container-id-2 div.sk-serial {\n",
       "  display: flex;\n",
       "  flex-direction: column;\n",
       "  align-items: center;\n",
       "  background-color: var(--sklearn-color-background);\n",
       "  padding-right: 1em;\n",
       "  padding-left: 1em;\n",
       "}\n",
       "\n",
       "\n",
       "/* Toggleable style: style used for estimator/Pipeline/ColumnTransformer box that is\n",
       "clickable and can be expanded/collapsed.\n",
       "- Pipeline and ColumnTransformer use this feature and define the default style\n",
       "- Estimators will overwrite some part of the style using the `sk-estimator` class\n",
       "*/\n",
       "\n",
       "/* Pipeline and ColumnTransformer style (default) */\n",
       "\n",
       "#sk-container-id-2 div.sk-toggleable {\n",
       "  /* Default theme specific background. It is overwritten whether we have a\n",
       "  specific estimator or a Pipeline/ColumnTransformer */\n",
       "  background-color: var(--sklearn-color-background);\n",
       "}\n",
       "\n",
       "/* Toggleable label */\n",
       "#sk-container-id-2 label.sk-toggleable__label {\n",
       "  cursor: pointer;\n",
       "  display: flex;\n",
       "  width: 100%;\n",
       "  margin-bottom: 0;\n",
       "  padding: 0.5em;\n",
       "  box-sizing: border-box;\n",
       "  text-align: center;\n",
       "  align-items: start;\n",
       "  justify-content: space-between;\n",
       "  gap: 0.5em;\n",
       "}\n",
       "\n",
       "#sk-container-id-2 label.sk-toggleable__label .caption {\n",
       "  font-size: 0.6rem;\n",
       "  font-weight: lighter;\n",
       "  color: var(--sklearn-color-text-muted);\n",
       "}\n",
       "\n",
       "#sk-container-id-2 label.sk-toggleable__label-arrow:before {\n",
       "  /* Arrow on the left of the label */\n",
       "  content: \"▸\";\n",
       "  float: left;\n",
       "  margin-right: 0.25em;\n",
       "  color: var(--sklearn-color-icon);\n",
       "}\n",
       "\n",
       "#sk-container-id-2 label.sk-toggleable__label-arrow:hover:before {\n",
       "  color: var(--sklearn-color-text);\n",
       "}\n",
       "\n",
       "/* Toggleable content - dropdown */\n",
       "\n",
       "#sk-container-id-2 div.sk-toggleable__content {\n",
       "  max-height: 0;\n",
       "  max-width: 0;\n",
       "  overflow: hidden;\n",
       "  text-align: left;\n",
       "  /* unfitted */\n",
       "  background-color: var(--sklearn-color-unfitted-level-0);\n",
       "}\n",
       "\n",
       "#sk-container-id-2 div.sk-toggleable__content.fitted {\n",
       "  /* fitted */\n",
       "  background-color: var(--sklearn-color-fitted-level-0);\n",
       "}\n",
       "\n",
       "#sk-container-id-2 div.sk-toggleable__content pre {\n",
       "  margin: 0.2em;\n",
       "  border-radius: 0.25em;\n",
       "  color: var(--sklearn-color-text);\n",
       "  /* unfitted */\n",
       "  background-color: var(--sklearn-color-unfitted-level-0);\n",
       "}\n",
       "\n",
       "#sk-container-id-2 div.sk-toggleable__content.fitted pre {\n",
       "  /* unfitted */\n",
       "  background-color: var(--sklearn-color-fitted-level-0);\n",
       "}\n",
       "\n",
       "#sk-container-id-2 input.sk-toggleable__control:checked~div.sk-toggleable__content {\n",
       "  /* Expand drop-down */\n",
       "  max-height: 200px;\n",
       "  max-width: 100%;\n",
       "  overflow: auto;\n",
       "}\n",
       "\n",
       "#sk-container-id-2 input.sk-toggleable__control:checked~label.sk-toggleable__label-arrow:before {\n",
       "  content: \"▾\";\n",
       "}\n",
       "\n",
       "/* Pipeline/ColumnTransformer-specific style */\n",
       "\n",
       "#sk-container-id-2 div.sk-label input.sk-toggleable__control:checked~label.sk-toggleable__label {\n",
       "  color: var(--sklearn-color-text);\n",
       "  background-color: var(--sklearn-color-unfitted-level-2);\n",
       "}\n",
       "\n",
       "#sk-container-id-2 div.sk-label.fitted input.sk-toggleable__control:checked~label.sk-toggleable__label {\n",
       "  background-color: var(--sklearn-color-fitted-level-2);\n",
       "}\n",
       "\n",
       "/* Estimator-specific style */\n",
       "\n",
       "/* Colorize estimator box */\n",
       "#sk-container-id-2 div.sk-estimator input.sk-toggleable__control:checked~label.sk-toggleable__label {\n",
       "  /* unfitted */\n",
       "  background-color: var(--sklearn-color-unfitted-level-2);\n",
       "}\n",
       "\n",
       "#sk-container-id-2 div.sk-estimator.fitted input.sk-toggleable__control:checked~label.sk-toggleable__label {\n",
       "  /* fitted */\n",
       "  background-color: var(--sklearn-color-fitted-level-2);\n",
       "}\n",
       "\n",
       "#sk-container-id-2 div.sk-label label.sk-toggleable__label,\n",
       "#sk-container-id-2 div.sk-label label {\n",
       "  /* The background is the default theme color */\n",
       "  color: var(--sklearn-color-text-on-default-background);\n",
       "}\n",
       "\n",
       "/* On hover, darken the color of the background */\n",
       "#sk-container-id-2 div.sk-label:hover label.sk-toggleable__label {\n",
       "  color: var(--sklearn-color-text);\n",
       "  background-color: var(--sklearn-color-unfitted-level-2);\n",
       "}\n",
       "\n",
       "/* Label box, darken color on hover, fitted */\n",
       "#sk-container-id-2 div.sk-label.fitted:hover label.sk-toggleable__label.fitted {\n",
       "  color: var(--sklearn-color-text);\n",
       "  background-color: var(--sklearn-color-fitted-level-2);\n",
       "}\n",
       "\n",
       "/* Estimator label */\n",
       "\n",
       "#sk-container-id-2 div.sk-label label {\n",
       "  font-family: monospace;\n",
       "  font-weight: bold;\n",
       "  display: inline-block;\n",
       "  line-height: 1.2em;\n",
       "}\n",
       "\n",
       "#sk-container-id-2 div.sk-label-container {\n",
       "  text-align: center;\n",
       "}\n",
       "\n",
       "/* Estimator-specific */\n",
       "#sk-container-id-2 div.sk-estimator {\n",
       "  font-family: monospace;\n",
       "  border: 1px dotted var(--sklearn-color-border-box);\n",
       "  border-radius: 0.25em;\n",
       "  box-sizing: border-box;\n",
       "  margin-bottom: 0.5em;\n",
       "  /* unfitted */\n",
       "  background-color: var(--sklearn-color-unfitted-level-0);\n",
       "}\n",
       "\n",
       "#sk-container-id-2 div.sk-estimator.fitted {\n",
       "  /* fitted */\n",
       "  background-color: var(--sklearn-color-fitted-level-0);\n",
       "}\n",
       "\n",
       "/* on hover */\n",
       "#sk-container-id-2 div.sk-estimator:hover {\n",
       "  /* unfitted */\n",
       "  background-color: var(--sklearn-color-unfitted-level-2);\n",
       "}\n",
       "\n",
       "#sk-container-id-2 div.sk-estimator.fitted:hover {\n",
       "  /* fitted */\n",
       "  background-color: var(--sklearn-color-fitted-level-2);\n",
       "}\n",
       "\n",
       "/* Specification for estimator info (e.g. \"i\" and \"?\") */\n",
       "\n",
       "/* Common style for \"i\" and \"?\" */\n",
       "\n",
       ".sk-estimator-doc-link,\n",
       "a:link.sk-estimator-doc-link,\n",
       "a:visited.sk-estimator-doc-link {\n",
       "  float: right;\n",
       "  font-size: smaller;\n",
       "  line-height: 1em;\n",
       "  font-family: monospace;\n",
       "  background-color: var(--sklearn-color-background);\n",
       "  border-radius: 1em;\n",
       "  height: 1em;\n",
       "  width: 1em;\n",
       "  text-decoration: none !important;\n",
       "  margin-left: 0.5em;\n",
       "  text-align: center;\n",
       "  /* unfitted */\n",
       "  border: var(--sklearn-color-unfitted-level-1) 1pt solid;\n",
       "  color: var(--sklearn-color-unfitted-level-1);\n",
       "}\n",
       "\n",
       ".sk-estimator-doc-link.fitted,\n",
       "a:link.sk-estimator-doc-link.fitted,\n",
       "a:visited.sk-estimator-doc-link.fitted {\n",
       "  /* fitted */\n",
       "  border: var(--sklearn-color-fitted-level-1) 1pt solid;\n",
       "  color: var(--sklearn-color-fitted-level-1);\n",
       "}\n",
       "\n",
       "/* On hover */\n",
       "div.sk-estimator:hover .sk-estimator-doc-link:hover,\n",
       ".sk-estimator-doc-link:hover,\n",
       "div.sk-label-container:hover .sk-estimator-doc-link:hover,\n",
       ".sk-estimator-doc-link:hover {\n",
       "  /* unfitted */\n",
       "  background-color: var(--sklearn-color-unfitted-level-3);\n",
       "  color: var(--sklearn-color-background);\n",
       "  text-decoration: none;\n",
       "}\n",
       "\n",
       "div.sk-estimator.fitted:hover .sk-estimator-doc-link.fitted:hover,\n",
       ".sk-estimator-doc-link.fitted:hover,\n",
       "div.sk-label-container:hover .sk-estimator-doc-link.fitted:hover,\n",
       ".sk-estimator-doc-link.fitted:hover {\n",
       "  /* fitted */\n",
       "  background-color: var(--sklearn-color-fitted-level-3);\n",
       "  color: var(--sklearn-color-background);\n",
       "  text-decoration: none;\n",
       "}\n",
       "\n",
       "/* Span, style for the box shown on hovering the info icon */\n",
       ".sk-estimator-doc-link span {\n",
       "  display: none;\n",
       "  z-index: 9999;\n",
       "  position: relative;\n",
       "  font-weight: normal;\n",
       "  right: .2ex;\n",
       "  padding: .5ex;\n",
       "  margin: .5ex;\n",
       "  width: min-content;\n",
       "  min-width: 20ex;\n",
       "  max-width: 50ex;\n",
       "  color: var(--sklearn-color-text);\n",
       "  box-shadow: 2pt 2pt 4pt #999;\n",
       "  /* unfitted */\n",
       "  background: var(--sklearn-color-unfitted-level-0);\n",
       "  border: .5pt solid var(--sklearn-color-unfitted-level-3);\n",
       "}\n",
       "\n",
       ".sk-estimator-doc-link.fitted span {\n",
       "  /* fitted */\n",
       "  background: var(--sklearn-color-fitted-level-0);\n",
       "  border: var(--sklearn-color-fitted-level-3);\n",
       "}\n",
       "\n",
       ".sk-estimator-doc-link:hover span {\n",
       "  display: block;\n",
       "}\n",
       "\n",
       "/* \"?\"-specific style due to the `<a>` HTML tag */\n",
       "\n",
       "#sk-container-id-2 a.estimator_doc_link {\n",
       "  float: right;\n",
       "  font-size: 1rem;\n",
       "  line-height: 1em;\n",
       "  font-family: monospace;\n",
       "  background-color: var(--sklearn-color-background);\n",
       "  border-radius: 1rem;\n",
       "  height: 1rem;\n",
       "  width: 1rem;\n",
       "  text-decoration: none;\n",
       "  /* unfitted */\n",
       "  color: var(--sklearn-color-unfitted-level-1);\n",
       "  border: var(--sklearn-color-unfitted-level-1) 1pt solid;\n",
       "}\n",
       "\n",
       "#sk-container-id-2 a.estimator_doc_link.fitted {\n",
       "  /* fitted */\n",
       "  border: var(--sklearn-color-fitted-level-1) 1pt solid;\n",
       "  color: var(--sklearn-color-fitted-level-1);\n",
       "}\n",
       "\n",
       "/* On hover */\n",
       "#sk-container-id-2 a.estimator_doc_link:hover {\n",
       "  /* unfitted */\n",
       "  background-color: var(--sklearn-color-unfitted-level-3);\n",
       "  color: var(--sklearn-color-background);\n",
       "  text-decoration: none;\n",
       "}\n",
       "\n",
       "#sk-container-id-2 a.estimator_doc_link.fitted:hover {\n",
       "  /* fitted */\n",
       "  background-color: var(--sklearn-color-fitted-level-3);\n",
       "}\n",
       "</style><div id=\"sk-container-id-2\" class=\"sk-top-container\"><div class=\"sk-text-repr-fallback\"><pre>KNeighborsClassifier(n_neighbors=9)</pre><b>In a Jupyter environment, please rerun this cell to show the HTML representation or trust the notebook. <br />On GitHub, the HTML representation is unable to render, please try loading this page with nbviewer.org.</b></div><div class=\"sk-container\" hidden><div class=\"sk-item\"><div class=\"sk-estimator fitted sk-toggleable\"><input class=\"sk-toggleable__control sk-hidden--visually\" id=\"sk-estimator-id-2\" type=\"checkbox\" checked><label for=\"sk-estimator-id-2\" class=\"sk-toggleable__label fitted sk-toggleable__label-arrow\"><div><div>KNeighborsClassifier</div></div><div><a class=\"sk-estimator-doc-link fitted\" rel=\"noreferrer\" target=\"_blank\" href=\"https://scikit-learn.org/1.6/modules/generated/sklearn.neighbors.KNeighborsClassifier.html\">?<span>Documentation for KNeighborsClassifier</span></a><span class=\"sk-estimator-doc-link fitted\">i<span>Fitted</span></span></div></label><div class=\"sk-toggleable__content fitted\"><pre>KNeighborsClassifier(n_neighbors=9)</pre></div> </div></div></div></div>"
      ],
      "text/plain": [
       "KNeighborsClassifier(n_neighbors=9)"
      ]
     },
     "execution_count": 45,
     "metadata": {},
     "output_type": "execute_result"
    }
   ],
   "source": [
    "knn.fit(x_train,y_train)"
   ]
  },
  {
   "cell_type": "code",
   "execution_count": 46,
   "id": "1a81ab246102d2fa",
   "metadata": {
    "ExecuteTime": {
     "end_time": "2025-08-12T15:33:49.504424Z",
     "start_time": "2025-08-12T15:33:49.459124Z"
    }
   },
   "outputs": [
    {
     "name": "stdout",
     "output_type": "stream",
     "text": [
      "KNN Test Accuracy: 0.8486842105263158\n"
     ]
    }
   ],
   "source": [
    "y_pred_knn = knn.predict(x_test)\n",
    "print(\"KNN Test Accuracy:\", accuracy_score(y_test, y_pred_knn))"
   ]
  },
  {
   "cell_type": "code",
   "execution_count": 47,
   "id": "1def00d5dddd0718",
   "metadata": {
    "ExecuteTime": {
     "end_time": "2025-08-12T15:33:49.567350Z",
     "start_time": "2025-08-12T15:33:49.554372Z"
    }
   },
   "outputs": [
    {
     "name": "stdout",
     "output_type": "stream",
     "text": [
      "              precision    recall  f1-score   support\n",
      "\n",
      "           0       0.25      0.02      0.03       111\n",
      "           1       0.86      0.99      0.92       649\n",
      "\n",
      "    accuracy                           0.85       760\n",
      "   macro avg       0.55      0.50      0.48       760\n",
      "weighted avg       0.77      0.85      0.79       760\n",
      "\n"
     ]
    }
   ],
   "source": [
    "print(classification_report(y_test, y_pred_knn))"
   ]
  },
  {
   "cell_type": "code",
   "execution_count": 48,
   "id": "94a3ceb956a1a439",
   "metadata": {
    "ExecuteTime": {
     "end_time": "2025-08-12T15:33:49.614330Z",
     "start_time": "2025-08-12T15:33:49.600233Z"
    }
   },
   "outputs": [
    {
     "name": "stdout",
     "output_type": "stream",
     "text": [
      "<class 'pandas.core.frame.DataFrame'>\n",
      "RangeIndex: 3799 entries, 0 to 3798\n",
      "Data columns (total 14 columns):\n",
      " #   Column                  Non-Null Count  Dtype  \n",
      "---  ------                  --------------  -----  \n",
      " 0   Age                     3799 non-null   float64\n",
      " 1   T_Stage                 3799 non-null   int64  \n",
      " 2   N_Stage                 3799 non-null   int64  \n",
      " 3   6th_Stage               3799 non-null   int64  \n",
      " 4   Differentiated          3799 non-null   int64  \n",
      " 5   Grade                   3799 non-null   int64  \n",
      " 6   A_Stage                 3799 non-null   int64  \n",
      " 7   Tumor_Size              3799 non-null   float64\n",
      " 8   Estrogen_Status         3799 non-null   int64  \n",
      " 9   Progesterone_Status     3799 non-null   int64  \n",
      " 10  Regional_Node_Examined  3799 non-null   float64\n",
      " 11  Reginol_Node_Positive   3799 non-null   int64  \n",
      " 12  Survival_Months         3799 non-null   int64  \n",
      " 13  Mortality_Status        3799 non-null   int64  \n",
      "dtypes: float64(3), int64(11)\n",
      "memory usage: 415.6 KB\n"
     ]
    }
   ],
   "source": [
    "data.info()"
   ]
  },
  {
   "cell_type": "code",
   "execution_count": 49,
   "id": "8daad68233ca8b04",
   "metadata": {
    "ExecuteTime": {
     "end_time": "2025-08-12T15:33:49.708731Z",
     "start_time": "2025-08-12T15:33:49.695814Z"
    }
   },
   "outputs": [
    {
     "name": "stdout",
     "output_type": "stream",
     "text": [
      "(3799, 11) (3799,)\n"
     ]
    }
   ],
   "source": [
    "print(x.shape, y.shape)"
   ]
  },
  {
   "cell_type": "code",
   "execution_count": 50,
   "id": "c317b90da93f8359",
   "metadata": {
    "ExecuteTime": {
     "end_time": "2025-08-12T15:33:49.752659Z",
     "start_time": "2025-08-12T15:33:49.739135Z"
    }
   },
   "outputs": [],
   "source": [
    "y = data['Mortality_Status']"
   ]
  },
  {
   "cell_type": "code",
   "execution_count": 51,
   "id": "8fee44ea7aa5636f",
   "metadata": {
    "ExecuteTime": {
     "end_time": "2025-08-12T15:33:49.845249Z",
     "start_time": "2025-08-12T15:33:49.831520Z"
    }
   },
   "outputs": [
    {
     "name": "stdout",
     "output_type": "stream",
     "text": [
      "(3799,)\n"
     ]
    }
   ],
   "source": [
    "print(y.shape)\n"
   ]
  },
  {
   "cell_type": "code",
   "execution_count": 52,
   "id": "911f7d6b561c08a2",
   "metadata": {
    "ExecuteTime": {
     "end_time": "2025-08-12T15:33:49.875928Z",
     "start_time": "2025-08-12T15:33:49.859549Z"
    }
   },
   "outputs": [],
   "source": [
    "df_clean  = data.dropna(subset=x.columns.tolist() + ['Mortality_Status'])\n",
    "x = df_clean[x.columns]\n",
    "y = df_clean['Mortality_Status']"
   ]
  },
  {
   "cell_type": "code",
   "execution_count": 53,
   "id": "9a64bfc0c6365ace",
   "metadata": {
    "ExecuteTime": {
     "end_time": "2025-08-12T15:33:49.939107Z",
     "start_time": "2025-08-12T15:33:49.923958Z"
    }
   },
   "outputs": [
    {
     "name": "stdout",
     "output_type": "stream",
     "text": [
      "(3799, 11) (3799,)\n"
     ]
    }
   ],
   "source": [
    "print(x.shape, y.shape)"
   ]
  },
  {
   "cell_type": "code",
   "execution_count": 54,
   "id": "5e933d9f824f89b6",
   "metadata": {
    "ExecuteTime": {
     "end_time": "2025-08-12T15:33:50.048364Z",
     "start_time": "2025-08-12T15:33:50.034401Z"
    }
   },
   "outputs": [],
   "source": [
    "from sklearn.model_selection import train_test_split\n",
    "\n",
    "x_train, x_test, y_train, y_test = train_test_split(x, y, test_size=0.2, random_state=42)\n"
   ]
  },
  {
   "cell_type": "code",
   "execution_count": 55,
   "id": "7f60a7156fc82fe6",
   "metadata": {
    "ExecuteTime": {
     "end_time": "2025-08-12T15:33:50.079199Z",
     "start_time": "2025-08-12T15:33:50.059251Z"
    }
   },
   "outputs": [],
   "source": [
    "knn = KNeighborsClassifier(n_neighbors=9)"
   ]
  },
  {
   "cell_type": "code",
   "execution_count": 56,
   "id": "af09f02fc9b58330",
   "metadata": {
    "ExecuteTime": {
     "end_time": "2025-08-12T15:33:50.142453Z",
     "start_time": "2025-08-12T15:33:50.128768Z"
    }
   },
   "outputs": [
    {
     "data": {
      "text/html": [
       "<style>#sk-container-id-3 {\n",
       "  /* Definition of color scheme common for light and dark mode */\n",
       "  --sklearn-color-text: #000;\n",
       "  --sklearn-color-text-muted: #666;\n",
       "  --sklearn-color-line: gray;\n",
       "  /* Definition of color scheme for unfitted estimators */\n",
       "  --sklearn-color-unfitted-level-0: #fff5e6;\n",
       "  --sklearn-color-unfitted-level-1: #f6e4d2;\n",
       "  --sklearn-color-unfitted-level-2: #ffe0b3;\n",
       "  --sklearn-color-unfitted-level-3: chocolate;\n",
       "  /* Definition of color scheme for fitted estimators */\n",
       "  --sklearn-color-fitted-level-0: #f0f8ff;\n",
       "  --sklearn-color-fitted-level-1: #d4ebff;\n",
       "  --sklearn-color-fitted-level-2: #b3dbfd;\n",
       "  --sklearn-color-fitted-level-3: cornflowerblue;\n",
       "\n",
       "  /* Specific color for light theme */\n",
       "  --sklearn-color-text-on-default-background: var(--sg-text-color, var(--theme-code-foreground, var(--jp-content-font-color1, black)));\n",
       "  --sklearn-color-background: var(--sg-background-color, var(--theme-background, var(--jp-layout-color0, white)));\n",
       "  --sklearn-color-border-box: var(--sg-text-color, var(--theme-code-foreground, var(--jp-content-font-color1, black)));\n",
       "  --sklearn-color-icon: #696969;\n",
       "\n",
       "  @media (prefers-color-scheme: dark) {\n",
       "    /* Redefinition of color scheme for dark theme */\n",
       "    --sklearn-color-text-on-default-background: var(--sg-text-color, var(--theme-code-foreground, var(--jp-content-font-color1, white)));\n",
       "    --sklearn-color-background: var(--sg-background-color, var(--theme-background, var(--jp-layout-color0, #111)));\n",
       "    --sklearn-color-border-box: var(--sg-text-color, var(--theme-code-foreground, var(--jp-content-font-color1, white)));\n",
       "    --sklearn-color-icon: #878787;\n",
       "  }\n",
       "}\n",
       "\n",
       "#sk-container-id-3 {\n",
       "  color: var(--sklearn-color-text);\n",
       "}\n",
       "\n",
       "#sk-container-id-3 pre {\n",
       "  padding: 0;\n",
       "}\n",
       "\n",
       "#sk-container-id-3 input.sk-hidden--visually {\n",
       "  border: 0;\n",
       "  clip: rect(1px 1px 1px 1px);\n",
       "  clip: rect(1px, 1px, 1px, 1px);\n",
       "  height: 1px;\n",
       "  margin: -1px;\n",
       "  overflow: hidden;\n",
       "  padding: 0;\n",
       "  position: absolute;\n",
       "  width: 1px;\n",
       "}\n",
       "\n",
       "#sk-container-id-3 div.sk-dashed-wrapped {\n",
       "  border: 1px dashed var(--sklearn-color-line);\n",
       "  margin: 0 0.4em 0.5em 0.4em;\n",
       "  box-sizing: border-box;\n",
       "  padding-bottom: 0.4em;\n",
       "  background-color: var(--sklearn-color-background);\n",
       "}\n",
       "\n",
       "#sk-container-id-3 div.sk-container {\n",
       "  /* jupyter's `normalize.less` sets `[hidden] { display: none; }`\n",
       "     but bootstrap.min.css set `[hidden] { display: none !important; }`\n",
       "     so we also need the `!important` here to be able to override the\n",
       "     default hidden behavior on the sphinx rendered scikit-learn.org.\n",
       "     See: https://github.com/scikit-learn/scikit-learn/issues/21755 */\n",
       "  display: inline-block !important;\n",
       "  position: relative;\n",
       "}\n",
       "\n",
       "#sk-container-id-3 div.sk-text-repr-fallback {\n",
       "  display: none;\n",
       "}\n",
       "\n",
       "div.sk-parallel-item,\n",
       "div.sk-serial,\n",
       "div.sk-item {\n",
       "  /* draw centered vertical line to link estimators */\n",
       "  background-image: linear-gradient(var(--sklearn-color-text-on-default-background), var(--sklearn-color-text-on-default-background));\n",
       "  background-size: 2px 100%;\n",
       "  background-repeat: no-repeat;\n",
       "  background-position: center center;\n",
       "}\n",
       "\n",
       "/* Parallel-specific style estimator block */\n",
       "\n",
       "#sk-container-id-3 div.sk-parallel-item::after {\n",
       "  content: \"\";\n",
       "  width: 100%;\n",
       "  border-bottom: 2px solid var(--sklearn-color-text-on-default-background);\n",
       "  flex-grow: 1;\n",
       "}\n",
       "\n",
       "#sk-container-id-3 div.sk-parallel {\n",
       "  display: flex;\n",
       "  align-items: stretch;\n",
       "  justify-content: center;\n",
       "  background-color: var(--sklearn-color-background);\n",
       "  position: relative;\n",
       "}\n",
       "\n",
       "#sk-container-id-3 div.sk-parallel-item {\n",
       "  display: flex;\n",
       "  flex-direction: column;\n",
       "}\n",
       "\n",
       "#sk-container-id-3 div.sk-parallel-item:first-child::after {\n",
       "  align-self: flex-end;\n",
       "  width: 50%;\n",
       "}\n",
       "\n",
       "#sk-container-id-3 div.sk-parallel-item:last-child::after {\n",
       "  align-self: flex-start;\n",
       "  width: 50%;\n",
       "}\n",
       "\n",
       "#sk-container-id-3 div.sk-parallel-item:only-child::after {\n",
       "  width: 0;\n",
       "}\n",
       "\n",
       "/* Serial-specific style estimator block */\n",
       "\n",
       "#sk-container-id-3 div.sk-serial {\n",
       "  display: flex;\n",
       "  flex-direction: column;\n",
       "  align-items: center;\n",
       "  background-color: var(--sklearn-color-background);\n",
       "  padding-right: 1em;\n",
       "  padding-left: 1em;\n",
       "}\n",
       "\n",
       "\n",
       "/* Toggleable style: style used for estimator/Pipeline/ColumnTransformer box that is\n",
       "clickable and can be expanded/collapsed.\n",
       "- Pipeline and ColumnTransformer use this feature and define the default style\n",
       "- Estimators will overwrite some part of the style using the `sk-estimator` class\n",
       "*/\n",
       "\n",
       "/* Pipeline and ColumnTransformer style (default) */\n",
       "\n",
       "#sk-container-id-3 div.sk-toggleable {\n",
       "  /* Default theme specific background. It is overwritten whether we have a\n",
       "  specific estimator or a Pipeline/ColumnTransformer */\n",
       "  background-color: var(--sklearn-color-background);\n",
       "}\n",
       "\n",
       "/* Toggleable label */\n",
       "#sk-container-id-3 label.sk-toggleable__label {\n",
       "  cursor: pointer;\n",
       "  display: flex;\n",
       "  width: 100%;\n",
       "  margin-bottom: 0;\n",
       "  padding: 0.5em;\n",
       "  box-sizing: border-box;\n",
       "  text-align: center;\n",
       "  align-items: start;\n",
       "  justify-content: space-between;\n",
       "  gap: 0.5em;\n",
       "}\n",
       "\n",
       "#sk-container-id-3 label.sk-toggleable__label .caption {\n",
       "  font-size: 0.6rem;\n",
       "  font-weight: lighter;\n",
       "  color: var(--sklearn-color-text-muted);\n",
       "}\n",
       "\n",
       "#sk-container-id-3 label.sk-toggleable__label-arrow:before {\n",
       "  /* Arrow on the left of the label */\n",
       "  content: \"▸\";\n",
       "  float: left;\n",
       "  margin-right: 0.25em;\n",
       "  color: var(--sklearn-color-icon);\n",
       "}\n",
       "\n",
       "#sk-container-id-3 label.sk-toggleable__label-arrow:hover:before {\n",
       "  color: var(--sklearn-color-text);\n",
       "}\n",
       "\n",
       "/* Toggleable content - dropdown */\n",
       "\n",
       "#sk-container-id-3 div.sk-toggleable__content {\n",
       "  max-height: 0;\n",
       "  max-width: 0;\n",
       "  overflow: hidden;\n",
       "  text-align: left;\n",
       "  /* unfitted */\n",
       "  background-color: var(--sklearn-color-unfitted-level-0);\n",
       "}\n",
       "\n",
       "#sk-container-id-3 div.sk-toggleable__content.fitted {\n",
       "  /* fitted */\n",
       "  background-color: var(--sklearn-color-fitted-level-0);\n",
       "}\n",
       "\n",
       "#sk-container-id-3 div.sk-toggleable__content pre {\n",
       "  margin: 0.2em;\n",
       "  border-radius: 0.25em;\n",
       "  color: var(--sklearn-color-text);\n",
       "  /* unfitted */\n",
       "  background-color: var(--sklearn-color-unfitted-level-0);\n",
       "}\n",
       "\n",
       "#sk-container-id-3 div.sk-toggleable__content.fitted pre {\n",
       "  /* unfitted */\n",
       "  background-color: var(--sklearn-color-fitted-level-0);\n",
       "}\n",
       "\n",
       "#sk-container-id-3 input.sk-toggleable__control:checked~div.sk-toggleable__content {\n",
       "  /* Expand drop-down */\n",
       "  max-height: 200px;\n",
       "  max-width: 100%;\n",
       "  overflow: auto;\n",
       "}\n",
       "\n",
       "#sk-container-id-3 input.sk-toggleable__control:checked~label.sk-toggleable__label-arrow:before {\n",
       "  content: \"▾\";\n",
       "}\n",
       "\n",
       "/* Pipeline/ColumnTransformer-specific style */\n",
       "\n",
       "#sk-container-id-3 div.sk-label input.sk-toggleable__control:checked~label.sk-toggleable__label {\n",
       "  color: var(--sklearn-color-text);\n",
       "  background-color: var(--sklearn-color-unfitted-level-2);\n",
       "}\n",
       "\n",
       "#sk-container-id-3 div.sk-label.fitted input.sk-toggleable__control:checked~label.sk-toggleable__label {\n",
       "  background-color: var(--sklearn-color-fitted-level-2);\n",
       "}\n",
       "\n",
       "/* Estimator-specific style */\n",
       "\n",
       "/* Colorize estimator box */\n",
       "#sk-container-id-3 div.sk-estimator input.sk-toggleable__control:checked~label.sk-toggleable__label {\n",
       "  /* unfitted */\n",
       "  background-color: var(--sklearn-color-unfitted-level-2);\n",
       "}\n",
       "\n",
       "#sk-container-id-3 div.sk-estimator.fitted input.sk-toggleable__control:checked~label.sk-toggleable__label {\n",
       "  /* fitted */\n",
       "  background-color: var(--sklearn-color-fitted-level-2);\n",
       "}\n",
       "\n",
       "#sk-container-id-3 div.sk-label label.sk-toggleable__label,\n",
       "#sk-container-id-3 div.sk-label label {\n",
       "  /* The background is the default theme color */\n",
       "  color: var(--sklearn-color-text-on-default-background);\n",
       "}\n",
       "\n",
       "/* On hover, darken the color of the background */\n",
       "#sk-container-id-3 div.sk-label:hover label.sk-toggleable__label {\n",
       "  color: var(--sklearn-color-text);\n",
       "  background-color: var(--sklearn-color-unfitted-level-2);\n",
       "}\n",
       "\n",
       "/* Label box, darken color on hover, fitted */\n",
       "#sk-container-id-3 div.sk-label.fitted:hover label.sk-toggleable__label.fitted {\n",
       "  color: var(--sklearn-color-text);\n",
       "  background-color: var(--sklearn-color-fitted-level-2);\n",
       "}\n",
       "\n",
       "/* Estimator label */\n",
       "\n",
       "#sk-container-id-3 div.sk-label label {\n",
       "  font-family: monospace;\n",
       "  font-weight: bold;\n",
       "  display: inline-block;\n",
       "  line-height: 1.2em;\n",
       "}\n",
       "\n",
       "#sk-container-id-3 div.sk-label-container {\n",
       "  text-align: center;\n",
       "}\n",
       "\n",
       "/* Estimator-specific */\n",
       "#sk-container-id-3 div.sk-estimator {\n",
       "  font-family: monospace;\n",
       "  border: 1px dotted var(--sklearn-color-border-box);\n",
       "  border-radius: 0.25em;\n",
       "  box-sizing: border-box;\n",
       "  margin-bottom: 0.5em;\n",
       "  /* unfitted */\n",
       "  background-color: var(--sklearn-color-unfitted-level-0);\n",
       "}\n",
       "\n",
       "#sk-container-id-3 div.sk-estimator.fitted {\n",
       "  /* fitted */\n",
       "  background-color: var(--sklearn-color-fitted-level-0);\n",
       "}\n",
       "\n",
       "/* on hover */\n",
       "#sk-container-id-3 div.sk-estimator:hover {\n",
       "  /* unfitted */\n",
       "  background-color: var(--sklearn-color-unfitted-level-2);\n",
       "}\n",
       "\n",
       "#sk-container-id-3 div.sk-estimator.fitted:hover {\n",
       "  /* fitted */\n",
       "  background-color: var(--sklearn-color-fitted-level-2);\n",
       "}\n",
       "\n",
       "/* Specification for estimator info (e.g. \"i\" and \"?\") */\n",
       "\n",
       "/* Common style for \"i\" and \"?\" */\n",
       "\n",
       ".sk-estimator-doc-link,\n",
       "a:link.sk-estimator-doc-link,\n",
       "a:visited.sk-estimator-doc-link {\n",
       "  float: right;\n",
       "  font-size: smaller;\n",
       "  line-height: 1em;\n",
       "  font-family: monospace;\n",
       "  background-color: var(--sklearn-color-background);\n",
       "  border-radius: 1em;\n",
       "  height: 1em;\n",
       "  width: 1em;\n",
       "  text-decoration: none !important;\n",
       "  margin-left: 0.5em;\n",
       "  text-align: center;\n",
       "  /* unfitted */\n",
       "  border: var(--sklearn-color-unfitted-level-1) 1pt solid;\n",
       "  color: var(--sklearn-color-unfitted-level-1);\n",
       "}\n",
       "\n",
       ".sk-estimator-doc-link.fitted,\n",
       "a:link.sk-estimator-doc-link.fitted,\n",
       "a:visited.sk-estimator-doc-link.fitted {\n",
       "  /* fitted */\n",
       "  border: var(--sklearn-color-fitted-level-1) 1pt solid;\n",
       "  color: var(--sklearn-color-fitted-level-1);\n",
       "}\n",
       "\n",
       "/* On hover */\n",
       "div.sk-estimator:hover .sk-estimator-doc-link:hover,\n",
       ".sk-estimator-doc-link:hover,\n",
       "div.sk-label-container:hover .sk-estimator-doc-link:hover,\n",
       ".sk-estimator-doc-link:hover {\n",
       "  /* unfitted */\n",
       "  background-color: var(--sklearn-color-unfitted-level-3);\n",
       "  color: var(--sklearn-color-background);\n",
       "  text-decoration: none;\n",
       "}\n",
       "\n",
       "div.sk-estimator.fitted:hover .sk-estimator-doc-link.fitted:hover,\n",
       ".sk-estimator-doc-link.fitted:hover,\n",
       "div.sk-label-container:hover .sk-estimator-doc-link.fitted:hover,\n",
       ".sk-estimator-doc-link.fitted:hover {\n",
       "  /* fitted */\n",
       "  background-color: var(--sklearn-color-fitted-level-3);\n",
       "  color: var(--sklearn-color-background);\n",
       "  text-decoration: none;\n",
       "}\n",
       "\n",
       "/* Span, style for the box shown on hovering the info icon */\n",
       ".sk-estimator-doc-link span {\n",
       "  display: none;\n",
       "  z-index: 9999;\n",
       "  position: relative;\n",
       "  font-weight: normal;\n",
       "  right: .2ex;\n",
       "  padding: .5ex;\n",
       "  margin: .5ex;\n",
       "  width: min-content;\n",
       "  min-width: 20ex;\n",
       "  max-width: 50ex;\n",
       "  color: var(--sklearn-color-text);\n",
       "  box-shadow: 2pt 2pt 4pt #999;\n",
       "  /* unfitted */\n",
       "  background: var(--sklearn-color-unfitted-level-0);\n",
       "  border: .5pt solid var(--sklearn-color-unfitted-level-3);\n",
       "}\n",
       "\n",
       ".sk-estimator-doc-link.fitted span {\n",
       "  /* fitted */\n",
       "  background: var(--sklearn-color-fitted-level-0);\n",
       "  border: var(--sklearn-color-fitted-level-3);\n",
       "}\n",
       "\n",
       ".sk-estimator-doc-link:hover span {\n",
       "  display: block;\n",
       "}\n",
       "\n",
       "/* \"?\"-specific style due to the `<a>` HTML tag */\n",
       "\n",
       "#sk-container-id-3 a.estimator_doc_link {\n",
       "  float: right;\n",
       "  font-size: 1rem;\n",
       "  line-height: 1em;\n",
       "  font-family: monospace;\n",
       "  background-color: var(--sklearn-color-background);\n",
       "  border-radius: 1rem;\n",
       "  height: 1rem;\n",
       "  width: 1rem;\n",
       "  text-decoration: none;\n",
       "  /* unfitted */\n",
       "  color: var(--sklearn-color-unfitted-level-1);\n",
       "  border: var(--sklearn-color-unfitted-level-1) 1pt solid;\n",
       "}\n",
       "\n",
       "#sk-container-id-3 a.estimator_doc_link.fitted {\n",
       "  /* fitted */\n",
       "  border: var(--sklearn-color-fitted-level-1) 1pt solid;\n",
       "  color: var(--sklearn-color-fitted-level-1);\n",
       "}\n",
       "\n",
       "/* On hover */\n",
       "#sk-container-id-3 a.estimator_doc_link:hover {\n",
       "  /* unfitted */\n",
       "  background-color: var(--sklearn-color-unfitted-level-3);\n",
       "  color: var(--sklearn-color-background);\n",
       "  text-decoration: none;\n",
       "}\n",
       "\n",
       "#sk-container-id-3 a.estimator_doc_link.fitted:hover {\n",
       "  /* fitted */\n",
       "  background-color: var(--sklearn-color-fitted-level-3);\n",
       "}\n",
       "</style><div id=\"sk-container-id-3\" class=\"sk-top-container\"><div class=\"sk-text-repr-fallback\"><pre>KNeighborsClassifier(n_neighbors=9)</pre><b>In a Jupyter environment, please rerun this cell to show the HTML representation or trust the notebook. <br />On GitHub, the HTML representation is unable to render, please try loading this page with nbviewer.org.</b></div><div class=\"sk-container\" hidden><div class=\"sk-item\"><div class=\"sk-estimator fitted sk-toggleable\"><input class=\"sk-toggleable__control sk-hidden--visually\" id=\"sk-estimator-id-3\" type=\"checkbox\" checked><label for=\"sk-estimator-id-3\" class=\"sk-toggleable__label fitted sk-toggleable__label-arrow\"><div><div>KNeighborsClassifier</div></div><div><a class=\"sk-estimator-doc-link fitted\" rel=\"noreferrer\" target=\"_blank\" href=\"https://scikit-learn.org/1.6/modules/generated/sklearn.neighbors.KNeighborsClassifier.html\">?<span>Documentation for KNeighborsClassifier</span></a><span class=\"sk-estimator-doc-link fitted\">i<span>Fitted</span></span></div></label><div class=\"sk-toggleable__content fitted\"><pre>KNeighborsClassifier(n_neighbors=9)</pre></div> </div></div></div></div>"
      ],
      "text/plain": [
       "KNeighborsClassifier(n_neighbors=9)"
      ]
     },
     "execution_count": 56,
     "metadata": {},
     "output_type": "execute_result"
    }
   ],
   "source": [
    "knn.fit(x_train,y_train)"
   ]
  },
  {
   "cell_type": "code",
   "execution_count": 57,
   "id": "1c470d9f094a36c4",
   "metadata": {
    "ExecuteTime": {
     "end_time": "2025-08-12T15:33:50.209494Z",
     "start_time": "2025-08-12T15:33:50.175425Z"
    }
   },
   "outputs": [
    {
     "name": "stdout",
     "output_type": "stream",
     "text": [
      "KNN Test Accuracy: 0.8539473684210527\n"
     ]
    }
   ],
   "source": [
    "y_pred_knn = knn.predict(x_test)\n",
    "print(\"KNN Test Accuracy:\", accuracy_score(y_test, y_pred_knn))"
   ]
  },
  {
   "cell_type": "code",
   "execution_count": 58,
   "id": "d5b568cd10415de8",
   "metadata": {
    "ExecuteTime": {
     "end_time": "2025-08-12T15:33:50.257050Z",
     "start_time": "2025-08-12T15:33:50.245560Z"
    }
   },
   "outputs": [],
   "source": [
    "from sklearn.metrics import classification_report"
   ]
  },
  {
   "cell_type": "code",
   "execution_count": 59,
   "id": "a0b246fdd6da6b87",
   "metadata": {
    "ExecuteTime": {
     "end_time": "2025-08-12T15:33:50.314132Z",
     "start_time": "2025-08-12T15:33:50.291537Z"
    }
   },
   "outputs": [
    {
     "name": "stdout",
     "output_type": "stream",
     "text": [
      "              precision    recall  f1-score   support\n",
      "\n",
      "           0       0.28      0.07      0.11       100\n",
      "           1       0.87      0.97      0.92       660\n",
      "\n",
      "    accuracy                           0.85       760\n",
      "   macro avg       0.58      0.52      0.52       760\n",
      "weighted avg       0.80      0.85      0.81       760\n",
      "\n"
     ]
    }
   ],
   "source": [
    "print(classification_report(y_test, y_pred_knn))"
   ]
  },
  {
   "cell_type": "markdown",
   "id": "e8b8c4a362716c8c",
   "metadata": {},
   "source": [
    "KNN model's Accuracy is 85 %"
   ]
  },
  {
   "cell_type": "markdown",
   "id": "4260f0b248588d67",
   "metadata": {},
   "source": [
    "* Naive Bayes Model"
   ]
  },
  {
   "cell_type": "code",
   "execution_count": 60,
   "id": "e13aee72af79bb2e",
   "metadata": {
    "ExecuteTime": {
     "end_time": "2025-08-12T15:33:50.376111Z",
     "start_time": "2025-08-12T15:33:50.360930Z"
    }
   },
   "outputs": [],
   "source": [
    "from sklearn.naive_bayes import GaussianNB"
   ]
  },
  {
   "cell_type": "code",
   "execution_count": 61,
   "id": "7be53762a78f61f9",
   "metadata": {
    "ExecuteTime": {
     "end_time": "2025-08-12T15:33:50.472070Z",
     "start_time": "2025-08-12T15:33:50.457999Z"
    }
   },
   "outputs": [
    {
     "name": "stdout",
     "output_type": "stream",
     "text": [
      "Naive Bayes Test Accuracy: 0.8026315789473685\n"
     ]
    }
   ],
   "source": [
    "nb = GaussianNB()\n",
    "nb.fit(x_train, y_train)\n",
    "y_pred_nb = nb.predict(x_test)\n",
    "print(\"Naive Bayes Test Accuracy:\", accuracy_score(y_test, y_pred_nb))"
   ]
  },
  {
   "cell_type": "code",
   "execution_count": 62,
   "id": "a8191f255992a60a",
   "metadata": {
    "ExecuteTime": {
     "end_time": "2025-08-12T15:33:50.544991Z",
     "start_time": "2025-08-12T15:33:50.529184Z"
    }
   },
   "outputs": [
    {
     "name": "stdout",
     "output_type": "stream",
     "text": [
      "              precision    recall  f1-score   support\n",
      "\n",
      "           0       0.28      0.32      0.30       100\n",
      "           1       0.89      0.88      0.89       660\n",
      "\n",
      "    accuracy                           0.80       760\n",
      "   macro avg       0.59      0.60      0.59       760\n",
      "weighted avg       0.81      0.80      0.81       760\n",
      "\n"
     ]
    }
   ],
   "source": [
    "print(classification_report(y_test, y_pred_nb))"
   ]
  },
  {
   "cell_type": "markdown",
   "id": "5fec6ef9bbffc3bf",
   "metadata": {},
   "source": [
    "Naive Bayes Model's accuracy is 80 %"
   ]
  },
  {
   "cell_type": "markdown",
   "id": "65936eacb324cdb4",
   "metadata": {},
   "source": [
    "So i chosen Logistic regression model for Hyper parameter tunning"
   ]
  },
  {
   "cell_type": "code",
   "execution_count": 63,
   "id": "468845185ef4db97",
   "metadata": {
    "ExecuteTime": {
     "end_time": "2025-08-12T15:33:53.676531Z",
     "start_time": "2025-08-12T15:33:50.561029Z"
    }
   },
   "outputs": [
    {
     "name": "stderr",
     "output_type": "stream",
     "text": [
      "c:\\Users\\Anjula\\AppData\\Local\\Programs\\Python\\Python311\\Lib\\site-packages\\sklearn\\linear_model\\_sag.py:348: ConvergenceWarning:\n",
      "\n",
      "The max_iter was reached which means the coef_ did not converge\n",
      "\n",
      "c:\\Users\\Anjula\\AppData\\Local\\Programs\\Python\\Python311\\Lib\\site-packages\\sklearn\\linear_model\\_sag.py:348: ConvergenceWarning:\n",
      "\n",
      "The max_iter was reached which means the coef_ did not converge\n",
      "\n",
      "c:\\Users\\Anjula\\AppData\\Local\\Programs\\Python\\Python311\\Lib\\site-packages\\sklearn\\linear_model\\_sag.py:348: ConvergenceWarning:\n",
      "\n",
      "The max_iter was reached which means the coef_ did not converge\n",
      "\n",
      "c:\\Users\\Anjula\\AppData\\Local\\Programs\\Python\\Python311\\Lib\\site-packages\\sklearn\\linear_model\\_sag.py:348: ConvergenceWarning:\n",
      "\n",
      "The max_iter was reached which means the coef_ did not converge\n",
      "\n",
      "c:\\Users\\Anjula\\AppData\\Local\\Programs\\Python\\Python311\\Lib\\site-packages\\sklearn\\linear_model\\_sag.py:348: ConvergenceWarning:\n",
      "\n",
      "The max_iter was reached which means the coef_ did not converge\n",
      "\n",
      "c:\\Users\\Anjula\\AppData\\Local\\Programs\\Python\\Python311\\Lib\\site-packages\\sklearn\\linear_model\\_sag.py:348: ConvergenceWarning:\n",
      "\n",
      "The max_iter was reached which means the coef_ did not converge\n",
      "\n",
      "c:\\Users\\Anjula\\AppData\\Local\\Programs\\Python\\Python311\\Lib\\site-packages\\sklearn\\linear_model\\_sag.py:348: ConvergenceWarning:\n",
      "\n",
      "The max_iter was reached which means the coef_ did not converge\n",
      "\n",
      "c:\\Users\\Anjula\\AppData\\Local\\Programs\\Python\\Python311\\Lib\\site-packages\\sklearn\\linear_model\\_sag.py:348: ConvergenceWarning:\n",
      "\n",
      "The max_iter was reached which means the coef_ did not converge\n",
      "\n",
      "c:\\Users\\Anjula\\AppData\\Local\\Programs\\Python\\Python311\\Lib\\site-packages\\sklearn\\linear_model\\_sag.py:348: ConvergenceWarning:\n",
      "\n",
      "The max_iter was reached which means the coef_ did not converge\n",
      "\n",
      "c:\\Users\\Anjula\\AppData\\Local\\Programs\\Python\\Python311\\Lib\\site-packages\\sklearn\\linear_model\\_sag.py:348: ConvergenceWarning:\n",
      "\n",
      "The max_iter was reached which means the coef_ did not converge\n",
      "\n",
      "c:\\Users\\Anjula\\AppData\\Local\\Programs\\Python\\Python311\\Lib\\site-packages\\sklearn\\linear_model\\_sag.py:348: ConvergenceWarning:\n",
      "\n",
      "The max_iter was reached which means the coef_ did not converge\n",
      "\n",
      "c:\\Users\\Anjula\\AppData\\Local\\Programs\\Python\\Python311\\Lib\\site-packages\\sklearn\\linear_model\\_sag.py:348: ConvergenceWarning:\n",
      "\n",
      "The max_iter was reached which means the coef_ did not converge\n",
      "\n",
      "c:\\Users\\Anjula\\AppData\\Local\\Programs\\Python\\Python311\\Lib\\site-packages\\sklearn\\linear_model\\_sag.py:348: ConvergenceWarning:\n",
      "\n",
      "The max_iter was reached which means the coef_ did not converge\n",
      "\n",
      "c:\\Users\\Anjula\\AppData\\Local\\Programs\\Python\\Python311\\Lib\\site-packages\\sklearn\\linear_model\\_sag.py:348: ConvergenceWarning:\n",
      "\n",
      "The max_iter was reached which means the coef_ did not converge\n",
      "\n",
      "c:\\Users\\Anjula\\AppData\\Local\\Programs\\Python\\Python311\\Lib\\site-packages\\sklearn\\linear_model\\_sag.py:348: ConvergenceWarning:\n",
      "\n",
      "The max_iter was reached which means the coef_ did not converge\n",
      "\n",
      "c:\\Users\\Anjula\\AppData\\Local\\Programs\\Python\\Python311\\Lib\\site-packages\\sklearn\\linear_model\\_sag.py:348: ConvergenceWarning:\n",
      "\n",
      "The max_iter was reached which means the coef_ did not converge\n",
      "\n",
      "c:\\Users\\Anjula\\AppData\\Local\\Programs\\Python\\Python311\\Lib\\site-packages\\sklearn\\linear_model\\_sag.py:348: ConvergenceWarning:\n",
      "\n",
      "The max_iter was reached which means the coef_ did not converge\n",
      "\n",
      "c:\\Users\\Anjula\\AppData\\Local\\Programs\\Python\\Python311\\Lib\\site-packages\\sklearn\\linear_model\\_sag.py:348: ConvergenceWarning:\n",
      "\n",
      "The max_iter was reached which means the coef_ did not converge\n",
      "\n",
      "c:\\Users\\Anjula\\AppData\\Local\\Programs\\Python\\Python311\\Lib\\site-packages\\sklearn\\linear_model\\_sag.py:348: ConvergenceWarning:\n",
      "\n",
      "The max_iter was reached which means the coef_ did not converge\n",
      "\n",
      "c:\\Users\\Anjula\\AppData\\Local\\Programs\\Python\\Python311\\Lib\\site-packages\\sklearn\\linear_model\\_sag.py:348: ConvergenceWarning:\n",
      "\n",
      "The max_iter was reached which means the coef_ did not converge\n",
      "\n",
      "c:\\Users\\Anjula\\AppData\\Local\\Programs\\Python\\Python311\\Lib\\site-packages\\sklearn\\linear_model\\_sag.py:348: ConvergenceWarning:\n",
      "\n",
      "The max_iter was reached which means the coef_ did not converge\n",
      "\n",
      "c:\\Users\\Anjula\\AppData\\Local\\Programs\\Python\\Python311\\Lib\\site-packages\\sklearn\\linear_model\\_sag.py:348: ConvergenceWarning:\n",
      "\n",
      "The max_iter was reached which means the coef_ did not converge\n",
      "\n",
      "c:\\Users\\Anjula\\AppData\\Local\\Programs\\Python\\Python311\\Lib\\site-packages\\sklearn\\linear_model\\_sag.py:348: ConvergenceWarning:\n",
      "\n",
      "The max_iter was reached which means the coef_ did not converge\n",
      "\n",
      "c:\\Users\\Anjula\\AppData\\Local\\Programs\\Python\\Python311\\Lib\\site-packages\\sklearn\\linear_model\\_sag.py:348: ConvergenceWarning:\n",
      "\n",
      "The max_iter was reached which means the coef_ did not converge\n",
      "\n",
      "c:\\Users\\Anjula\\AppData\\Local\\Programs\\Python\\Python311\\Lib\\site-packages\\sklearn\\linear_model\\_sag.py:348: ConvergenceWarning:\n",
      "\n",
      "The max_iter was reached which means the coef_ did not converge\n",
      "\n",
      "c:\\Users\\Anjula\\AppData\\Local\\Programs\\Python\\Python311\\Lib\\site-packages\\sklearn\\linear_model\\_sag.py:348: ConvergenceWarning:\n",
      "\n",
      "The max_iter was reached which means the coef_ did not converge\n",
      "\n",
      "c:\\Users\\Anjula\\AppData\\Local\\Programs\\Python\\Python311\\Lib\\site-packages\\sklearn\\linear_model\\_sag.py:348: ConvergenceWarning:\n",
      "\n",
      "The max_iter was reached which means the coef_ did not converge\n",
      "\n",
      "c:\\Users\\Anjula\\AppData\\Local\\Programs\\Python\\Python311\\Lib\\site-packages\\sklearn\\linear_model\\_sag.py:348: ConvergenceWarning:\n",
      "\n",
      "The max_iter was reached which means the coef_ did not converge\n",
      "\n",
      "c:\\Users\\Anjula\\AppData\\Local\\Programs\\Python\\Python311\\Lib\\site-packages\\sklearn\\linear_model\\_sag.py:348: ConvergenceWarning:\n",
      "\n",
      "The max_iter was reached which means the coef_ did not converge\n",
      "\n",
      "c:\\Users\\Anjula\\AppData\\Local\\Programs\\Python\\Python311\\Lib\\site-packages\\sklearn\\linear_model\\_sag.py:348: ConvergenceWarning:\n",
      "\n",
      "The max_iter was reached which means the coef_ did not converge\n",
      "\n",
      "c:\\Users\\Anjula\\AppData\\Local\\Programs\\Python\\Python311\\Lib\\site-packages\\sklearn\\linear_model\\_sag.py:348: ConvergenceWarning:\n",
      "\n",
      "The max_iter was reached which means the coef_ did not converge\n",
      "\n",
      "c:\\Users\\Anjula\\AppData\\Local\\Programs\\Python\\Python311\\Lib\\site-packages\\sklearn\\linear_model\\_sag.py:348: ConvergenceWarning:\n",
      "\n",
      "The max_iter was reached which means the coef_ did not converge\n",
      "\n",
      "c:\\Users\\Anjula\\AppData\\Local\\Programs\\Python\\Python311\\Lib\\site-packages\\sklearn\\linear_model\\_sag.py:348: ConvergenceWarning:\n",
      "\n",
      "The max_iter was reached which means the coef_ did not converge\n",
      "\n",
      "c:\\Users\\Anjula\\AppData\\Local\\Programs\\Python\\Python311\\Lib\\site-packages\\sklearn\\linear_model\\_sag.py:348: ConvergenceWarning:\n",
      "\n",
      "The max_iter was reached which means the coef_ did not converge\n",
      "\n",
      "c:\\Users\\Anjula\\AppData\\Local\\Programs\\Python\\Python311\\Lib\\site-packages\\sklearn\\linear_model\\_sag.py:348: ConvergenceWarning:\n",
      "\n",
      "The max_iter was reached which means the coef_ did not converge\n",
      "\n",
      "c:\\Users\\Anjula\\AppData\\Local\\Programs\\Python\\Python311\\Lib\\site-packages\\sklearn\\linear_model\\_sag.py:348: ConvergenceWarning:\n",
      "\n",
      "The max_iter was reached which means the coef_ did not converge\n",
      "\n",
      "c:\\Users\\Anjula\\AppData\\Local\\Programs\\Python\\Python311\\Lib\\site-packages\\sklearn\\linear_model\\_sag.py:348: ConvergenceWarning:\n",
      "\n",
      "The max_iter was reached which means the coef_ did not converge\n",
      "\n"
     ]
    },
    {
     "name": "stdout",
     "output_type": "stream",
     "text": [
      "Best LR Parameters: {'C': 10, 'penalty': 'l1', 'solver': 'liblinear'}\n"
     ]
    },
    {
     "name": "stderr",
     "output_type": "stream",
     "text": [
      "c:\\Users\\Anjula\\AppData\\Local\\Programs\\Python\\Python311\\Lib\\site-packages\\sklearn\\linear_model\\_sag.py:348: ConvergenceWarning:\n",
      "\n",
      "The max_iter was reached which means the coef_ did not converge\n",
      "\n",
      "c:\\Users\\Anjula\\AppData\\Local\\Programs\\Python\\Python311\\Lib\\site-packages\\sklearn\\linear_model\\_sag.py:348: ConvergenceWarning:\n",
      "\n",
      "The max_iter was reached which means the coef_ did not converge\n",
      "\n",
      "c:\\Users\\Anjula\\AppData\\Local\\Programs\\Python\\Python311\\Lib\\site-packages\\sklearn\\linear_model\\_sag.py:348: ConvergenceWarning:\n",
      "\n",
      "The max_iter was reached which means the coef_ did not converge\n",
      "\n"
     ]
    }
   ],
   "source": [
    "from sklearn.model_selection import GridSearchCV\n",
    "\n",
    "# Using Hyperparameter Optimization using grid search for Logistic Regression as it's the best performing model\n",
    "# Hyperparameter grid\n",
    "param_grid = {\n",
    "    'C': [0.01, 0.1, 1, 10],             # Regularization strength\n",
    "    'penalty': ['l1', 'l2'],             # Penalty type\n",
    "    'solver': ['liblinear', 'saga']      # Solvers supporting both penalties\n",
    "}\n",
    "\n",
    "# Find the best fitting model\n",
    "lr_gscv = GridSearchCV(LogisticRegression(), param_grid, cv=5)\n",
    "\n",
    "# Fit the test data to the optimized model\n",
    "lr_gscv.fit(x, y)\n",
    "\n",
    "print(\"Best LR Parameters:\", lr_gscv.best_params_)"
   ]
  },
  {
   "cell_type": "code",
   "execution_count": 64,
   "id": "68248606dd9e208f",
   "metadata": {
    "ExecuteTime": {
     "end_time": "2025-08-12T15:33:53.723711Z",
     "start_time": "2025-08-12T15:33:53.708051Z"
    }
   },
   "outputs": [
    {
     "name": "stdout",
     "output_type": "stream",
     "text": [
      "Optimized Logistic Regression Test Accuracy: 0.8657894736842106\n"
     ]
    }
   ],
   "source": [
    "y_pred_tuned_lr = lr_gscv.predict(x_test)\n",
    "print(\"Optimized Logistic Regression Test Accuracy:\", accuracy_score(y_test, y_pred_tuned_lr))"
   ]
  },
  {
   "cell_type": "markdown",
   "id": "bb66b8e25aff3e85",
   "metadata": {},
   "source": [
    "Not that much change from that hyper parameter tunning"
   ]
  },
  {
   "cell_type": "markdown",
   "id": "d4bafc0bb9cf535f",
   "metadata": {},
   "source": [
    "let's try KNN model hyperparameter tunning because it's somewhat equal than logistic regression's accuracy model"
   ]
  },
  {
   "cell_type": "code",
   "execution_count": 65,
   "id": "ace090b2233420dc",
   "metadata": {
    "ExecuteTime": {
     "end_time": "2025-08-12T15:33:59.234401Z",
     "start_time": "2025-08-12T15:33:53.755469Z"
    }
   },
   "outputs": [
    {
     "name": "stdout",
     "output_type": "stream",
     "text": [
      "Best KNN Parameters: {'metric': 'manhattan', 'n_neighbors': np.int64(11)}\n"
     ]
    }
   ],
   "source": [
    "# Hyperparameter Optimization (KNN)\n",
    "import numpy as np\n",
    "param_grid = {\n",
    "    'n_neighbors': np.arange(1, 25),\n",
    "    'metric': ['euclidean', 'manhattan']\n",
    "    }\n",
    "\n",
    "# Find the best fitting model with pre defined K values\n",
    "knn_gscv = GridSearchCV(KNeighborsClassifier(), param_grid, cv=5)\n",
    "\n",
    "# Fit the test data to the optimized model\n",
    "knn_gscv.fit(x_train,y_train)\n",
    "\n",
    "print(\"Best KNN Parameters:\", knn_gscv.best_params_)"
   ]
  },
  {
   "cell_type": "code",
   "execution_count": 66,
   "id": "8d31ce42c2207cf8",
   "metadata": {
    "ExecuteTime": {
     "end_time": "2025-08-12T15:33:59.297220Z",
     "start_time": "2025-08-12T15:33:59.265267Z"
    }
   },
   "outputs": [
    {
     "name": "stdout",
     "output_type": "stream",
     "text": [
      "Best KNN Test Accuracy: 0.8631578947368421\n"
     ]
    }
   ],
   "source": [
    "#Prediction using best model with the best accuracy\n",
    "y_pred = knn_gscv.predict(x_test)\n",
    "print(\"Best KNN Test Accuracy:\", accuracy_score(y_test, y_pred))"
   ]
  },
  {
   "cell_type": "markdown",
   "id": "490ecb74cbc4b881",
   "metadata": {},
   "source": [
    "Logistic Regression is the best model for Get Mortality status"
   ]
  },
  {
   "cell_type": "markdown",
   "id": "c945a1c8c4c572d9",
   "metadata": {},
   "source": [
    "lets use ensemble learning like ensembling Logistic regression model amd KNN model"
   ]
  },
  {
   "cell_type": "code",
   "execution_count": 67,
   "id": "29b75cde3df9a902",
   "metadata": {
    "ExecuteTime": {
     "end_time": "2025-08-12T15:33:59.418681Z",
     "start_time": "2025-08-12T15:33:59.373091Z"
    }
   },
   "outputs": [],
   "source": [
    "from sklearn.ensemble import VotingClassifier\n",
    "\n",
    "base_learners=[('KNN', KNeighborsClassifier(n_neighbors=11, metric='manhattan')),\n",
    " ('LR', LogisticRegression(C=10, penalty='l1', solver='liblinear'))]\n",
    "\n",
    "ensemble_learner = VotingClassifier(base_learners, voting='soft')"
   ]
  },
  {
   "cell_type": "code",
   "execution_count": 68,
   "id": "a36d22dd29a916c9",
   "metadata": {
    "ExecuteTime": {
     "end_time": "2025-08-12T15:33:59.480754Z",
     "start_time": "2025-08-12T15:33:59.424247Z"
    }
   },
   "outputs": [
    {
     "name": "stdout",
     "output_type": "stream",
     "text": [
      "The voting ensemble classifier accuracy is:  0.868421052631579\n"
     ]
    }
   ],
   "source": [
    "# Training voting ensemble model and getting Predictions\n",
    "ensemble_learner.fit(x_train, y_train)\n",
    "y_pred_ensemble_learner = ensemble_learner.predict(x_test)\n",
    "\n",
    "# Checking the accuracy levels of ensemble model predictions\n",
    "ensemble_learner_accuracy = accuracy_score(y_test, y_pred_ensemble_learner)\n",
    "print (\"The voting ensemble classifier accuracy is: \", ensemble_learner_accuracy)"
   ]
  },
  {
   "cell_type": "code",
   "execution_count": 69,
   "id": "5a10612ca8108954",
   "metadata": {
    "ExecuteTime": {
     "end_time": "2025-08-12T15:33:59.543212Z",
     "start_time": "2025-08-12T15:33:59.528071Z"
    }
   },
   "outputs": [
    {
     "name": "stdout",
     "output_type": "stream",
     "text": [
      "Ensemble Learner Classification Report:\n",
      "               precision    recall  f1-score   support\n",
      "\n",
      "           0       0.50      0.04      0.07       100\n",
      "           1       0.87      0.99      0.93       660\n",
      "\n",
      "    accuracy                           0.87       760\n",
      "   macro avg       0.69      0.52      0.50       760\n",
      "weighted avg       0.82      0.87      0.82       760\n",
      "\n"
     ]
    }
   ],
   "source": [
    "print(\"Ensemble Learner Classification Report:\\n\", classification_report(y_test, y_pred_ensemble_learner))"
   ]
  },
  {
   "cell_type": "code",
   "execution_count": 70,
   "id": "ff56fc6e1ddd6518",
   "metadata": {
    "ExecuteTime": {
     "end_time": "2025-08-12T15:33:59.589703Z",
     "start_time": "2025-08-12T15:33:59.577575Z"
    }
   },
   "outputs": [
    {
     "data": {
      "text/plain": [
       "Mortality_Status\n",
       "1    3245\n",
       "0     554\n",
       "Name: count, dtype: int64"
      ]
     },
     "execution_count": 70,
     "metadata": {},
     "output_type": "execute_result"
    }
   ],
   "source": [
    "data['Mortality_Status'].value_counts()"
   ]
  },
  {
   "cell_type": "code",
   "execution_count": 71,
   "id": "cdc2feec7194ca08",
   "metadata": {
    "ExecuteTime": {
     "end_time": "2025-08-12T15:33:59.681854Z",
     "start_time": "2025-08-12T15:33:59.667576Z"
    }
   },
   "outputs": [],
   "source": [
    "from sklearn.ensemble import RandomForestClassifier\n",
    "\n",
    "model = RandomForestClassifier(class_weight='balanced')\n"
   ]
  },
  {
   "cell_type": "code",
   "execution_count": 74,
   "id": "89800b2d",
   "metadata": {},
   "outputs": [],
   "source": [
    "from sklearn.ensemble import RandomForestClassifier\n",
    "\n",
    "model = RandomForestClassifier()\n",
    "model.fit(x_train, y_train)   # ✅ Train it\n",
    "y_probs = model.predict_proba(x_test)[:, 1]\n"
   ]
  },
  {
   "cell_type": "code",
   "execution_count": 75,
   "id": "1a97f924f1ad1ea4",
   "metadata": {
    "ExecuteTime": {
     "end_time": "2025-08-12T15:34:00.244121Z",
     "start_time": "2025-08-12T15:33:59.756637Z"
    }
   },
   "outputs": [],
   "source": [
    "y_probs = model.predict_proba(x_test)[:, 1]\n",
    "y_pred = (y_probs > 0.4).astype(int)"
   ]
  },
  {
   "cell_type": "code",
   "execution_count": 76,
   "id": "ff41a2c530b01949",
   "metadata": {
    "ExecuteTime": {
     "end_time": "2025-08-12T15:44:02.135287Z",
     "start_time": "2025-08-12T15:44:01.835541Z"
    }
   },
   "outputs": [],
   "source": [
    "from sklearn.ensemble import RandomForestClassifier\n",
    "\n",
    "model = RandomForestClassifier()\n",
    "model.fit(x_train, y_train)  # ✅ Fit before using\n",
    "predictions = model.predict(x_test)\n"
   ]
  },
  {
   "cell_type": "code",
   "execution_count": 77,
   "id": "d985fa967bed055c",
   "metadata": {
    "ExecuteTime": {
     "end_time": "2025-08-12T15:44:58.970511Z",
     "start_time": "2025-08-12T15:44:58.907003Z"
    }
   },
   "outputs": [
    {
     "data": {
      "text/plain": [
       "['breast_cancer_model.pkl']"
      ]
     },
     "execution_count": 77,
     "metadata": {},
     "output_type": "execute_result"
    }
   ],
   "source": [
    "import joblib\n",
    "joblib.dump(model, \"breast_cancer_model.pkl\")"
   ]
  }
 ],
 "metadata": {
  "kernelspec": {
   "display_name": "Python 3",
   "language": "python",
   "name": "python3"
  },
  "language_info": {
   "codemirror_mode": {
    "name": "ipython",
    "version": 3
   },
   "file_extension": ".py",
   "mimetype": "text/x-python",
   "name": "python",
   "nbconvert_exporter": "python",
   "pygments_lexer": "ipython3",
   "version": "3.11.2"
  }
 },
 "nbformat": 5,
 "nbformat_minor": 9
}
